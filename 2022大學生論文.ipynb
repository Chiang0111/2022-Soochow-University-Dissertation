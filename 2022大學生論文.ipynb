{
  "nbformat": 4,
  "nbformat_minor": 0,
  "metadata": {
    "colab": {
      "provenance": []
    },
    "kernelspec": {
      "name": "python3",
      "display_name": "Python 3"
    },
    "language_info": {
      "name": "python"
    }
  },
  "cells": [
    {
      "cell_type": "markdown",
      "source": [
        "#以太幣預測\n",
        "-y -> ETH\n",
        "\n",
        "-x-> other tokens"
      ],
      "metadata": {
        "id": "dSXIYXnGC8bP"
      }
    },
    {
      "cell_type": "markdown",
      "source": [
        "#BTC對ETH的影響"
      ],
      "metadata": {
        "id": "LQxCukSM79LJ"
      }
    },
    {
      "cell_type": "code",
      "source": [
        "!pip install yfinance"
      ],
      "metadata": {
        "colab": {
          "base_uri": "https://localhost:8080/"
        },
        "id": "-zHWCmfghKfq",
        "outputId": "a357ae94-5360-4971-f6e7-b5733b30c3a5"
      },
      "execution_count": null,
      "outputs": [
        {
          "output_type": "stream",
          "name": "stdout",
          "text": [
            "Looking in indexes: https://pypi.org/simple, https://us-python.pkg.dev/colab-wheels/public/simple/\n",
            "Collecting yfinance\n",
            "  Downloading yfinance-0.1.74-py2.py3-none-any.whl (27 kB)\n",
            "Requirement already satisfied: lxml>=4.5.1 in /usr/local/lib/python3.7/dist-packages (from yfinance) (4.9.1)\n",
            "Requirement already satisfied: multitasking>=0.0.7 in /usr/local/lib/python3.7/dist-packages (from yfinance) (0.0.11)\n",
            "Requirement already satisfied: pandas>=0.24.0 in /usr/local/lib/python3.7/dist-packages (from yfinance) (1.3.5)\n",
            "Requirement already satisfied: numpy>=1.15 in /usr/local/lib/python3.7/dist-packages (from yfinance) (1.21.6)\n",
            "Collecting requests>=2.26\n",
            "  Downloading requests-2.28.1-py3-none-any.whl (62 kB)\n",
            "\u001b[K     |████████████████████████████████| 62 kB 1.8 MB/s \n",
            "\u001b[?25hRequirement already satisfied: python-dateutil>=2.7.3 in /usr/local/lib/python3.7/dist-packages (from pandas>=0.24.0->yfinance) (2.8.2)\n",
            "Requirement already satisfied: pytz>=2017.3 in /usr/local/lib/python3.7/dist-packages (from pandas>=0.24.0->yfinance) (2022.2.1)\n",
            "Requirement already satisfied: six>=1.5 in /usr/local/lib/python3.7/dist-packages (from python-dateutil>=2.7.3->pandas>=0.24.0->yfinance) (1.15.0)\n",
            "Requirement already satisfied: idna<4,>=2.5 in /usr/local/lib/python3.7/dist-packages (from requests>=2.26->yfinance) (2.10)\n",
            "Requirement already satisfied: charset-normalizer<3,>=2 in /usr/local/lib/python3.7/dist-packages (from requests>=2.26->yfinance) (2.1.0)\n",
            "Requirement already satisfied: certifi>=2017.4.17 in /usr/local/lib/python3.7/dist-packages (from requests>=2.26->yfinance) (2022.6.15)\n",
            "Requirement already satisfied: urllib3<1.27,>=1.21.1 in /usr/local/lib/python3.7/dist-packages (from requests>=2.26->yfinance) (1.24.3)\n",
            "Installing collected packages: requests, yfinance\n",
            "  Attempting uninstall: requests\n",
            "    Found existing installation: requests 2.23.0\n",
            "    Uninstalling requests-2.23.0:\n",
            "      Successfully uninstalled requests-2.23.0\n",
            "Successfully installed requests-2.28.1 yfinance-0.1.74\n"
          ]
        }
      ]
    },
    {
      "cell_type": "code",
      "source": [
        "import numpy as np\n",
        "import pandas as pd\n",
        "import matplotlib.pyplot as plt\n",
        "import statsmodels.api as sm\n",
        "import yfinance as yf"
      ],
      "metadata": {
        "id": "na5MSq3QaB7i"
      },
      "execution_count": null,
      "outputs": []
    },
    {
      "cell_type": "code",
      "source": [
        "#yfinance下載以太幣比特幣歷史數據\n",
        "data_1 = yf.Ticker('ETH-USD').history(period='max')\n",
        "data_1.info()\n",
        "data_2 = yf.Ticker('BTC-USD').history(period='max')\n",
        "data_2.info()"
      ],
      "metadata": {
        "colab": {
          "base_uri": "https://localhost:8080/"
        },
        "id": "ReuexXdbmKlQ",
        "outputId": "436801eb-dfbf-4a86-dd4d-da228f0c20b3"
      },
      "execution_count": null,
      "outputs": [
        {
          "output_type": "stream",
          "name": "stdout",
          "text": [
            "<class 'pandas.core.frame.DataFrame'>\n",
            "DatetimeIndex: 1749 entries, 2017-11-09 to 2022-08-23\n",
            "Data columns (total 7 columns):\n",
            " #   Column        Non-Null Count  Dtype  \n",
            "---  ------        --------------  -----  \n",
            " 0   Open          1749 non-null   float64\n",
            " 1   High          1749 non-null   float64\n",
            " 2   Low           1749 non-null   float64\n",
            " 3   Close         1749 non-null   float64\n",
            " 4   Volume        1749 non-null   int64  \n",
            " 5   Dividends     1749 non-null   int64  \n",
            " 6   Stock Splits  1749 non-null   int64  \n",
            "dtypes: float64(4), int64(3)\n",
            "memory usage: 109.3 KB\n",
            "<class 'pandas.core.frame.DataFrame'>\n",
            "DatetimeIndex: 2898 entries, 2014-09-17 to 2022-08-23\n",
            "Data columns (total 7 columns):\n",
            " #   Column        Non-Null Count  Dtype  \n",
            "---  ------        --------------  -----  \n",
            " 0   Open          2898 non-null   float64\n",
            " 1   High          2898 non-null   float64\n",
            " 2   Low           2898 non-null   float64\n",
            " 3   Close         2898 non-null   float64\n",
            " 4   Volume        2898 non-null   int64  \n",
            " 5   Dividends     2898 non-null   int64  \n",
            " 6   Stock Splits  2898 non-null   int64  \n",
            "dtypes: float64(4), int64(3)\n",
            "memory usage: 181.1 KB\n"
          ]
        }
      ]
    },
    {
      "cell_type": "code",
      "source": [
        "#設定數據期間2017到2021年\n",
        "data_1 = data_1['2017':'2021']\n",
        "data_1.info()\n",
        "data_2 = data_2['2017':'2021']\n",
        "data_2.info()"
      ],
      "metadata": {
        "colab": {
          "base_uri": "https://localhost:8080/"
        },
        "id": "4uizJeAMEV3K",
        "outputId": "4431fdb0-5139-4ea5-cebb-bced9936ac3f"
      },
      "execution_count": null,
      "outputs": [
        {
          "output_type": "stream",
          "name": "stdout",
          "text": [
            "<class 'pandas.core.frame.DataFrame'>\n",
            "DatetimeIndex: 1514 entries, 2017-11-09 to 2021-12-31\n",
            "Data columns (total 7 columns):\n",
            " #   Column        Non-Null Count  Dtype  \n",
            "---  ------        --------------  -----  \n",
            " 0   Open          1514 non-null   float64\n",
            " 1   High          1514 non-null   float64\n",
            " 2   Low           1514 non-null   float64\n",
            " 3   Close         1514 non-null   float64\n",
            " 4   Volume        1514 non-null   int64  \n",
            " 5   Dividends     1514 non-null   int64  \n",
            " 6   Stock Splits  1514 non-null   int64  \n",
            "dtypes: float64(4), int64(3)\n",
            "memory usage: 94.6 KB\n",
            "<class 'pandas.core.frame.DataFrame'>\n",
            "DatetimeIndex: 1826 entries, 2017-01-01 to 2021-12-31\n",
            "Data columns (total 7 columns):\n",
            " #   Column        Non-Null Count  Dtype  \n",
            "---  ------        --------------  -----  \n",
            " 0   Open          1826 non-null   float64\n",
            " 1   High          1826 non-null   float64\n",
            " 2   Low           1826 non-null   float64\n",
            " 3   Close         1826 non-null   float64\n",
            " 4   Volume        1826 non-null   int64  \n",
            " 5   Dividends     1826 non-null   int64  \n",
            " 6   Stock Splits  1826 non-null   int64  \n",
            "dtypes: float64(4), int64(3)\n",
            "memory usage: 114.1 KB\n"
          ]
        }
      ]
    },
    {
      "cell_type": "code",
      "source": [
        "#收盤價\n",
        "data_1 = data_1[['Close','Volume']]\n",
        "data_1.columns = ['price_eth','volume_eth']\n",
        "data_1.info()\n",
        "data_2 = data_2[['Close','Volume']]\n",
        "data_2.columns = ['price_btc','volume_btc']\n",
        "data_2.info()"
      ],
      "metadata": {
        "colab": {
          "base_uri": "https://localhost:8080/"
        },
        "id": "wv5c8GHNEtEb",
        "outputId": "d0b0cac2-c870-4d72-d14f-2b9388a847c9"
      },
      "execution_count": null,
      "outputs": [
        {
          "output_type": "stream",
          "name": "stdout",
          "text": [
            "<class 'pandas.core.frame.DataFrame'>\n",
            "DatetimeIndex: 1514 entries, 2017-11-09 to 2021-12-31\n",
            "Data columns (total 2 columns):\n",
            " #   Column      Non-Null Count  Dtype  \n",
            "---  ------      --------------  -----  \n",
            " 0   price_eth   1514 non-null   float64\n",
            " 1   volume_eth  1514 non-null   int64  \n",
            "dtypes: float64(1), int64(1)\n",
            "memory usage: 35.5 KB\n",
            "<class 'pandas.core.frame.DataFrame'>\n",
            "DatetimeIndex: 1826 entries, 2017-01-01 to 2021-12-31\n",
            "Data columns (total 2 columns):\n",
            " #   Column      Non-Null Count  Dtype  \n",
            "---  ------      --------------  -----  \n",
            " 0   price_btc   1826 non-null   float64\n",
            " 1   volume_btc  1826 non-null   int64  \n",
            "dtypes: float64(1), int64(1)\n",
            "memory usage: 42.8 KB\n"
          ]
        }
      ]
    },
    {
      "cell_type": "code",
      "source": [
        "data = pd.merge(data_1,data_2,left_index=True,right_index=True)\n",
        "data.info()"
      ],
      "metadata": {
        "colab": {
          "base_uri": "https://localhost:8080/"
        },
        "id": "ctyqGwCsCWRi",
        "outputId": "1b445cd0-93eb-404d-872e-ecb7d625cfcc"
      },
      "execution_count": null,
      "outputs": [
        {
          "output_type": "stream",
          "name": "stdout",
          "text": [
            "<class 'pandas.core.frame.DataFrame'>\n",
            "DatetimeIndex: 1514 entries, 2017-11-09 to 2021-12-31\n",
            "Data columns (total 4 columns):\n",
            " #   Column      Non-Null Count  Dtype  \n",
            "---  ------      --------------  -----  \n",
            " 0   price_eth   1514 non-null   float64\n",
            " 1   volume_eth  1514 non-null   int64  \n",
            " 2   price_btc   1514 non-null   float64\n",
            " 3   volume_btc  1514 non-null   int64  \n",
            "dtypes: float64(2), int64(2)\n",
            "memory usage: 59.1 KB\n"
          ]
        }
      ]
    },
    {
      "cell_type": "code",
      "source": [
        "#ETH報酬率跟落後一期報酬率和落後兩期報酬率\n",
        "data['ret_eth'] = data.price_eth.pct_change()\n",
        "data['ret_eth_1'] = data.price_eth.pct_change().shift()\n",
        "data['ret_eth_2'] = data.price_eth.pct_change().shift(2)\n",
        "data['ret_eth_3'] = data.price_eth.pct_change().shift(3)\n"
      ],
      "metadata": {
        "id": "l7yvWcuoplD4"
      },
      "execution_count": null,
      "outputs": []
    },
    {
      "cell_type": "code",
      "source": [
        "#BTC報酬率跟落後一期報酬率和落後兩期報酬率\n",
        "data['ret_btc'] = data.price_btc.pct_change()\n",
        "data['ret_btc_1'] = data.price_btc.pct_change().shift()\n",
        "data['ret_btc_2'] = data.price_btc.pct_change().shift(2)\n",
        "data['ret_btc_3'] = data.price_btc.pct_change().shift(3)"
      ],
      "metadata": {
        "id": "gS370hpEDeeX"
      },
      "execution_count": null,
      "outputs": []
    },
    {
      "cell_type": "code",
      "source": [
        "data.info()"
      ],
      "metadata": {
        "colab": {
          "base_uri": "https://localhost:8080/"
        },
        "id": "YblwMkvvDjqZ",
        "outputId": "bca9e1bd-ade5-4fd4-fa02-bab142470b23"
      },
      "execution_count": null,
      "outputs": [
        {
          "output_type": "stream",
          "name": "stdout",
          "text": [
            "<class 'pandas.core.frame.DataFrame'>\n",
            "DatetimeIndex: 1514 entries, 2017-11-09 to 2021-12-31\n",
            "Data columns (total 12 columns):\n",
            " #   Column      Non-Null Count  Dtype  \n",
            "---  ------      --------------  -----  \n",
            " 0   price_eth   1514 non-null   float64\n",
            " 1   volume_eth  1514 non-null   int64  \n",
            " 2   price_btc   1514 non-null   float64\n",
            " 3   volume_btc  1514 non-null   int64  \n",
            " 4   ret_eth     1513 non-null   float64\n",
            " 5   ret_eth_1   1512 non-null   float64\n",
            " 6   ret_eth_2   1511 non-null   float64\n",
            " 7   ret_eth_3   1510 non-null   float64\n",
            " 8   ret_btc     1513 non-null   float64\n",
            " 9   ret_btc_1   1512 non-null   float64\n",
            " 10  ret_btc_2   1511 non-null   float64\n",
            " 11  ret_btc_3   1510 non-null   float64\n",
            "dtypes: float64(10), int64(2)\n",
            "memory usage: 153.8 KB\n"
          ]
        }
      ]
    },
    {
      "cell_type": "code",
      "source": [
        "# 跑回歸 同期關係\n",
        "# eth = a + b*btc\n",
        "y = data.ret_eth\n",
        "x = sm.add_constant(data[['ret_btc','ret_eth_1','ret_eth_2','ret_eth_3']])\n",
        "result = sm.OLS(y,x,missing='drop').fit()\n",
        "print(result.summary())"
      ],
      "metadata": {
        "colab": {
          "base_uri": "https://localhost:8080/"
        },
        "id": "PCrKTLf5Dute",
        "outputId": "8240a662-0b81-4113-aa3a-9a59158b67e5"
      },
      "execution_count": null,
      "outputs": [
        {
          "output_type": "stream",
          "name": "stdout",
          "text": [
            "                            OLS Regression Results                            \n",
            "==============================================================================\n",
            "Dep. Variable:                ret_eth   R-squared:                       0.567\n",
            "Model:                            OLS   Adj. R-squared:                  0.566\n",
            "Method:                 Least Squares   F-statistic:                     493.4\n",
            "Date:                Tue, 23 Aug 2022   Prob (F-statistic):          6.69e-272\n",
            "Time:                        14:19:01   Log-Likelihood:                 2959.9\n",
            "No. Observations:                1510   AIC:                            -5910.\n",
            "Df Residuals:                    1505   BIC:                            -5883.\n",
            "Df Model:                           4                                         \n",
            "Covariance Type:            nonrobust                                         \n",
            "==============================================================================\n",
            "                 coef    std err          t      P>|t|      [0.025      0.975]\n",
            "------------------------------------------------------------------------------\n",
            "const          0.0008      0.001      0.870      0.384      -0.001       0.003\n",
            "ret_btc        0.9462      0.021     44.207      0.000       0.904       0.988\n",
            "ret_eth_1      0.0210      0.017      1.228      0.220      -0.013       0.054\n",
            "ret_eth_2      0.0243      0.017      1.428      0.154      -0.009       0.058\n",
            "ret_eth_3      0.0019      0.017      0.114      0.910      -0.031       0.035\n",
            "==============================================================================\n",
            "Omnibus:                      310.918   Durbin-Watson:                   1.838\n",
            "Prob(Omnibus):                  0.000   Jarque-Bera (JB):             4873.103\n",
            "Skew:                           0.500   Prob(JB):                         0.00\n",
            "Kurtosis:                      11.744   Cond. No.                         24.6\n",
            "==============================================================================\n",
            "\n",
            "Notes:\n",
            "[1] Standard Errors assume that the covariance matrix of the errors is correctly specified.\n"
          ]
        },
        {
          "output_type": "stream",
          "name": "stderr",
          "text": [
            "/usr/local/lib/python3.7/dist-packages/statsmodels/tsa/tsatools.py:142: FutureWarning: In a future version of pandas all arguments of concat except for the argument 'objs' will be keyword-only\n",
            "  x = pd.concat(x[::order], 1)\n"
          ]
        }
      ]
    },
    {
      "cell_type": "code",
      "source": [
        "# 跑回歸 跨期關係\n",
        "# eth(t) = a + b*btc(t-1)\n",
        "y = data.ret_eth\n",
        "x = sm.add_constant(data[['ret_btc_1','ret_eth_1','ret_eth_2','ret_eth_3']])\n",
        "result = sm.OLS(y,x,missing='drop').fit()\n",
        "print(result.summary())"
      ],
      "metadata": {
        "colab": {
          "base_uri": "https://localhost:8080/"
        },
        "id": "csGxzpbgDxpa",
        "outputId": "329d3a11-9a59-4775-eece-0a896ec8c098"
      },
      "execution_count": null,
      "outputs": [
        {
          "output_type": "stream",
          "name": "stdout",
          "text": [
            "                            OLS Regression Results                            \n",
            "==============================================================================\n",
            "Dep. Variable:                ret_eth   R-squared:                       0.006\n",
            "Model:                            OLS   Adj. R-squared:                  0.004\n",
            "Method:                 Least Squares   F-statistic:                     2.390\n",
            "Date:                Thu, 20 Jan 2022   Prob (F-statistic):             0.0490\n",
            "Time:                        10:24:19   Log-Likelihood:                 2332.2\n",
            "No. Observations:                1510   AIC:                            -4654.\n",
            "Df Residuals:                    1505   BIC:                            -4628.\n",
            "Df Model:                           4                                         \n",
            "Covariance Type:            nonrobust                                         \n",
            "==============================================================================\n",
            "                 coef    std err          t      P>|t|      [0.025      0.975]\n",
            "------------------------------------------------------------------------------\n",
            "const          0.0030      0.001      2.232      0.026       0.000       0.006\n",
            "ret_btc_1     -0.0526      0.049     -1.070      0.285      -0.149       0.044\n",
            "ret_eth_1     -0.0126      0.039     -0.322      0.747      -0.089       0.064\n",
            "ret_eth_2      0.0560      0.026      2.170      0.030       0.005       0.107\n",
            "ret_eth_3      0.0028      0.026      0.107      0.915      -0.048       0.053\n",
            "==============================================================================\n",
            "Omnibus:                      208.115   Durbin-Watson:                   1.999\n",
            "Prob(Omnibus):                  0.000   Jarque-Bera (JB):             2055.849\n",
            "Skew:                          -0.264   Prob(JB):                         0.00\n",
            "Kurtosis:                       8.692   Cond. No.                         44.3\n",
            "==============================================================================\n",
            "\n",
            "Warnings:\n",
            "[1] Standard Errors assume that the covariance matrix of the errors is correctly specified.\n"
          ]
        }
      ]
    },
    {
      "cell_type": "code",
      "source": [
        "# 跑回歸 跨期關係\n",
        "# eth(t) = a + b*btc(t-2)\n",
        "y = data.ret_eth\n",
        "x = sm.add_constant(data[['ret_btc_2','ret_eth_1','ret_eth_2','ret_eth_3']])\n",
        "result = sm.OLS(y,x,missing='drop').fit()\n",
        "print(result.summary())"
      ],
      "metadata": {
        "colab": {
          "base_uri": "https://localhost:8080/"
        },
        "id": "SFq2FpmpDxly",
        "outputId": "3a990eca-7984-44a5-c701-a4c9efe861bd"
      },
      "execution_count": null,
      "outputs": [
        {
          "output_type": "stream",
          "name": "stdout",
          "text": [
            "                            OLS Regression Results                            \n",
            "==============================================================================\n",
            "Dep. Variable:                ret_eth   R-squared:                       0.006\n",
            "Model:                            OLS   Adj. R-squared:                  0.003\n",
            "Method:                 Least Squares   F-statistic:                     2.155\n",
            "Date:                Thu, 20 Jan 2022   Prob (F-statistic):             0.0718\n",
            "Time:                        10:07:16   Log-Likelihood:                 2331.7\n",
            "No. Observations:                1510   AIC:                            -4653.\n",
            "Df Residuals:                    1505   BIC:                            -4627.\n",
            "Df Model:                           4                                         \n",
            "Covariance Type:            nonrobust                                         \n",
            "==============================================================================\n",
            "                 coef    std err          t      P>|t|      [0.025      0.975]\n",
            "------------------------------------------------------------------------------\n",
            "const          0.0029      0.001      2.202      0.028       0.000       0.006\n",
            "ret_btc_2      0.0227      0.049      0.462      0.644      -0.074       0.119\n",
            "ret_eth_1     -0.0437      0.026     -1.694      0.091      -0.094       0.007\n",
            "ret_eth_2      0.0448      0.039      1.150      0.250      -0.032       0.121\n",
            "ret_eth_3      0.0036      0.026      0.139      0.890      -0.047       0.054\n",
            "==============================================================================\n",
            "Omnibus:                      206.570   Durbin-Watson:                   2.000\n",
            "Prob(Omnibus):                  0.000   Jarque-Bera (JB):             2042.390\n",
            "Skew:                          -0.255   Prob(JB):                         0.00\n",
            "Kurtosis:                       8.675   Cond. No.                         44.2\n",
            "==============================================================================\n",
            "\n",
            "Warnings:\n",
            "[1] Standard Errors assume that the covariance matrix of the errors is correctly specified.\n"
          ]
        }
      ]
    },
    {
      "cell_type": "code",
      "source": [
        "# 跑回歸 跨期關係\n",
        "# eth(t) = a + b*btc(t-3)\n",
        "y = data.ret_eth\n",
        "x = sm.add_constant(data[['ret_btc_3','ret_eth_1','ret_eth_2','ret_eth_3']])\n",
        "result = sm.OLS(y,x,missing='drop').fit()\n",
        "print(result.summary())"
      ],
      "metadata": {
        "colab": {
          "base_uri": "https://localhost:8080/"
        },
        "id": "BoWxZQt_E3ac",
        "outputId": "318d88b0-6325-4020-b096-18a5e213b600"
      },
      "execution_count": null,
      "outputs": [
        {
          "output_type": "stream",
          "name": "stdout",
          "text": [
            "                            OLS Regression Results                            \n",
            "==============================================================================\n",
            "Dep. Variable:                ret_eth   R-squared:                       0.006\n",
            "Model:                            OLS   Adj. R-squared:                  0.004\n",
            "Method:                 Least Squares   F-statistic:                     2.336\n",
            "Date:                Thu, 20 Jan 2022   Prob (F-statistic):             0.0535\n",
            "Time:                        10:07:20   Log-Likelihood:                 2332.1\n",
            "No. Observations:                1510   AIC:                            -4654.\n",
            "Df Residuals:                    1505   BIC:                            -4628.\n",
            "Df Model:                           4                                         \n",
            "Covariance Type:            nonrobust                                         \n",
            "==============================================================================\n",
            "                 coef    std err          t      P>|t|      [0.025      0.975]\n",
            "------------------------------------------------------------------------------\n",
            "const          0.0029      0.001      2.199      0.028       0.000       0.006\n",
            "ret_btc_3      0.0472      0.049      0.966      0.334      -0.049       0.143\n",
            "ret_eth_1     -0.0443      0.026     -1.719      0.086      -0.095       0.006\n",
            "ret_eth_2      0.0591      0.026      2.294      0.022       0.009       0.110\n",
            "ret_eth_3     -0.0256      0.039     -0.656      0.512      -0.102       0.051\n",
            "==============================================================================\n",
            "Omnibus:                      205.832   Durbin-Watson:                   2.000\n",
            "Prob(Omnibus):                  0.000   Jarque-Bera (JB):             2064.362\n",
            "Skew:                          -0.242   Prob(JB):                         0.00\n",
            "Kurtosis:                       8.708   Cond. No.                         44.1\n",
            "==============================================================================\n",
            "\n",
            "Warnings:\n",
            "[1] Standard Errors assume that the covariance matrix of the errors is correctly specified.\n"
          ]
        }
      ]
    },
    {
      "cell_type": "code",
      "source": [
        "# 跑回歸 跨期關係\n",
        "# eth(t) = a + b*btc(t-1) + btc(t-2)+btc(t-3)\n",
        "y = data.ret_eth\n",
        "x = sm.add_constant(data[['ret_btc_1','ret_btc_2','ret_btc_3','ret_eth_1','ret_eth_2','ret_eth_3']])\n",
        "result = sm.OLS(y,x,missing='drop').fit()\n",
        "print(result.summary())"
      ],
      "metadata": {
        "colab": {
          "base_uri": "https://localhost:8080/"
        },
        "id": "5rBIe1hkEe-J",
        "outputId": "42003a4e-7a4a-4eee-e8be-bbde43a23a9a"
      },
      "execution_count": null,
      "outputs": [
        {
          "output_type": "stream",
          "name": "stdout",
          "text": [
            "                            OLS Regression Results                            \n",
            "==============================================================================\n",
            "Dep. Variable:                ret_eth   R-squared:                       0.007\n",
            "Model:                            OLS   Adj. R-squared:                  0.003\n",
            "Method:                 Least Squares   F-statistic:                     1.778\n",
            "Date:                Thu, 20 Jan 2022   Prob (F-statistic):              0.100\n",
            "Time:                        10:13:15   Log-Likelihood:                 2332.7\n",
            "No. Observations:                1510   AIC:                            -4651.\n",
            "Df Residuals:                    1503   BIC:                            -4614.\n",
            "Df Model:                           6                                         \n",
            "Covariance Type:            nonrobust                                         \n",
            "==============================================================================\n",
            "                 coef    std err          t      P>|t|      [0.025      0.975]\n",
            "------------------------------------------------------------------------------\n",
            "const          0.0030      0.001      2.211      0.027       0.000       0.006\n",
            "ret_btc_1     -0.0544      0.050     -1.098      0.272      -0.151       0.043\n",
            "ret_btc_2      0.0239      0.050      0.480      0.631      -0.074       0.121\n",
            "ret_btc_3      0.0431      0.049      0.876      0.381      -0.053       0.140\n",
            "ret_eth_1     -0.0115      0.039     -0.291      0.771      -0.089       0.066\n",
            "ret_eth_2      0.0425      0.040      1.072      0.284      -0.035       0.120\n",
            "ret_eth_3     -0.0221      0.039     -0.560      0.575      -0.099       0.055\n",
            "==============================================================================\n",
            "Omnibus:                      205.869   Durbin-Watson:                   2.000\n",
            "Prob(Omnibus):                  0.000   Jarque-Bera (JB):             2046.380\n",
            "Skew:                          -0.248   Prob(JB):                         0.00\n",
            "Kurtosis:                       8.682   Cond. No.                         49.3\n",
            "==============================================================================\n",
            "\n",
            "Warnings:\n",
            "[1] Standard Errors assume that the covariance matrix of the errors is correctly specified.\n"
          ]
        }
      ]
    },
    {
      "cell_type": "markdown",
      "source": [
        "#BNB對ETH報酬的影響\n"
      ],
      "metadata": {
        "id": "vUC0HtxB8sHA"
      }
    },
    {
      "cell_type": "code",
      "source": [
        "data_1 = yf.Ticker('ETH-USD').history(period='max')\n",
        "data_1.info()\n",
        "data_2 = yf.Ticker('BNB-USD').history(period='max')\n",
        "data_2.info()"
      ],
      "metadata": {
        "colab": {
          "base_uri": "https://localhost:8080/"
        },
        "id": "SUXFRoSJ81PC",
        "outputId": "e13346c9-4ad3-4185-d20d-185efca5bc0d"
      },
      "execution_count": null,
      "outputs": [
        {
          "output_type": "stream",
          "name": "stdout",
          "text": [
            "<class 'pandas.core.frame.DataFrame'>\n",
            "DatetimeIndex: 1532 entries, 2017-11-09 to 2022-01-18\n",
            "Data columns (total 7 columns):\n",
            " #   Column        Non-Null Count  Dtype  \n",
            "---  ------        --------------  -----  \n",
            " 0   Open          1532 non-null   float64\n",
            " 1   High          1532 non-null   float64\n",
            " 2   Low           1532 non-null   float64\n",
            " 3   Close         1532 non-null   float64\n",
            " 4   Volume        1532 non-null   int64  \n",
            " 5   Dividends     1532 non-null   int64  \n",
            " 6   Stock Splits  1532 non-null   int64  \n",
            "dtypes: float64(4), int64(3)\n",
            "memory usage: 95.8 KB\n",
            "<class 'pandas.core.frame.DataFrame'>\n",
            "DatetimeIndex: 1532 entries, 2017-11-09 to 2022-01-18\n",
            "Data columns (total 7 columns):\n",
            " #   Column        Non-Null Count  Dtype  \n",
            "---  ------        --------------  -----  \n",
            " 0   Open          1532 non-null   float64\n",
            " 1   High          1532 non-null   float64\n",
            " 2   Low           1532 non-null   float64\n",
            " 3   Close         1532 non-null   float64\n",
            " 4   Volume        1532 non-null   int64  \n",
            " 5   Dividends     1532 non-null   int64  \n",
            " 6   Stock Splits  1532 non-null   int64  \n",
            "dtypes: float64(4), int64(3)\n",
            "memory usage: 95.8 KB\n"
          ]
        }
      ]
    },
    {
      "cell_type": "code",
      "source": [
        "data_1 = data_1['2017':'2021']\n",
        "data_1.info()\n",
        "data_2 = data_2['2017':'2021']\n",
        "data_2.info()"
      ],
      "metadata": {
        "colab": {
          "base_uri": "https://localhost:8080/"
        },
        "id": "JPYUJV0x8-at",
        "outputId": "ded07b94-3c62-4fd1-d80c-4d875783f173"
      },
      "execution_count": null,
      "outputs": [
        {
          "output_type": "stream",
          "name": "stdout",
          "text": [
            "<class 'pandas.core.frame.DataFrame'>\n",
            "DatetimeIndex: 1514 entries, 2017-11-09 to 2021-12-31\n",
            "Data columns (total 7 columns):\n",
            " #   Column        Non-Null Count  Dtype  \n",
            "---  ------        --------------  -----  \n",
            " 0   Open          1514 non-null   float64\n",
            " 1   High          1514 non-null   float64\n",
            " 2   Low           1514 non-null   float64\n",
            " 3   Close         1514 non-null   float64\n",
            " 4   Volume        1514 non-null   int64  \n",
            " 5   Dividends     1514 non-null   int64  \n",
            " 6   Stock Splits  1514 non-null   int64  \n",
            "dtypes: float64(4), int64(3)\n",
            "memory usage: 94.6 KB\n",
            "<class 'pandas.core.frame.DataFrame'>\n",
            "DatetimeIndex: 1514 entries, 2017-11-09 to 2021-12-31\n",
            "Data columns (total 7 columns):\n",
            " #   Column        Non-Null Count  Dtype  \n",
            "---  ------        --------------  -----  \n",
            " 0   Open          1514 non-null   float64\n",
            " 1   High          1514 non-null   float64\n",
            " 2   Low           1514 non-null   float64\n",
            " 3   Close         1514 non-null   float64\n",
            " 4   Volume        1514 non-null   int64  \n",
            " 5   Dividends     1514 non-null   int64  \n",
            " 6   Stock Splits  1514 non-null   int64  \n",
            "dtypes: float64(4), int64(3)\n",
            "memory usage: 94.6 KB\n"
          ]
        }
      ]
    },
    {
      "cell_type": "code",
      "source": [
        "data_1 = data_1[['Close','Volume']]\n",
        "data_1.columns = ['price_eth','volume_eth']\n",
        "data_1.info()\n",
        "data_2 = data_2[['Close','Volume']]\n",
        "data_2.columns = ['price_bnb','volume_bnb']\n",
        "data_2.info()"
      ],
      "metadata": {
        "colab": {
          "base_uri": "https://localhost:8080/"
        },
        "id": "KphXKROVzq9m",
        "outputId": "29cc447c-1148-487c-efb3-0d8987f98897"
      },
      "execution_count": null,
      "outputs": [
        {
          "output_type": "stream",
          "name": "stdout",
          "text": [
            "<class 'pandas.core.frame.DataFrame'>\n",
            "DatetimeIndex: 1514 entries, 2017-11-09 to 2021-12-31\n",
            "Data columns (total 2 columns):\n",
            " #   Column      Non-Null Count  Dtype  \n",
            "---  ------      --------------  -----  \n",
            " 0   price_eth   1514 non-null   float64\n",
            " 1   volume_eth  1514 non-null   int64  \n",
            "dtypes: float64(1), int64(1)\n",
            "memory usage: 35.5 KB\n",
            "<class 'pandas.core.frame.DataFrame'>\n",
            "DatetimeIndex: 1514 entries, 2017-11-09 to 2021-12-31\n",
            "Data columns (total 2 columns):\n",
            " #   Column      Non-Null Count  Dtype  \n",
            "---  ------      --------------  -----  \n",
            " 0   price_bnb   1514 non-null   float64\n",
            " 1   volume_bnb  1514 non-null   int64  \n",
            "dtypes: float64(1), int64(1)\n",
            "memory usage: 35.5 KB\n"
          ]
        }
      ]
    },
    {
      "cell_type": "code",
      "source": [
        "data = pd.merge(data_1,data_2,left_index=True,right_index=True)\n",
        "data.info()"
      ],
      "metadata": {
        "colab": {
          "base_uri": "https://localhost:8080/"
        },
        "id": "XBL5sUYQ0JH_",
        "outputId": "b3413890-8478-4e25-e90f-378ba7dd1687"
      },
      "execution_count": null,
      "outputs": [
        {
          "output_type": "stream",
          "name": "stdout",
          "text": [
            "<class 'pandas.core.frame.DataFrame'>\n",
            "DatetimeIndex: 1514 entries, 2017-11-09 to 2021-12-31\n",
            "Data columns (total 4 columns):\n",
            " #   Column      Non-Null Count  Dtype  \n",
            "---  ------      --------------  -----  \n",
            " 0   price_eth   1514 non-null   float64\n",
            " 1   volume_eth  1514 non-null   int64  \n",
            " 2   price_bnb   1514 non-null   float64\n",
            " 3   volume_bnb  1514 non-null   int64  \n",
            "dtypes: float64(2), int64(2)\n",
            "memory usage: 99.1 KB\n"
          ]
        }
      ]
    },
    {
      "cell_type": "code",
      "source": [
        "data['ret_eth'] = data.price_eth.pct_change()\n",
        "data['ret_eth_1'] = data.price_eth.pct_change().shift()\n",
        "data['ret_eth_2'] = data.price_eth.pct_change().shift(2)\n",
        "data['ret_eth_3'] = data.price_eth.pct_change().shift(3)"
      ],
      "metadata": {
        "id": "0ByTHFfG0ROG"
      },
      "execution_count": null,
      "outputs": []
    },
    {
      "cell_type": "code",
      "source": [
        "data['ret_bnb'] = data.price_bnb.pct_change()\n",
        "data['ret_bnb_1'] = data.price_bnb.pct_change().shift()\n",
        "data['ret_bnb_2'] = data.price_bnb.pct_change().shift(2)\n",
        "data['ret_bnb_3'] = data.price_bnb.pct_change().shift(3)"
      ],
      "metadata": {
        "id": "4JmzeavZ0WGr"
      },
      "execution_count": null,
      "outputs": []
    },
    {
      "cell_type": "code",
      "source": [
        "data.info()"
      ],
      "metadata": {
        "colab": {
          "base_uri": "https://localhost:8080/"
        },
        "id": "SQIESqG60p2n",
        "outputId": "096e5ba0-92d9-4bc6-872d-f880580b1b86"
      },
      "execution_count": null,
      "outputs": [
        {
          "output_type": "stream",
          "name": "stdout",
          "text": [
            "<class 'pandas.core.frame.DataFrame'>\n",
            "DatetimeIndex: 1514 entries, 2017-11-09 to 2021-12-31\n",
            "Data columns (total 12 columns):\n",
            " #   Column      Non-Null Count  Dtype  \n",
            "---  ------      --------------  -----  \n",
            " 0   price_eth   1514 non-null   float64\n",
            " 1   volume_eth  1514 non-null   int64  \n",
            " 2   price_bnb   1514 non-null   float64\n",
            " 3   volume_bnb  1514 non-null   int64  \n",
            " 4   ret_eth     1513 non-null   float64\n",
            " 5   ret_eth_1   1512 non-null   float64\n",
            " 6   ret_eth_2   1511 non-null   float64\n",
            " 7   ret_eth_3   1510 non-null   float64\n",
            " 8   ret_bnb     1513 non-null   float64\n",
            " 9   ret_bnb_1   1512 non-null   float64\n",
            " 10  ret_bnb_2   1511 non-null   float64\n",
            " 11  ret_bnb_3   1510 non-null   float64\n",
            "dtypes: float64(10), int64(2)\n",
            "memory usage: 193.8 KB\n"
          ]
        }
      ]
    },
    {
      "cell_type": "code",
      "source": [
        "# 跑回歸 同期關係\n",
        "# eth = a + b*bnb\n",
        "y = data.ret_eth\n",
        "x = sm.add_constant(data[['ret_bnb','ret_eth_1','ret_eth_2','ret_eth_3']])\n",
        "result = sm.OLS(y,x,missing='drop').fit()\n",
        "print(result.summary())"
      ],
      "metadata": {
        "colab": {
          "base_uri": "https://localhost:8080/"
        },
        "id": "tklp1aEa0pa_",
        "outputId": "ada0b897-2a80-4827-e9ac-7be3e6974788"
      },
      "execution_count": null,
      "outputs": [
        {
          "output_type": "stream",
          "name": "stdout",
          "text": [
            "                            OLS Regression Results                            \n",
            "==============================================================================\n",
            "Dep. Variable:                ret_eth   R-squared:                       0.358\n",
            "Model:                            OLS   Adj. R-squared:                  0.356\n",
            "Method:                 Least Squares   F-statistic:                     209.4\n",
            "Date:                Tue, 18 Jan 2022   Prob (F-statistic):          6.66e-143\n",
            "Time:                        11:14:53   Log-Likelihood:                 2661.5\n",
            "No. Observations:                1510   AIC:                            -5313.\n",
            "Df Residuals:                    1505   BIC:                            -5286.\n",
            "Df Model:                           4                                         \n",
            "Covariance Type:            nonrobust                                         \n",
            "==============================================================================\n",
            "                 coef    std err          t      P>|t|      [0.025      0.975]\n",
            "------------------------------------------------------------------------------\n",
            "const          0.0003      0.001      0.237      0.813      -0.002       0.002\n",
            "ret_bnb        0.4772      0.017     28.716      0.000       0.445       0.510\n",
            "ret_eth_1     -0.0110      0.021     -0.529      0.597      -0.052       0.030\n",
            "ret_eth_2      0.0134      0.021      0.644      0.519      -0.027       0.054\n",
            "ret_eth_3     -0.0139      0.021     -0.671      0.503      -0.055       0.027\n",
            "==============================================================================\n",
            "Omnibus:                      241.119   Durbin-Watson:                   1.903\n",
            "Prob(Omnibus):                  0.000   Jarque-Bera (JB):             3365.596\n",
            "Skew:                          -0.241   Prob(JB):                         0.00\n",
            "Kurtosis:                      10.298   Cond. No.                         20.0\n",
            "==============================================================================\n",
            "\n",
            "Warnings:\n",
            "[1] Standard Errors assume that the covariance matrix of the errors is correctly specified.\n"
          ]
        }
      ]
    },
    {
      "cell_type": "code",
      "source": [
        "# 跑回歸 跨期關係\n",
        "# eth(t) = a + b*bnb(t-1)\n",
        "y = data.ret_eth\n",
        "x = sm.add_constant(data[['ret_bnb_1','ret_eth_1','ret_eth_2','ret_eth_3']])\n",
        "result = sm.OLS(y,x,missing='drop').fit()\n",
        "print(result.summary())"
      ],
      "metadata": {
        "colab": {
          "base_uri": "https://localhost:8080/"
        },
        "id": "xv08yKNo08R_",
        "outputId": "18f08a61-4092-47aa-85fa-c5b2e681f446"
      },
      "execution_count": null,
      "outputs": [
        {
          "output_type": "stream",
          "name": "stdout",
          "text": [
            "                            OLS Regression Results                            \n",
            "==============================================================================\n",
            "Dep. Variable:                ret_eth   R-squared:                       0.006\n",
            "Model:                            OLS   Adj. R-squared:                  0.003\n",
            "Method:                 Least Squares   F-statistic:                     2.215\n",
            "Date:                Tue, 18 Jan 2022   Prob (F-statistic):             0.0653\n",
            "Time:                        11:14:55   Log-Likelihood:                 2331.8\n",
            "No. Observations:                1510   AIC:                            -4654.\n",
            "Df Residuals:                    1505   BIC:                            -4627.\n",
            "Df Model:                           4                                         \n",
            "Covariance Type:            nonrobust                                         \n",
            "==============================================================================\n",
            "                 coef    std err          t      P>|t|      [0.025      0.975]\n",
            "------------------------------------------------------------------------------\n",
            "const          0.0030      0.001      2.252      0.024       0.000       0.006\n",
            "ret_bnb_1     -0.0172      0.026     -0.671      0.502      -0.068       0.033\n",
            "ret_eth_1     -0.0312      0.032     -0.973      0.331      -0.094       0.032\n",
            "ret_eth_2      0.0577      0.026      2.239      0.025       0.007       0.108\n",
            "ret_eth_3      0.0035      0.026      0.137      0.891      -0.047       0.054\n",
            "==============================================================================\n",
            "Omnibus:                      207.822   Durbin-Watson:                   1.999\n",
            "Prob(Omnibus):                  0.000   Jarque-Bera (JB):             2053.770\n",
            "Skew:                          -0.262   Prob(JB):                         0.00\n",
            "Kurtosis:                       8.689   Cond. No.                         27.8\n",
            "==============================================================================\n",
            "\n",
            "Warnings:\n",
            "[1] Standard Errors assume that the covariance matrix of the errors is correctly specified.\n"
          ]
        }
      ]
    },
    {
      "cell_type": "code",
      "source": [
        "# 跑回歸 跨期關係\n",
        "# eth(t) = a + b*bnb(t-2)\n",
        "y = data.ret_eth\n",
        "x = sm.add_constant(data[['ret_bnb_2','ret_eth_1','ret_eth_2','ret_eth_3']])\n",
        "result = sm.OLS(y,x,missing='drop').fit()\n",
        "print(result.summary())"
      ],
      "metadata": {
        "colab": {
          "base_uri": "https://localhost:8080/"
        },
        "id": "exQxTaon1AXQ",
        "outputId": "2f3ac4d1-24a4-4dad-8b0d-6bb05a71b9dc"
      },
      "execution_count": null,
      "outputs": [
        {
          "output_type": "stream",
          "name": "stdout",
          "text": [
            "                            OLS Regression Results                            \n",
            "==============================================================================\n",
            "Dep. Variable:                ret_eth   R-squared:                       0.006\n",
            "Model:                            OLS   Adj. R-squared:                  0.004\n",
            "Method:                 Least Squares   F-statistic:                     2.444\n",
            "Date:                Tue, 18 Jan 2022   Prob (F-statistic):             0.0448\n",
            "Time:                        11:14:57   Log-Likelihood:                 2332.3\n",
            "No. Observations:                1510   AIC:                            -4655.\n",
            "Df Residuals:                    1505   BIC:                            -4628.\n",
            "Df Model:                           4                                         \n",
            "Covariance Type:            nonrobust                                         \n",
            "==============================================================================\n",
            "                 coef    std err          t      P>|t|      [0.025      0.975]\n",
            "------------------------------------------------------------------------------\n",
            "const          0.0029      0.001      2.125      0.034       0.000       0.005\n",
            "ret_bnb_2      0.0299      0.026      1.168      0.243      -0.020       0.080\n",
            "ret_eth_1     -0.0435      0.026     -1.688      0.092      -0.094       0.007\n",
            "ret_eth_2      0.0361      0.032      1.127      0.260      -0.027       0.099\n",
            "ret_eth_3      0.0037      0.026      0.143      0.886      -0.047       0.054\n",
            "==============================================================================\n",
            "Omnibus:                      206.989   Durbin-Watson:                   2.000\n",
            "Prob(Omnibus):                  0.000   Jarque-Bera (JB):             2062.045\n",
            "Skew:                          -0.253   Prob(JB):                         0.00\n",
            "Kurtosis:                       8.703   Cond. No.                         27.7\n",
            "==============================================================================\n",
            "\n",
            "Warnings:\n",
            "[1] Standard Errors assume that the covariance matrix of the errors is correctly specified.\n"
          ]
        }
      ]
    },
    {
      "cell_type": "code",
      "source": [
        "# 跑回歸 跨期關係\n",
        "# eth(t) = a + b*bnb(t-3)\n",
        "y = data.ret_eth\n",
        "x = sm.add_constant(data[['ret_bnb_3','ret_eth_1','ret_eth_2','ret_eth_3']])\n",
        "result = sm.OLS(y,x,missing='drop').fit()\n",
        "print(result.summary())"
      ],
      "metadata": {
        "colab": {
          "base_uri": "https://localhost:8080/"
        },
        "id": "wwYSw96i1IBs",
        "outputId": "6533e9d3-3248-4ee4-b0bc-a612c28838fe"
      },
      "execution_count": null,
      "outputs": [
        {
          "output_type": "stream",
          "name": "stdout",
          "text": [
            "                            OLS Regression Results                            \n",
            "==============================================================================\n",
            "Dep. Variable:                ret_eth   R-squared:                       0.006\n",
            "Model:                            OLS   Adj. R-squared:                  0.003\n",
            "Method:                 Least Squares   F-statistic:                     2.107\n",
            "Date:                Tue, 18 Jan 2022   Prob (F-statistic):             0.0777\n",
            "Time:                        11:14:59   Log-Likelihood:                 2331.6\n",
            "No. Observations:                1510   AIC:                            -4653.\n",
            "Df Residuals:                    1505   BIC:                            -4627.\n",
            "Df Model:                           4                                         \n",
            "Covariance Type:            nonrobust                                         \n",
            "==============================================================================\n",
            "                 coef    std err          t      P>|t|      [0.025      0.975]\n",
            "------------------------------------------------------------------------------\n",
            "const          0.0029      0.001      2.197      0.028       0.000       0.006\n",
            "ret_bnb_3      0.0037      0.026      0.143      0.887      -0.047       0.054\n",
            "ret_eth_1     -0.0441      0.026     -1.710      0.087      -0.095       0.006\n",
            "ret_eth_2      0.0584      0.026      2.266      0.024       0.008       0.109\n",
            "ret_eth_3  -6.192e-05      0.032     -0.002      0.998      -0.063       0.063\n",
            "==============================================================================\n",
            "Omnibus:                      207.146   Durbin-Watson:                   2.000\n",
            "Prob(Omnibus):                  0.000   Jarque-Bera (JB):             2056.335\n",
            "Skew:                          -0.256   Prob(JB):                         0.00\n",
            "Kurtosis:                       8.694   Cond. No.                         27.7\n",
            "==============================================================================\n",
            "\n",
            "Warnings:\n",
            "[1] Standard Errors assume that the covariance matrix of the errors is correctly specified.\n"
          ]
        }
      ]
    },
    {
      "cell_type": "code",
      "source": [
        "# 跑回歸 跨期關係\n",
        "# eth(t) = a + b*bnb(t-1)+bnb(t-2)+bnb(t-3)\n",
        "y = data.ret_eth\n",
        "x = sm.add_constant(data[['ret_bnb_1','ret_bnb_2','ret_bnb_3','ret_eth_1','ret_eth_2','ret_eth_3']])\n",
        "result = sm.OLS(y,x,missing='drop').fit()\n",
        "print(result.summary())"
      ],
      "metadata": {
        "colab": {
          "base_uri": "https://localhost:8080/"
        },
        "id": "nOvFMfvU1O_F",
        "outputId": "c8cf44b1-b4b9-4a9a-ac7a-54ef75855c14"
      },
      "execution_count": null,
      "outputs": [
        {
          "output_type": "stream",
          "name": "stdout",
          "text": [
            "                            OLS Regression Results                            \n",
            "==============================================================================\n",
            "Dep. Variable:                ret_eth   R-squared:                       0.007\n",
            "Model:                            OLS   Adj. R-squared:                  0.003\n",
            "Method:                 Least Squares   F-statistic:                     1.738\n",
            "Date:                Tue, 18 Jan 2022   Prob (F-statistic):              0.109\n",
            "Time:                        11:15:00   Log-Likelihood:                 2332.6\n",
            "No. Observations:                1510   AIC:                            -4651.\n",
            "Df Residuals:                    1503   BIC:                            -4614.\n",
            "Df Model:                           6                                         \n",
            "Covariance Type:            nonrobust                                         \n",
            "==============================================================================\n",
            "                 coef    std err          t      P>|t|      [0.025      0.975]\n",
            "------------------------------------------------------------------------------\n",
            "const          0.0029      0.001      2.164      0.031       0.000       0.006\n",
            "ret_bnb_1     -0.0210      0.026     -0.810      0.418      -0.072       0.030\n",
            "ret_bnb_2      0.0323      0.026      1.242      0.214      -0.019       0.083\n",
            "ret_bnb_3      0.0005      0.026      0.019      0.985      -0.050       0.051\n",
            "ret_eth_1     -0.0279      0.032     -0.868      0.386      -0.091       0.035\n",
            "ret_eth_2      0.0336      0.032      1.041      0.298      -0.030       0.097\n",
            "ret_eth_3      0.0045      0.032      0.139      0.890      -0.059       0.068\n",
            "==============================================================================\n",
            "Omnibus:                      207.546   Durbin-Watson:                   2.000\n",
            "Prob(Omnibus):                  0.000   Jarque-Bera (JB):             2057.249\n",
            "Skew:                          -0.259   Prob(JB):                         0.00\n",
            "Kurtosis:                       8.695   Cond. No.                         29.8\n",
            "==============================================================================\n",
            "\n",
            "Warnings:\n",
            "[1] Standard Errors assume that the covariance matrix of the errors is correctly specified.\n"
          ]
        }
      ]
    },
    {
      "cell_type": "markdown",
      "source": [
        "#SOL對ETH報酬的影響"
      ],
      "metadata": {
        "id": "z70sqCQ-2Bx1"
      }
    },
    {
      "cell_type": "code",
      "source": [
        "data_1 = yf.Ticker('ETH-USD').history(period='max')\n",
        "data_1.info()\n",
        "data_2 = yf.Ticker('SOL-USD').history(period='max')\n",
        "data_2.info()"
      ],
      "metadata": {
        "colab": {
          "base_uri": "https://localhost:8080/"
        },
        "id": "GvLtjCM32Dus",
        "outputId": "77386400-1274-4aea-e40b-ff8d3d86546d"
      },
      "execution_count": null,
      "outputs": [
        {
          "output_type": "stream",
          "name": "stdout",
          "text": [
            "<class 'pandas.core.frame.DataFrame'>\n",
            "DatetimeIndex: 1532 entries, 2017-11-09 to 2022-01-18\n",
            "Data columns (total 7 columns):\n",
            " #   Column        Non-Null Count  Dtype  \n",
            "---  ------        --------------  -----  \n",
            " 0   Open          1532 non-null   float64\n",
            " 1   High          1532 non-null   float64\n",
            " 2   Low           1532 non-null   float64\n",
            " 3   Close         1532 non-null   float64\n",
            " 4   Volume        1532 non-null   int64  \n",
            " 5   Dividends     1532 non-null   int64  \n",
            " 6   Stock Splits  1532 non-null   int64  \n",
            "dtypes: float64(4), int64(3)\n",
            "memory usage: 95.8 KB\n",
            "<class 'pandas.core.frame.DataFrame'>\n",
            "DatetimeIndex: 649 entries, 2020-04-10 to 2022-01-18\n",
            "Data columns (total 7 columns):\n",
            " #   Column        Non-Null Count  Dtype  \n",
            "---  ------        --------------  -----  \n",
            " 0   Open          649 non-null    float64\n",
            " 1   High          649 non-null    float64\n",
            " 2   Low           649 non-null    float64\n",
            " 3   Close         649 non-null    float64\n",
            " 4   Volume        649 non-null    int64  \n",
            " 5   Dividends     649 non-null    int64  \n",
            " 6   Stock Splits  649 non-null    int64  \n",
            "dtypes: float64(4), int64(3)\n",
            "memory usage: 40.6 KB\n"
          ]
        }
      ]
    },
    {
      "cell_type": "code",
      "source": [
        "data_1 = data_1['2017':'2021']\n",
        "data_1.info()\n",
        "data_2 = data_2['2017':'2021']\n",
        "data_2.info()"
      ],
      "metadata": {
        "colab": {
          "base_uri": "https://localhost:8080/"
        },
        "id": "OM3QGw2d2TAs",
        "outputId": "f4d1f09d-6cdf-4fb5-8a3c-51b255ab4f60"
      },
      "execution_count": null,
      "outputs": [
        {
          "output_type": "stream",
          "name": "stdout",
          "text": [
            "<class 'pandas.core.frame.DataFrame'>\n",
            "DatetimeIndex: 1514 entries, 2017-11-09 to 2021-12-31\n",
            "Data columns (total 7 columns):\n",
            " #   Column        Non-Null Count  Dtype  \n",
            "---  ------        --------------  -----  \n",
            " 0   Open          1514 non-null   float64\n",
            " 1   High          1514 non-null   float64\n",
            " 2   Low           1514 non-null   float64\n",
            " 3   Close         1514 non-null   float64\n",
            " 4   Volume        1514 non-null   int64  \n",
            " 5   Dividends     1514 non-null   int64  \n",
            " 6   Stock Splits  1514 non-null   int64  \n",
            "dtypes: float64(4), int64(3)\n",
            "memory usage: 94.6 KB\n",
            "<class 'pandas.core.frame.DataFrame'>\n",
            "DatetimeIndex: 631 entries, 2020-04-10 to 2021-12-31\n",
            "Data columns (total 7 columns):\n",
            " #   Column        Non-Null Count  Dtype  \n",
            "---  ------        --------------  -----  \n",
            " 0   Open          631 non-null    float64\n",
            " 1   High          631 non-null    float64\n",
            " 2   Low           631 non-null    float64\n",
            " 3   Close         631 non-null    float64\n",
            " 4   Volume        631 non-null    int64  \n",
            " 5   Dividends     631 non-null    int64  \n",
            " 6   Stock Splits  631 non-null    int64  \n",
            "dtypes: float64(4), int64(3)\n",
            "memory usage: 39.4 KB\n"
          ]
        }
      ]
    },
    {
      "cell_type": "code",
      "source": [
        "data_1 = data_1[['Close','Volume']]\n",
        "data_1.columns = ['price_eth','volume_eth']\n",
        "data_1.info()\n",
        "data_2 = data_2[['Close','Volume']]\n",
        "data_2.columns = ['price_sol','volume_sol']\n",
        "data_2.info()"
      ],
      "metadata": {
        "colab": {
          "base_uri": "https://localhost:8080/"
        },
        "id": "FpMntIxT2i2v",
        "outputId": "3856e7d6-713d-4155-cca3-877c5f0546c8"
      },
      "execution_count": null,
      "outputs": [
        {
          "output_type": "stream",
          "name": "stdout",
          "text": [
            "<class 'pandas.core.frame.DataFrame'>\n",
            "DatetimeIndex: 1514 entries, 2017-11-09 to 2021-12-31\n",
            "Data columns (total 2 columns):\n",
            " #   Column      Non-Null Count  Dtype  \n",
            "---  ------      --------------  -----  \n",
            " 0   price_eth   1514 non-null   float64\n",
            " 1   volume_eth  1514 non-null   int64  \n",
            "dtypes: float64(1), int64(1)\n",
            "memory usage: 35.5 KB\n",
            "<class 'pandas.core.frame.DataFrame'>\n",
            "DatetimeIndex: 631 entries, 2020-04-10 to 2021-12-31\n",
            "Data columns (total 2 columns):\n",
            " #   Column      Non-Null Count  Dtype  \n",
            "---  ------      --------------  -----  \n",
            " 0   price_sol   631 non-null    float64\n",
            " 1   volume_sol  631 non-null    int64  \n",
            "dtypes: float64(1), int64(1)\n",
            "memory usage: 14.8 KB\n"
          ]
        }
      ]
    },
    {
      "cell_type": "code",
      "source": [
        "data = pd.merge(data_1,data_2,left_index=True,right_index=True)\n",
        "data.info()"
      ],
      "metadata": {
        "colab": {
          "base_uri": "https://localhost:8080/"
        },
        "id": "qwN9vQBx2onl",
        "outputId": "49351cd5-89b1-4cf8-dc56-ebc0c8b08d50"
      },
      "execution_count": null,
      "outputs": [
        {
          "output_type": "stream",
          "name": "stdout",
          "text": [
            "<class 'pandas.core.frame.DataFrame'>\n",
            "DatetimeIndex: 631 entries, 2020-04-10 to 2021-12-31\n",
            "Data columns (total 4 columns):\n",
            " #   Column      Non-Null Count  Dtype  \n",
            "---  ------      --------------  -----  \n",
            " 0   price_eth   631 non-null    float64\n",
            " 1   volume_eth  631 non-null    int64  \n",
            " 2   price_sol   631 non-null    float64\n",
            " 3   volume_sol  631 non-null    int64  \n",
            "dtypes: float64(2), int64(2)\n",
            "memory usage: 24.6 KB\n"
          ]
        }
      ]
    },
    {
      "cell_type": "code",
      "source": [
        "data['ret_eth'] = data.price_eth.pct_change()\n",
        "data['ret_eth_1'] = data.price_eth.pct_change().shift()\n",
        "data['ret_eth_2'] = data.price_eth.pct_change().shift(2)\n",
        "data['ret_eth_3'] = data.price_eth.pct_change().shift(3)"
      ],
      "metadata": {
        "id": "zsvmHIUm2z1r"
      },
      "execution_count": null,
      "outputs": []
    },
    {
      "cell_type": "code",
      "source": [
        "data['ret_sol'] = data.price_sol.pct_change()\n",
        "data['ret_sol_1'] = data.price_sol.pct_change().shift()\n",
        "data['ret_sol_2'] = data.price_sol.pct_change().shift(2)\n",
        "data['ret_sol_3'] = data.price_sol.pct_change().shift(3)"
      ],
      "metadata": {
        "id": "JIPE0qRA244G"
      },
      "execution_count": null,
      "outputs": []
    },
    {
      "cell_type": "code",
      "source": [
        "data.info()"
      ],
      "metadata": {
        "colab": {
          "base_uri": "https://localhost:8080/"
        },
        "id": "5PIJE45t29DK",
        "outputId": "be08b752-4738-494a-cd6b-8f3cc2aab20b"
      },
      "execution_count": null,
      "outputs": [
        {
          "output_type": "stream",
          "name": "stdout",
          "text": [
            "<class 'pandas.core.frame.DataFrame'>\n",
            "DatetimeIndex: 631 entries, 2020-04-10 to 2021-12-31\n",
            "Data columns (total 12 columns):\n",
            " #   Column      Non-Null Count  Dtype  \n",
            "---  ------      --------------  -----  \n",
            " 0   price_eth   631 non-null    float64\n",
            " 1   volume_eth  631 non-null    int64  \n",
            " 2   price_sol   631 non-null    float64\n",
            " 3   volume_sol  631 non-null    int64  \n",
            " 4   ret_eth     630 non-null    float64\n",
            " 5   ret_eth_1   629 non-null    float64\n",
            " 6   ret_eth_2   628 non-null    float64\n",
            " 7   ret_eth_3   627 non-null    float64\n",
            " 8   ret_sol     630 non-null    float64\n",
            " 9   ret_sol_1   629 non-null    float64\n",
            " 10  ret_sol_2   628 non-null    float64\n",
            " 11  ret_sol_3   627 non-null    float64\n",
            "dtypes: float64(10), int64(2)\n",
            "memory usage: 64.1 KB\n"
          ]
        }
      ]
    },
    {
      "cell_type": "code",
      "source": [
        "# 跑回歸 同期關係\n",
        "# eth = a + b*sol\n",
        "y = data.ret_eth\n",
        "x = sm.add_constant(data[['ret_sol','ret_eth_1','ret_eth_2','ret_eth_3']])\n",
        "result = sm.OLS(y,x,missing='drop').fit()\n",
        "print(result.summary())"
      ],
      "metadata": {
        "colab": {
          "base_uri": "https://localhost:8080/"
        },
        "id": "Jg4yI_qa3QDk",
        "outputId": "413ce1a3-09a9-46f4-f61f-57e3946417f3"
      },
      "execution_count": null,
      "outputs": [
        {
          "output_type": "stream",
          "name": "stdout",
          "text": [
            "                            OLS Regression Results                            \n",
            "==============================================================================\n",
            "Dep. Variable:                ret_eth   R-squared:                       0.229\n",
            "Model:                            OLS   Adj. R-squared:                  0.225\n",
            "Method:                 Least Squares   F-statistic:                     46.32\n",
            "Date:                Tue, 18 Jan 2022   Prob (F-statistic):           4.43e-34\n",
            "Time:                        11:15:17   Log-Likelihood:                 1073.9\n",
            "No. Observations:                 627   AIC:                            -2138.\n",
            "Df Residuals:                     622   BIC:                            -2116.\n",
            "Df Model:                           4                                         \n",
            "Covariance Type:            nonrobust                                         \n",
            "==============================================================================\n",
            "                 coef    std err          t      P>|t|      [0.025      0.975]\n",
            "------------------------------------------------------------------------------\n",
            "const          0.0034      0.002      1.860      0.063      -0.000       0.007\n",
            "ret_sol        0.2713      0.020     13.389      0.000       0.232       0.311\n",
            "ret_eth_1     -0.0229      0.035     -0.646      0.519      -0.092       0.047\n",
            "ret_eth_2      0.0061      0.035      0.171      0.864      -0.063       0.076\n",
            "ret_eth_3     -0.0500      0.035     -1.414      0.158      -0.119       0.019\n",
            "==============================================================================\n",
            "Omnibus:                       34.066   Durbin-Watson:                   1.928\n",
            "Prob(Omnibus):                  0.000   Jarque-Bera (JB):              110.111\n",
            "Skew:                           0.084   Prob(JB):                     1.23e-24\n",
            "Kurtosis:                       5.046   Cond. No.                         20.9\n",
            "==============================================================================\n",
            "\n",
            "Warnings:\n",
            "[1] Standard Errors assume that the covariance matrix of the errors is correctly specified.\n"
          ]
        }
      ]
    },
    {
      "cell_type": "code",
      "source": [
        "# 跑回歸 跨期關係\n",
        "# eth(t) = a + b*sol(t-1)\n",
        "y = data.ret_eth\n",
        "x = sm.add_constant(data[['ret_sol_1','ret_eth_1','ret_eth_2','ret_eth_3']])\n",
        "result = sm.OLS(y,x,missing='drop').fit()\n",
        "print(result.summary())"
      ],
      "metadata": {
        "colab": {
          "base_uri": "https://localhost:8080/"
        },
        "id": "OnN9WR3_3qVA",
        "outputId": "1140b7a5-d7c1-47cb-88d0-271bb90db0fa"
      },
      "execution_count": null,
      "outputs": [
        {
          "output_type": "stream",
          "name": "stdout",
          "text": [
            "                            OLS Regression Results                            \n",
            "==============================================================================\n",
            "Dep. Variable:                ret_eth   R-squared:                       0.014\n",
            "Model:                            OLS   Adj. R-squared:                  0.007\n",
            "Method:                 Least Squares   F-statistic:                     2.145\n",
            "Date:                Tue, 18 Jan 2022   Prob (F-statistic):             0.0738\n",
            "Time:                        11:15:19   Log-Likelihood:                 996.42\n",
            "No. Observations:                 627   AIC:                            -1983.\n",
            "Df Residuals:                     622   BIC:                            -1961.\n",
            "Df Model:                           4                                         \n",
            "Covariance Type:            nonrobust                                         \n",
            "==============================================================================\n",
            "                 coef    std err          t      P>|t|      [0.025      0.975]\n",
            "------------------------------------------------------------------------------\n",
            "const          0.0070      0.002      3.457      0.001       0.003       0.011\n",
            "ret_sol_1     -0.0512      0.026     -1.971      0.049      -0.102      -0.000\n",
            "ret_eth_1     -0.0221      0.045     -0.487      0.626      -0.111       0.067\n",
            "ret_eth_2      0.0322      0.040      0.804      0.422      -0.046       0.111\n",
            "ret_eth_3     -0.0312      0.040     -0.779      0.436      -0.110       0.047\n",
            "==============================================================================\n",
            "Omnibus:                       53.384   Durbin-Watson:                   1.997\n",
            "Prob(Omnibus):                  0.000   Jarque-Bera (JB):              277.351\n",
            "Skew:                          -0.027   Prob(JB):                     5.94e-61\n",
            "Kurtosis:                       6.258   Cond. No.                         23.9\n",
            "==============================================================================\n",
            "\n",
            "Warnings:\n",
            "[1] Standard Errors assume that the covariance matrix of the errors is correctly specified.\n"
          ]
        }
      ]
    },
    {
      "cell_type": "code",
      "source": [
        "# 跑回歸 跨期關係\n",
        "# eth(t) = a + b*sol(t-2)\n",
        "y = data.ret_eth\n",
        "x = sm.add_constant(data[['ret_sol_2','ret_eth_1','ret_eth_2','ret_eth_3']])\n",
        "result = sm.OLS(y,x,missing='drop').fit()\n",
        "print(result.summary())"
      ],
      "metadata": {
        "colab": {
          "base_uri": "https://localhost:8080/"
        },
        "id": "zac7o7N639RU",
        "outputId": "e6295fbb-d14b-4659-a513-8cdb13a98a0a"
      },
      "execution_count": null,
      "outputs": [
        {
          "output_type": "stream",
          "name": "stdout",
          "text": [
            "                            OLS Regression Results                            \n",
            "==============================================================================\n",
            "Dep. Variable:                ret_eth   R-squared:                       0.008\n",
            "Model:                            OLS   Adj. R-squared:                  0.001\n",
            "Method:                 Least Squares   F-statistic:                     1.181\n",
            "Date:                Tue, 18 Jan 2022   Prob (F-statistic):              0.318\n",
            "Time:                        11:15:21   Log-Likelihood:                 994.49\n",
            "No. Observations:                 627   AIC:                            -1979.\n",
            "Df Residuals:                     622   BIC:                            -1957.\n",
            "Df Model:                           4                                         \n",
            "Covariance Type:            nonrobust                                         \n",
            "==============================================================================\n",
            "                 coef    std err          t      P>|t|      [0.025      0.975]\n",
            "------------------------------------------------------------------------------\n",
            "const          0.0066      0.002      3.236      0.001       0.003       0.011\n",
            "ret_sol_2      0.0063      0.026      0.240      0.810      -0.045       0.057\n",
            "ret_eth_1     -0.0634      0.040     -1.578      0.115      -0.142       0.016\n",
            "ret_eth_2      0.0320      0.045      0.705      0.481      -0.057       0.121\n",
            "ret_eth_3     -0.0346      0.040     -0.861      0.389      -0.113       0.044\n",
            "==============================================================================\n",
            "Omnibus:                       58.170   Durbin-Watson:                   1.997\n",
            "Prob(Omnibus):                  0.000   Jarque-Bera (JB):              334.578\n",
            "Skew:                          -0.036   Prob(JB):                     2.23e-73\n",
            "Kurtosis:                       6.578   Cond. No.                         23.9\n",
            "==============================================================================\n",
            "\n",
            "Warnings:\n",
            "[1] Standard Errors assume that the covariance matrix of the errors is correctly specified.\n"
          ]
        }
      ]
    },
    {
      "cell_type": "code",
      "source": [
        "# 跑回歸 跨期關係\n",
        "# eth(t) = a + b*sol(t-3)\n",
        "y = data.ret_eth\n",
        "x = sm.add_constant(data[['ret_sol_3','ret_eth_1','ret_eth_2','ret_eth_3']])\n",
        "result = sm.OLS(y,x,missing='drop').fit()\n",
        "print(result.summary())"
      ],
      "metadata": {
        "colab": {
          "base_uri": "https://localhost:8080/"
        },
        "id": "G1S4-7KJ4A31",
        "outputId": "e6ecad98-c0a4-44cc-88c8-2d0301627016"
      },
      "execution_count": null,
      "outputs": [
        {
          "output_type": "stream",
          "name": "stdout",
          "text": [
            "                            OLS Regression Results                            \n",
            "==============================================================================\n",
            "Dep. Variable:                ret_eth   R-squared:                       0.016\n",
            "Model:                            OLS   Adj. R-squared:                  0.010\n",
            "Method:                 Least Squares   F-statistic:                     2.573\n",
            "Date:                Tue, 18 Jan 2022   Prob (F-statistic):             0.0368\n",
            "Time:                        11:15:23   Log-Likelihood:                 997.27\n",
            "No. Observations:                 627   AIC:                            -1985.\n",
            "Df Residuals:                     622   BIC:                            -1962.\n",
            "Df Model:                           4                                         \n",
            "Covariance Type:            nonrobust                                         \n",
            "==============================================================================\n",
            "                 coef    std err          t      P>|t|      [0.025      0.975]\n",
            "------------------------------------------------------------------------------\n",
            "const          0.0071      0.002      3.508      0.000       0.003       0.011\n",
            "ret_sol_3     -0.0609      0.026     -2.363      0.018      -0.111      -0.010\n",
            "ret_eth_1     -0.0628      0.040     -1.575      0.116      -0.141       0.015\n",
            "ret_eth_2      0.0292      0.040      0.729      0.466      -0.049       0.108\n",
            "ret_eth_3      0.0150      0.045      0.333      0.740      -0.074       0.104\n",
            "==============================================================================\n",
            "Omnibus:                       56.864   Durbin-Watson:                   1.994\n",
            "Prob(Omnibus):                  0.000   Jarque-Bera (JB):              318.948\n",
            "Skew:                          -0.023   Prob(JB):                     5.51e-70\n",
            "Kurtosis:                       6.494   Cond. No.                         23.9\n",
            "==============================================================================\n",
            "\n",
            "Warnings:\n",
            "[1] Standard Errors assume that the covariance matrix of the errors is correctly specified.\n"
          ]
        }
      ]
    },
    {
      "cell_type": "code",
      "source": [
        "# 跑回歸 跨期關係\n",
        "# eth(t) = a + b*sol(t-1) +sol(t-2) +sol(t-3)\n",
        "y = data.ret_eth\n",
        "x = sm.add_constant(data[['ret_sol_1','ret_sol_2','ret_sol_3','ret_eth_1','ret_eth_2','ret_eth_3']])\n",
        "result = sm.OLS(y,x,missing='drop').fit()\n",
        "print(result.summary())"
      ],
      "metadata": {
        "colab": {
          "base_uri": "https://localhost:8080/"
        },
        "id": "NyJ0jGPW4F5-",
        "outputId": "d050f114-1693-44cd-9c79-3e80c52a885d"
      },
      "execution_count": null,
      "outputs": [
        {
          "output_type": "stream",
          "name": "stdout",
          "text": [
            "                            OLS Regression Results                            \n",
            "==============================================================================\n",
            "Dep. Variable:                ret_eth   R-squared:                       0.023\n",
            "Model:                            OLS   Adj. R-squared:                  0.014\n",
            "Method:                 Least Squares   F-statistic:                     2.480\n",
            "Date:                Tue, 18 Jan 2022   Prob (F-statistic):             0.0223\n",
            "Time:                        11:15:25   Log-Likelihood:                 999.56\n",
            "No. Observations:                 627   AIC:                            -1985.\n",
            "Df Residuals:                     620   BIC:                            -1954.\n",
            "Df Model:                           6                                         \n",
            "Covariance Type:            nonrobust                                         \n",
            "==============================================================================\n",
            "                 coef    std err          t      P>|t|      [0.025      0.975]\n",
            "------------------------------------------------------------------------------\n",
            "const          0.0075      0.002      3.651      0.000       0.003       0.012\n",
            "ret_sol_1     -0.0549      0.026     -2.117      0.035      -0.106      -0.004\n",
            "ret_sol_2      0.0068      0.026      0.264      0.792      -0.044       0.058\n",
            "ret_sol_3     -0.0639      0.026     -2.484      0.013      -0.114      -0.013\n",
            "ret_eth_1     -0.0167      0.045     -0.369      0.712      -0.106       0.072\n",
            "ret_eth_2      0.0179      0.045      0.395      0.693      -0.071       0.107\n",
            "ret_eth_3      0.0226      0.045      0.498      0.619      -0.066       0.112\n",
            "==============================================================================\n",
            "Omnibus:                       51.404   Durbin-Watson:                   1.992\n",
            "Prob(Omnibus):                  0.000   Jarque-Bera (JB):              256.222\n",
            "Skew:                          -0.016   Prob(JB):                     2.30e-56\n",
            "Kurtosis:                       6.132   Cond. No.                         24.9\n",
            "==============================================================================\n",
            "\n",
            "Warnings:\n",
            "[1] Standard Errors assume that the covariance matrix of the errors is correctly specified.\n"
          ]
        }
      ]
    },
    {
      "cell_type": "markdown",
      "source": [
        "#ADA對ETH報酬的影響"
      ],
      "metadata": {
        "id": "OWY51g9S4aB8"
      }
    },
    {
      "cell_type": "code",
      "source": [
        "data_1 = yf.Ticker('ETH-USD').history(period='max')\n",
        "data_1.info()\n",
        "data_2 = yf.Ticker('ADA-USD').history(period='max')\n",
        "data_2.info()"
      ],
      "metadata": {
        "colab": {
          "base_uri": "https://localhost:8080/"
        },
        "id": "ll3HB7Xn4mvp",
        "outputId": "f7a2afa9-0a2d-462c-8c25-9271876c8a1f"
      },
      "execution_count": null,
      "outputs": [
        {
          "output_type": "stream",
          "name": "stdout",
          "text": [
            "<class 'pandas.core.frame.DataFrame'>\n",
            "DatetimeIndex: 1532 entries, 2017-11-09 to 2022-01-18\n",
            "Data columns (total 7 columns):\n",
            " #   Column        Non-Null Count  Dtype  \n",
            "---  ------        --------------  -----  \n",
            " 0   Open          1532 non-null   float64\n",
            " 1   High          1532 non-null   float64\n",
            " 2   Low           1532 non-null   float64\n",
            " 3   Close         1532 non-null   float64\n",
            " 4   Volume        1532 non-null   int64  \n",
            " 5   Dividends     1532 non-null   int64  \n",
            " 6   Stock Splits  1532 non-null   int64  \n",
            "dtypes: float64(4), int64(3)\n",
            "memory usage: 95.8 KB\n",
            "<class 'pandas.core.frame.DataFrame'>\n",
            "DatetimeIndex: 1532 entries, 2017-11-09 to 2022-01-18\n",
            "Data columns (total 7 columns):\n",
            " #   Column        Non-Null Count  Dtype  \n",
            "---  ------        --------------  -----  \n",
            " 0   Open          1532 non-null   float64\n",
            " 1   High          1532 non-null   float64\n",
            " 2   Low           1532 non-null   float64\n",
            " 3   Close         1532 non-null   float64\n",
            " 4   Volume        1532 non-null   int64  \n",
            " 5   Dividends     1532 non-null   int64  \n",
            " 6   Stock Splits  1532 non-null   int64  \n",
            "dtypes: float64(4), int64(3)\n",
            "memory usage: 95.8 KB\n"
          ]
        }
      ]
    },
    {
      "cell_type": "code",
      "source": [
        "data_1 = data_1['2017':'2021']\n",
        "data_1.info()\n",
        "data_2 = data_2['2017':'2021']\n",
        "data_2.info()"
      ],
      "metadata": {
        "colab": {
          "base_uri": "https://localhost:8080/"
        },
        "id": "Nhxphcge4yHb",
        "outputId": "ac27fdd7-103e-498c-f10b-766c97b5b1f0"
      },
      "execution_count": null,
      "outputs": [
        {
          "output_type": "stream",
          "name": "stdout",
          "text": [
            "<class 'pandas.core.frame.DataFrame'>\n",
            "DatetimeIndex: 1514 entries, 2017-11-09 to 2021-12-31\n",
            "Data columns (total 7 columns):\n",
            " #   Column        Non-Null Count  Dtype  \n",
            "---  ------        --------------  -----  \n",
            " 0   Open          1514 non-null   float64\n",
            " 1   High          1514 non-null   float64\n",
            " 2   Low           1514 non-null   float64\n",
            " 3   Close         1514 non-null   float64\n",
            " 4   Volume        1514 non-null   int64  \n",
            " 5   Dividends     1514 non-null   int64  \n",
            " 6   Stock Splits  1514 non-null   int64  \n",
            "dtypes: float64(4), int64(3)\n",
            "memory usage: 94.6 KB\n",
            "<class 'pandas.core.frame.DataFrame'>\n",
            "DatetimeIndex: 1514 entries, 2017-11-09 to 2021-12-31\n",
            "Data columns (total 7 columns):\n",
            " #   Column        Non-Null Count  Dtype  \n",
            "---  ------        --------------  -----  \n",
            " 0   Open          1514 non-null   float64\n",
            " 1   High          1514 non-null   float64\n",
            " 2   Low           1514 non-null   float64\n",
            " 3   Close         1514 non-null   float64\n",
            " 4   Volume        1514 non-null   int64  \n",
            " 5   Dividends     1514 non-null   int64  \n",
            " 6   Stock Splits  1514 non-null   int64  \n",
            "dtypes: float64(4), int64(3)\n",
            "memory usage: 94.6 KB\n"
          ]
        }
      ]
    },
    {
      "cell_type": "code",
      "source": [
        "data_1 = data_1[['Close','Volume']]\n",
        "data_1.columns = ['price_eth','volume_eth']\n",
        "data_1.info()\n",
        "data_2 = data_2[['Close','Volume']]\n",
        "data_2.columns = ['price_ada','volume_ada']\n",
        "data_2.info()"
      ],
      "metadata": {
        "colab": {
          "base_uri": "https://localhost:8080/"
        },
        "id": "JZsIdbFb5sk3",
        "outputId": "da3425f8-fc6e-4570-e9e7-645fe02f7264"
      },
      "execution_count": null,
      "outputs": [
        {
          "output_type": "stream",
          "name": "stdout",
          "text": [
            "<class 'pandas.core.frame.DataFrame'>\n",
            "DatetimeIndex: 1514 entries, 2017-11-09 to 2021-12-31\n",
            "Data columns (total 2 columns):\n",
            " #   Column      Non-Null Count  Dtype  \n",
            "---  ------      --------------  -----  \n",
            " 0   price_eth   1514 non-null   float64\n",
            " 1   volume_eth  1514 non-null   int64  \n",
            "dtypes: float64(1), int64(1)\n",
            "memory usage: 75.5 KB\n",
            "<class 'pandas.core.frame.DataFrame'>\n",
            "DatetimeIndex: 1514 entries, 2017-11-09 to 2021-12-31\n",
            "Data columns (total 2 columns):\n",
            " #   Column      Non-Null Count  Dtype  \n",
            "---  ------      --------------  -----  \n",
            " 0   price_ada   1514 non-null   float64\n",
            " 1   volume_ada  1514 non-null   int64  \n",
            "dtypes: float64(1), int64(1)\n",
            "memory usage: 75.5 KB\n"
          ]
        }
      ]
    },
    {
      "cell_type": "code",
      "source": [
        "data = pd.merge(data_1,data_2,left_index=True,right_index=True)\n",
        "data.info()"
      ],
      "metadata": {
        "colab": {
          "base_uri": "https://localhost:8080/"
        },
        "id": "HeVuvF0-42Zo",
        "outputId": "874f91b9-6b5f-42cd-f191-627cf4a02baa"
      },
      "execution_count": null,
      "outputs": [
        {
          "output_type": "stream",
          "name": "stdout",
          "text": [
            "<class 'pandas.core.frame.DataFrame'>\n",
            "DatetimeIndex: 1514 entries, 2017-11-09 to 2021-12-31\n",
            "Data columns (total 4 columns):\n",
            " #   Column      Non-Null Count  Dtype  \n",
            "---  ------      --------------  -----  \n",
            " 0   price_eth   1514 non-null   float64\n",
            " 1   volume_eth  1514 non-null   int64  \n",
            " 2   price_ada   1514 non-null   float64\n",
            " 3   volume_ada  1514 non-null   int64  \n",
            "dtypes: float64(2), int64(2)\n",
            "memory usage: 99.1 KB\n"
          ]
        }
      ]
    },
    {
      "cell_type": "code",
      "source": [
        "data['ret_eth'] = data.price_eth.pct_change()\n",
        "data['ret_eth_1'] = data.price_eth.pct_change().shift()\n",
        "data['ret_eth_2'] = data.price_eth.pct_change().shift(2)\n",
        "data['ret_eth_3'] = data.price_eth.pct_change().shift(3)"
      ],
      "metadata": {
        "id": "Mi9JmasY460z"
      },
      "execution_count": null,
      "outputs": []
    },
    {
      "cell_type": "code",
      "source": [
        "data['ret_ada'] = data.price_ada.pct_change()\n",
        "data['ret_ada_1'] = data.price_ada.pct_change().shift()\n",
        "data['ret_ada_2'] = data.price_ada.pct_change().shift(2)\n",
        "data['ret_ada_3'] = data.price_ada.pct_change().shift(3)"
      ],
      "metadata": {
        "id": "JFNbJYH75AMs"
      },
      "execution_count": null,
      "outputs": []
    },
    {
      "cell_type": "code",
      "source": [
        "data.info()"
      ],
      "metadata": {
        "colab": {
          "base_uri": "https://localhost:8080/"
        },
        "id": "4qTaRFF05zC6",
        "outputId": "3cf61ca6-0056-4693-e65c-79329b4eef09"
      },
      "execution_count": null,
      "outputs": [
        {
          "output_type": "stream",
          "name": "stdout",
          "text": [
            "<class 'pandas.core.frame.DataFrame'>\n",
            "DatetimeIndex: 1514 entries, 2017-11-09 to 2021-12-31\n",
            "Data columns (total 12 columns):\n",
            " #   Column      Non-Null Count  Dtype  \n",
            "---  ------      --------------  -----  \n",
            " 0   price_eth   1514 non-null   float64\n",
            " 1   volume_eth  1514 non-null   int64  \n",
            " 2   price_ada   1514 non-null   float64\n",
            " 3   volume_ada  1514 non-null   int64  \n",
            " 4   ret_eth     1513 non-null   float64\n",
            " 5   ret_eth_1   1512 non-null   float64\n",
            " 6   ret_eth_2   1511 non-null   float64\n",
            " 7   ret_eth_3   1510 non-null   float64\n",
            " 8   ret_ada     1513 non-null   float64\n",
            " 9   ret_ada_2   1511 non-null   float64\n",
            " 10  ret_ada_3   1510 non-null   float64\n",
            " 11  ret_ada_1   1512 non-null   float64\n",
            "dtypes: float64(10), int64(2)\n",
            "memory usage: 193.8 KB\n"
          ]
        }
      ]
    },
    {
      "cell_type": "code",
      "source": [
        "# 跑回歸 同期關係\n",
        "# eth = a + b*ada\n",
        "y = data.ret_eth\n",
        "x = sm.add_constant(data[['ret_ada','ret_eth_1','ret_eth_2','ret_eth_3']])\n",
        "result = sm.OLS(y,x,missing='drop').fit()\n",
        "print(result.summary())"
      ],
      "metadata": {
        "colab": {
          "base_uri": "https://localhost:8080/"
        },
        "id": "_8yLD50Q6Yi_",
        "outputId": "0623a733-dd9e-439a-8bf6-37e0ea52a751"
      },
      "execution_count": null,
      "outputs": [
        {
          "output_type": "stream",
          "name": "stdout",
          "text": [
            "                            OLS Regression Results                            \n",
            "==============================================================================\n",
            "Dep. Variable:                ret_eth   R-squared:                       0.336\n",
            "Model:                            OLS   Adj. R-squared:                  0.334\n",
            "Method:                 Least Squares   F-statistic:                     190.3\n",
            "Date:                Tue, 18 Jan 2022   Prob (F-statistic):          4.23e-132\n",
            "Time:                        11:21:00   Log-Likelihood:                 2636.4\n",
            "No. Observations:                1510   AIC:                            -5263.\n",
            "Df Residuals:                    1505   BIC:                            -5236.\n",
            "Df Model:                           4                                         \n",
            "Covariance Type:            nonrobust                                         \n",
            "==============================================================================\n",
            "                 coef    std err          t      P>|t|      [0.025      0.975]\n",
            "------------------------------------------------------------------------------\n",
            "const          0.0012      0.001      1.100      0.271      -0.001       0.003\n",
            "ret_ada        0.3752      0.014     27.347      0.000       0.348       0.402\n",
            "ret_eth_1     -0.0363      0.014     -2.651      0.008      -0.063      -0.009\n",
            "ret_eth_2      0.0180      0.021      0.854      0.393      -0.023       0.059\n",
            "ret_eth_3     -0.0189      0.021     -0.898      0.370      -0.060       0.022\n",
            "==============================================================================\n",
            "Omnibus:                      746.551   Durbin-Watson:                   1.971\n",
            "Prob(Omnibus):                  0.000   Jarque-Bera (JB):            29529.813\n",
            "Skew:                          -1.618   Prob(JB):                         0.00\n",
            "Kurtosis:                      24.421   Cond. No.                         19.9\n",
            "==============================================================================\n",
            "\n",
            "Warnings:\n",
            "[1] Standard Errors assume that the covariance matrix of the errors is correctly specified.\n"
          ]
        }
      ]
    },
    {
      "cell_type": "code",
      "source": [
        "# 跑回歸 跨期關係\n",
        "# eth(t) = a + b*ada(t-1)\n",
        "y = data.ret_eth\n",
        "x = sm.add_constant(data[['ret_ada_1','ret_eth_1','ret_eth_2','ret_eth_3']])\n",
        "result = sm.OLS(y,x,missing='drop').fit()\n",
        "print(result.summary())"
      ],
      "metadata": {
        "colab": {
          "base_uri": "https://localhost:8080/"
        },
        "id": "hBUbdHZD6lyX",
        "outputId": "22dbc6dd-1448-48de-facc-159ee5466667"
      },
      "execution_count": null,
      "outputs": [
        {
          "output_type": "stream",
          "name": "stdout",
          "text": [
            "                            OLS Regression Results                            \n",
            "==============================================================================\n",
            "Dep. Variable:                ret_eth   R-squared:                       0.006\n",
            "Model:                            OLS   Adj. R-squared:                  0.004\n",
            "Method:                 Least Squares   F-statistic:                     2.992\n",
            "Date:                Tue, 18 Jan 2022   Prob (F-statistic):             0.0299\n",
            "Time:                        11:21:03   Log-Likelihood:                 2331.9\n",
            "No. Observations:                1510   AIC:                            -4656.\n",
            "Df Residuals:                    1506   BIC:                            -4634.\n",
            "Df Model:                           3                                         \n",
            "Covariance Type:            nonrobust                                         \n",
            "==============================================================================\n",
            "                 coef    std err          t      P>|t|      [0.025      0.975]\n",
            "------------------------------------------------------------------------------\n",
            "const          0.0030      0.001      2.235      0.026       0.000       0.006\n",
            "ret_ada_1     -0.0156      0.008     -1.865      0.062      -0.032       0.001\n",
            "ret_eth_1     -0.0156      0.008     -1.865      0.062      -0.032       0.001\n",
            "ret_eth_2      0.0582      0.026      2.263      0.024       0.008       0.109\n",
            "ret_eth_3      0.0033      0.026      0.127      0.899      -0.047       0.054\n",
            "==============================================================================\n",
            "Omnibus:                      206.994   Durbin-Watson:                   2.030\n",
            "Prob(Omnibus):                  0.000   Jarque-Bera (JB):             2042.095\n",
            "Skew:                          -0.259   Prob(JB):                         0.00\n",
            "Kurtosis:                       8.674   Cond. No.                     5.78e+16\n",
            "==============================================================================\n",
            "\n",
            "Warnings:\n",
            "[1] Standard Errors assume that the covariance matrix of the errors is correctly specified.\n",
            "[2] The smallest eigenvalue is 4.53e-31. This might indicate that there are\n",
            "strong multicollinearity problems or that the design matrix is singular.\n"
          ]
        }
      ]
    },
    {
      "cell_type": "code",
      "source": [
        "# 跑回歸 跨期關係\n",
        "# eth(t) = a + b*ada(t-2)\n",
        "y = data.ret_eth\n",
        "x = sm.add_constant(data[['ret_ada_2','ret_eth_1','ret_eth_2','ret_eth_3']])\n",
        "result = sm.OLS(y,x,missing='drop').fit()\n",
        "print(result.summary())"
      ],
      "metadata": {
        "colab": {
          "base_uri": "https://localhost:8080/"
        },
        "id": "1hFUDUKr61x1",
        "outputId": "8b68b56f-3e99-4c4c-fc45-621735d75392"
      },
      "execution_count": null,
      "outputs": [
        {
          "output_type": "stream",
          "name": "stdout",
          "text": [
            "                            OLS Regression Results                            \n",
            "==============================================================================\n",
            "Dep. Variable:                ret_eth   R-squared:                       0.007\n",
            "Model:                            OLS   Adj. R-squared:                  0.004\n",
            "Method:                 Least Squares   F-statistic:                     2.587\n",
            "Date:                Tue, 18 Jan 2022   Prob (F-statistic):             0.0354\n",
            "Time:                        11:21:23   Log-Likelihood:                 2332.6\n",
            "No. Observations:                1510   AIC:                            -4655.\n",
            "Df Residuals:                    1505   BIC:                            -4629.\n",
            "Df Model:                           4                                         \n",
            "Covariance Type:            nonrobust                                         \n",
            "==============================================================================\n",
            "                 coef    std err          t      P>|t|      [0.025      0.975]\n",
            "------------------------------------------------------------------------------\n",
            "const          0.0029      0.001      2.189      0.029       0.000       0.006\n",
            "ret_ada_2      0.0240      0.020      1.170      0.242      -0.016       0.064\n",
            "ret_eth_1     -0.0322      0.017     -1.920      0.055      -0.065       0.001\n",
            "ret_eth_2      0.0370      0.031      1.176      0.240      -0.025       0.099\n",
            "ret_eth_3      0.0040      0.026      0.156      0.876      -0.047       0.055\n",
            "==============================================================================\n",
            "Omnibus:                      206.419   Durbin-Watson:                   2.032\n",
            "Prob(Omnibus):                  0.000   Jarque-Bera (JB):             2046.459\n",
            "Skew:                          -0.252   Prob(JB):                         0.00\n",
            "Kurtosis:                       8.681   Cond. No.                         25.8\n",
            "==============================================================================\n",
            "\n",
            "Warnings:\n",
            "[1] Standard Errors assume that the covariance matrix of the errors is correctly specified.\n"
          ]
        }
      ]
    },
    {
      "cell_type": "code",
      "source": [
        "# 跑回歸 跨期關係\n",
        "# eth(t) = a + b*ada(t-3)\n",
        "y = data.ret_eth\n",
        "x = sm.add_constant(data[['ret_ada_3','ret_eth_1','ret_eth_2','ret_eth_3']])\n",
        "result = sm.OLS(y,x,missing='drop').fit()\n",
        "print(result.summary())"
      ],
      "metadata": {
        "colab": {
          "base_uri": "https://localhost:8080/"
        },
        "id": "_i0_yvf6650a",
        "outputId": "c7611576-44ad-44de-f811-9b8f4c621090"
      },
      "execution_count": null,
      "outputs": [
        {
          "output_type": "stream",
          "name": "stdout",
          "text": [
            "                            OLS Regression Results                            \n",
            "==============================================================================\n",
            "Dep. Variable:                ret_eth   R-squared:                       0.008\n",
            "Model:                            OLS   Adj. R-squared:                  0.005\n",
            "Method:                 Least Squares   F-statistic:                     3.005\n",
            "Date:                Tue, 18 Jan 2022   Prob (F-statistic):             0.0175\n",
            "Time:                        11:21:38   Log-Likelihood:                 2333.4\n",
            "No. Observations:                1510   AIC:                            -4657.\n",
            "Df Residuals:                    1505   BIC:                            -4630.\n",
            "Df Model:                           4                                         \n",
            "Covariance Type:            nonrobust                                         \n",
            "==============================================================================\n",
            "                 coef    std err          t      P>|t|      [0.025      0.975]\n",
            "------------------------------------------------------------------------------\n",
            "const          0.0029      0.001      2.183      0.029       0.000       0.006\n",
            "ret_ada_3      0.0361      0.021      1.741      0.082      -0.005       0.077\n",
            "ret_eth_1     -0.0362      0.017     -2.128      0.033      -0.069      -0.003\n",
            "ret_eth_2      0.0593      0.026      2.304      0.021       0.009       0.110\n",
            "ret_eth_3     -0.0281      0.031     -0.894      0.371      -0.090       0.034\n",
            "==============================================================================\n",
            "Omnibus:                      206.399   Durbin-Watson:                   2.027\n",
            "Prob(Omnibus):                  0.000   Jarque-Bera (JB):             2036.079\n",
            "Skew:                          -0.255   Prob(JB):                         0.00\n",
            "Kurtosis:                       8.666   Cond. No.                         25.8\n",
            "==============================================================================\n",
            "\n",
            "Warnings:\n",
            "[1] Standard Errors assume that the covariance matrix of the errors is correctly specified.\n"
          ]
        }
      ]
    },
    {
      "cell_type": "code",
      "source": [
        "# 跑回歸 跨期關係\n",
        "# eth(t) = a + b*ada(t-1) +ada(t-2) +ada(t-3)\n",
        "y = data.ret_eth\n",
        "x = sm.add_constant(data[['ret_ada_1','ret_ada_2','ret_ada_3','ret_eth_1','ret_eth_2','ret_eth_3']])\n",
        "result = sm.OLS(y,x,missing='drop').fit()\n",
        "print(result.summary())"
      ],
      "metadata": {
        "colab": {
          "base_uri": "https://localhost:8080/"
        },
        "id": "hs_lwpFc6fN_",
        "outputId": "8894f556-fce9-43b7-861e-3353660bf903"
      },
      "execution_count": null,
      "outputs": [
        {
          "output_type": "stream",
          "name": "stdout",
          "text": [
            "                            OLS Regression Results                            \n",
            "==============================================================================\n",
            "Dep. Variable:                ret_eth   R-squared:                       0.009\n",
            "Model:                            OLS   Adj. R-squared:                  0.005\n",
            "Method:                 Least Squares   F-statistic:                     2.624\n",
            "Date:                Tue, 18 Jan 2022   Prob (F-statistic):             0.0227\n",
            "Time:                        11:21:41   Log-Likelihood:                 2333.9\n",
            "No. Observations:                1510   AIC:                            -4656.\n",
            "Df Residuals:                    1504   BIC:                            -4624.\n",
            "Df Model:                           5                                         \n",
            "Covariance Type:            nonrobust                                         \n",
            "==============================================================================\n",
            "                 coef    std err          t      P>|t|      [0.025      0.975]\n",
            "------------------------------------------------------------------------------\n",
            "const          0.0029      0.001      2.144      0.032       0.000       0.005\n",
            "ret_ada_1     -0.0184      0.009     -2.165      0.031      -0.035      -0.002\n",
            "ret_ada_2      0.0215      0.021      1.049      0.294      -0.019       0.062\n",
            "ret_ada_3      0.0345      0.021      1.661      0.097      -0.006       0.075\n",
            "ret_eth_1     -0.0184      0.009     -2.165      0.031      -0.035      -0.002\n",
            "ret_eth_2      0.0402      0.032      1.274      0.203      -0.022       0.102\n",
            "ret_eth_3     -0.0261      0.031     -0.829      0.407      -0.088       0.036\n",
            "==============================================================================\n",
            "Omnibus:                      205.896   Durbin-Watson:                   2.026\n",
            "Prob(Omnibus):                  0.000   Jarque-Bera (JB):             2039.127\n",
            "Skew:                          -0.250   Prob(JB):                         0.00\n",
            "Kurtosis:                       8.671   Cond. No.                     1.99e+17\n",
            "==============================================================================\n",
            "\n",
            "Warnings:\n",
            "[1] Standard Errors assume that the covariance matrix of the errors is correctly specified.\n",
            "[2] The smallest eigenvalue is 3.8e-32. This might indicate that there are\n",
            "strong multicollinearity problems or that the design matrix is singular.\n"
          ]
        }
      ]
    },
    {
      "cell_type": "markdown",
      "source": [
        "#CRO對ETH報酬的影響"
      ],
      "metadata": {
        "id": "0UJEvA0x6-rt"
      }
    },
    {
      "cell_type": "code",
      "source": [
        "data_1 = yf.Ticker('ETH-USD').history(period='max')\n",
        "data_1.info()\n",
        "data_2 = yf.Ticker('CRO-USD').history(period='max')\n",
        "data_2.info()"
      ],
      "metadata": {
        "colab": {
          "base_uri": "https://localhost:8080/"
        },
        "id": "k96C7B9I7JJM",
        "outputId": "4bafb297-17ee-470a-ca14-f56c7c9d0903"
      },
      "execution_count": null,
      "outputs": [
        {
          "output_type": "stream",
          "name": "stdout",
          "text": [
            "<class 'pandas.core.frame.DataFrame'>\n",
            "DatetimeIndex: 1532 entries, 2017-11-09 to 2022-01-18\n",
            "Data columns (total 7 columns):\n",
            " #   Column        Non-Null Count  Dtype  \n",
            "---  ------        --------------  -----  \n",
            " 0   Open          1532 non-null   float64\n",
            " 1   High          1532 non-null   float64\n",
            " 2   Low           1532 non-null   float64\n",
            " 3   Close         1532 non-null   float64\n",
            " 4   Volume        1532 non-null   int64  \n",
            " 5   Dividends     1532 non-null   int64  \n",
            " 6   Stock Splits  1532 non-null   int64  \n",
            "dtypes: float64(4), int64(3)\n",
            "memory usage: 95.8 KB\n",
            "<class 'pandas.core.frame.DataFrame'>\n",
            "DatetimeIndex: 1132 entries, 2018-12-14 to 2022-01-18\n",
            "Data columns (total 7 columns):\n",
            " #   Column        Non-Null Count  Dtype  \n",
            "---  ------        --------------  -----  \n",
            " 0   Open          1132 non-null   float64\n",
            " 1   High          1132 non-null   float64\n",
            " 2   Low           1132 non-null   float64\n",
            " 3   Close         1132 non-null   float64\n",
            " 4   Volume        1132 non-null   int64  \n",
            " 5   Dividends     1132 non-null   int64  \n",
            " 6   Stock Splits  1132 non-null   int64  \n",
            "dtypes: float64(4), int64(3)\n",
            "memory usage: 70.8 KB\n"
          ]
        }
      ]
    },
    {
      "cell_type": "code",
      "source": [
        "data_1 = data_1['2017':'2021']\n",
        "data_1.info()\n",
        "data_2 = data_2['2017':'2021']\n",
        "data_2.info()"
      ],
      "metadata": {
        "colab": {
          "base_uri": "https://localhost:8080/"
        },
        "id": "DfIByD9W7Qs8",
        "outputId": "1c5b19b6-e0bd-496c-8879-7abce2d95064"
      },
      "execution_count": null,
      "outputs": [
        {
          "output_type": "stream",
          "name": "stdout",
          "text": [
            "<class 'pandas.core.frame.DataFrame'>\n",
            "DatetimeIndex: 1514 entries, 2017-11-09 to 2021-12-31\n",
            "Data columns (total 7 columns):\n",
            " #   Column        Non-Null Count  Dtype  \n",
            "---  ------        --------------  -----  \n",
            " 0   Open          1514 non-null   float64\n",
            " 1   High          1514 non-null   float64\n",
            " 2   Low           1514 non-null   float64\n",
            " 3   Close         1514 non-null   float64\n",
            " 4   Volume        1514 non-null   int64  \n",
            " 5   Dividends     1514 non-null   int64  \n",
            " 6   Stock Splits  1514 non-null   int64  \n",
            "dtypes: float64(4), int64(3)\n",
            "memory usage: 94.6 KB\n",
            "<class 'pandas.core.frame.DataFrame'>\n",
            "DatetimeIndex: 1114 entries, 2018-12-14 to 2021-12-31\n",
            "Data columns (total 7 columns):\n",
            " #   Column        Non-Null Count  Dtype  \n",
            "---  ------        --------------  -----  \n",
            " 0   Open          1114 non-null   float64\n",
            " 1   High          1114 non-null   float64\n",
            " 2   Low           1114 non-null   float64\n",
            " 3   Close         1114 non-null   float64\n",
            " 4   Volume        1114 non-null   int64  \n",
            " 5   Dividends     1114 non-null   int64  \n",
            " 6   Stock Splits  1114 non-null   int64  \n",
            "dtypes: float64(4), int64(3)\n",
            "memory usage: 69.6 KB\n"
          ]
        }
      ]
    },
    {
      "cell_type": "code",
      "source": [
        "data_1 = data_1[['Close','Volume']]\n",
        "data_1.columns = ['price_eth','volume_eth']\n",
        "data_1.info()\n",
        "data_2 = data_2[['Close','Volume']]\n",
        "data_2.columns = ['price_cro','volume_cro']\n",
        "data_2.info()"
      ],
      "metadata": {
        "colab": {
          "base_uri": "https://localhost:8080/"
        },
        "id": "x4-eGybC7fdG",
        "outputId": "cf7927de-3a34-41fd-d9be-a391cb33417b"
      },
      "execution_count": null,
      "outputs": [
        {
          "output_type": "stream",
          "name": "stdout",
          "text": [
            "<class 'pandas.core.frame.DataFrame'>\n",
            "DatetimeIndex: 1514 entries, 2017-11-09 to 2021-12-31\n",
            "Data columns (total 2 columns):\n",
            " #   Column      Non-Null Count  Dtype  \n",
            "---  ------      --------------  -----  \n",
            " 0   price_eth   1514 non-null   float64\n",
            " 1   volume_eth  1514 non-null   int64  \n",
            "dtypes: float64(1), int64(1)\n",
            "memory usage: 35.5 KB\n",
            "<class 'pandas.core.frame.DataFrame'>\n",
            "DatetimeIndex: 1114 entries, 2018-12-14 to 2021-12-31\n",
            "Data columns (total 2 columns):\n",
            " #   Column      Non-Null Count  Dtype  \n",
            "---  ------      --------------  -----  \n",
            " 0   price_cro   1114 non-null   float64\n",
            " 1   volume_cro  1114 non-null   int64  \n",
            "dtypes: float64(1), int64(1)\n",
            "memory usage: 26.1 KB\n"
          ]
        }
      ]
    },
    {
      "cell_type": "code",
      "source": [
        "data = pd.merge(data_1,data_2,left_index=True,right_index=True)\n",
        "data.info()"
      ],
      "metadata": {
        "colab": {
          "base_uri": "https://localhost:8080/"
        },
        "id": "76-JkyfY7m8a",
        "outputId": "77a0b249-4132-41b1-99e0-84d6026b7027"
      },
      "execution_count": null,
      "outputs": [
        {
          "output_type": "stream",
          "name": "stdout",
          "text": [
            "<class 'pandas.core.frame.DataFrame'>\n",
            "DatetimeIndex: 1114 entries, 2018-12-14 to 2021-12-31\n",
            "Data columns (total 4 columns):\n",
            " #   Column      Non-Null Count  Dtype  \n",
            "---  ------      --------------  -----  \n",
            " 0   price_eth   1114 non-null   float64\n",
            " 1   volume_eth  1114 non-null   int64  \n",
            " 2   price_cro   1114 non-null   float64\n",
            " 3   volume_cro  1114 non-null   int64  \n",
            "dtypes: float64(2), int64(2)\n",
            "memory usage: 43.5 KB\n"
          ]
        }
      ]
    },
    {
      "cell_type": "code",
      "source": [
        "data['ret_eth'] = data.price_eth.pct_change()\n",
        "data['ret_eth_1'] = data.price_eth.pct_change().shift()\n",
        "data['ret_eth_2'] = data.price_eth.pct_change().shift(2)\n",
        "data['ret_eth_3'] = data.price_eth.pct_change().shift(3)"
      ],
      "metadata": {
        "id": "fGgCt4mM7sln"
      },
      "execution_count": null,
      "outputs": []
    },
    {
      "cell_type": "code",
      "source": [
        "data['ret_cro'] = data.price_cro.pct_change()\n",
        "data['ret_cro_1'] = data.price_cro.pct_change().shift()\n",
        "data['ret_cro_2'] = data.price_cro.pct_change().shift(2)\n",
        "data['ret_cro_3'] = data.price_cro.pct_change().shift(3)"
      ],
      "metadata": {
        "id": "hl0alja67tVO"
      },
      "execution_count": null,
      "outputs": []
    },
    {
      "cell_type": "code",
      "source": [
        "data.info()"
      ],
      "metadata": {
        "colab": {
          "base_uri": "https://localhost:8080/"
        },
        "id": "g3mrs7nc7328",
        "outputId": "d83223df-20e0-4c63-c9ef-1eeba02dfd96"
      },
      "execution_count": null,
      "outputs": [
        {
          "output_type": "stream",
          "name": "stdout",
          "text": [
            "<class 'pandas.core.frame.DataFrame'>\n",
            "DatetimeIndex: 1114 entries, 2018-12-14 to 2021-12-31\n",
            "Data columns (total 12 columns):\n",
            " #   Column      Non-Null Count  Dtype  \n",
            "---  ------      --------------  -----  \n",
            " 0   price_eth   1114 non-null   float64\n",
            " 1   volume_eth  1114 non-null   int64  \n",
            " 2   price_cro   1114 non-null   float64\n",
            " 3   volume_cro  1114 non-null   int64  \n",
            " 4   ret_eth     1113 non-null   float64\n",
            " 5   ret_eth_1   1112 non-null   float64\n",
            " 6   ret_eth_2   1111 non-null   float64\n",
            " 7   ret_eth_3   1110 non-null   float64\n",
            " 8   ret_cro     1113 non-null   float64\n",
            " 9   ret_cro_1   1112 non-null   float64\n",
            " 10  ret_cro_2   1111 non-null   float64\n",
            " 11  ret_cro_3   1110 non-null   float64\n",
            "dtypes: float64(10), int64(2)\n",
            "memory usage: 113.1 KB\n"
          ]
        }
      ]
    },
    {
      "cell_type": "code",
      "source": [
        "# 跑回歸 同期關係\n",
        "# eth = a + b*cro\n",
        "y = data.ret_eth\n",
        "x = sm.add_constant(data[['ret_cro','ret_eth_1','ret_eth_2','ret_eth_3']])\n",
        "result = sm.OLS(y,x,missing='drop').fit()\n",
        "print(result.summary())"
      ],
      "metadata": {
        "colab": {
          "base_uri": "https://localhost:8080/"
        },
        "id": "W4jpV44_7-gW",
        "outputId": "8aaf2e3a-7248-4e76-e69d-5da89bdfe42e"
      },
      "execution_count": null,
      "outputs": [
        {
          "output_type": "stream",
          "name": "stdout",
          "text": [
            "                            OLS Regression Results                            \n",
            "==============================================================================\n",
            "Dep. Variable:                ret_eth   R-squared:                       0.160\n",
            "Model:                            OLS   Adj. R-squared:                  0.157\n",
            "Method:                 Least Squares   F-statistic:                     52.50\n",
            "Date:                Tue, 18 Jan 2022   Prob (F-statistic):           1.58e-40\n",
            "Time:                        11:26:23   Log-Likelihood:                 1850.2\n",
            "No. Observations:                1110   AIC:                            -3690.\n",
            "Df Residuals:                    1105   BIC:                            -3665.\n",
            "Df Model:                           4                                         \n",
            "Covariance Type:            nonrobust                                         \n",
            "==============================================================================\n",
            "                 coef    std err          t      P>|t|      [0.025      0.975]\n",
            "------------------------------------------------------------------------------\n",
            "const          0.0035      0.001      2.481      0.013       0.001       0.006\n",
            "ret_cro        0.2420      0.017     13.956      0.000       0.208       0.276\n",
            "ret_eth_1     -0.0718      0.028     -2.595      0.010      -0.126      -0.018\n",
            "ret_eth_2      0.0347      0.028      1.251      0.211      -0.020       0.089\n",
            "ret_eth_3     -0.0322      0.028     -1.162      0.246      -0.086       0.022\n",
            "==============================================================================\n",
            "Omnibus:                      225.893   Durbin-Watson:                   1.934\n",
            "Prob(Omnibus):                  0.000   Jarque-Bera (JB):             2888.197\n",
            "Skew:                          -0.542   Prob(JB):                         0.00\n",
            "Kurtosis:                      10.828   Cond. No.                         21.2\n",
            "==============================================================================\n",
            "\n",
            "Warnings:\n",
            "[1] Standard Errors assume that the covariance matrix of the errors is correctly specified.\n"
          ]
        }
      ]
    },
    {
      "cell_type": "code",
      "source": [
        "# 跑回歸 跨期關係\n",
        "# eth(t) = a + b*cro(t-1)\n",
        "y = data.ret_eth\n",
        "x = sm.add_constant(data[['ret_cro_1','ret_eth_1','ret_eth_2','ret_eth_3']])\n",
        "result = sm.OLS(y,x,missing='drop').fit()\n",
        "print(result.summary())"
      ],
      "metadata": {
        "colab": {
          "base_uri": "https://localhost:8080/"
        },
        "id": "4LMVN0a48Pf8",
        "outputId": "3963db99-8d7e-4276-a915-8cbd4a45331e"
      },
      "execution_count": null,
      "outputs": [
        {
          "output_type": "stream",
          "name": "stdout",
          "text": [
            "                            OLS Regression Results                            \n",
            "==============================================================================\n",
            "Dep. Variable:                ret_eth   R-squared:                       0.016\n",
            "Model:                            OLS   Adj. R-squared:                  0.013\n",
            "Method:                 Least Squares   F-statistic:                     4.586\n",
            "Date:                Tue, 18 Jan 2022   Prob (F-statistic):            0.00112\n",
            "Time:                        11:27:40   Log-Likelihood:                 1762.7\n",
            "No. Observations:                1110   AIC:                            -3515.\n",
            "Df Residuals:                    1105   BIC:                            -3490.\n",
            "Df Model:                           4                                         \n",
            "Covariance Type:            nonrobust                                         \n",
            "==============================================================================\n",
            "                 coef    std err          t      P>|t|      [0.025      0.975]\n",
            "------------------------------------------------------------------------------\n",
            "const          0.0050      0.002      3.333      0.001       0.002       0.008\n",
            "ret_cro_1     -0.0469      0.020     -2.308      0.021      -0.087      -0.007\n",
            "ret_eth_1     -0.0577      0.032     -1.780      0.075      -0.121       0.006\n",
            "ret_eth_2      0.0453      0.030      1.510      0.131      -0.014       0.104\n",
            "ret_eth_3     -0.0270      0.030     -0.902      0.368      -0.086       0.032\n",
            "==============================================================================\n",
            "Omnibus:                      216.111   Durbin-Watson:                   2.000\n",
            "Prob(Omnibus):                  0.000   Jarque-Bera (JB):             2833.171\n",
            "Skew:                          -0.484   Prob(JB):                         0.00\n",
            "Kurtosis:                      10.767   Cond. No.                         22.9\n",
            "==============================================================================\n",
            "\n",
            "Warnings:\n",
            "[1] Standard Errors assume that the covariance matrix of the errors is correctly specified.\n"
          ]
        }
      ]
    },
    {
      "cell_type": "code",
      "source": [
        "# 跑回歸 跨期關係\n",
        "# eth(t) = a + b*cro(t-2)\n",
        "y = data.ret_eth\n",
        "x = sm.add_constant(data[['ret_cro_2','ret_eth_1','ret_eth_2','ret_eth_3']])\n",
        "result = sm.OLS(y,x,missing='drop').fit()\n",
        "print(result.summary())"
      ],
      "metadata": {
        "colab": {
          "base_uri": "https://localhost:8080/"
        },
        "id": "cwDII8oN8XLI",
        "outputId": "db52ba31-5c44-407b-ff1c-bf9c20513cb7"
      },
      "execution_count": null,
      "outputs": [
        {
          "output_type": "stream",
          "name": "stdout",
          "text": [
            "                            OLS Regression Results                            \n",
            "==============================================================================\n",
            "Dep. Variable:                ret_eth   R-squared:                       0.012\n",
            "Model:                            OLS   Adj. R-squared:                  0.008\n",
            "Method:                 Least Squares   F-statistic:                     3.249\n",
            "Date:                Tue, 18 Jan 2022   Prob (F-statistic):             0.0116\n",
            "Time:                        11:28:07   Log-Likelihood:                 1760.1\n",
            "No. Observations:                1110   AIC:                            -3510.\n",
            "Df Residuals:                    1105   BIC:                            -3485.\n",
            "Df Model:                           4                                         \n",
            "Covariance Type:            nonrobust                                         \n",
            "==============================================================================\n",
            "                 coef    std err          t      P>|t|      [0.025      0.975]\n",
            "------------------------------------------------------------------------------\n",
            "const          0.0049      0.002      3.243      0.001       0.002       0.008\n",
            "ret_cro_2     -0.0041      0.020     -0.201      0.841      -0.044       0.036\n",
            "ret_eth_1     -0.0869      0.030     -2.888      0.004      -0.146      -0.028\n",
            "ret_eth_2      0.0481      0.033      1.478      0.140      -0.016       0.112\n",
            "ret_eth_3     -0.0277      0.030     -0.922      0.357      -0.087       0.031\n",
            "==============================================================================\n",
            "Omnibus:                      214.155   Durbin-Watson:                   2.000\n",
            "Prob(Omnibus):                  0.000   Jarque-Bera (JB):             2830.012\n",
            "Skew:                          -0.471   Prob(JB):                         0.00\n",
            "Kurtosis:                      10.765   Cond. No.                         22.9\n",
            "==============================================================================\n",
            "\n",
            "Warnings:\n",
            "[1] Standard Errors assume that the covariance matrix of the errors is correctly specified.\n"
          ]
        }
      ]
    },
    {
      "cell_type": "code",
      "source": [
        "# 跑回歸 跨期關係\n",
        "# eth(t) = a + b*cro(t-3)\n",
        "y = data.ret_eth\n",
        "x = sm.add_constant(data[['ret_cro_3','ret_eth_1','ret_eth_2','ret_eth_3']])\n",
        "result = sm.OLS(y,x,missing='drop').fit()\n",
        "print(result.summary())"
      ],
      "metadata": {
        "colab": {
          "base_uri": "https://localhost:8080/"
        },
        "id": "r9eKwbCv8cJl",
        "outputId": "fa5af5df-8821-43e0-c899-3315ca135b63"
      },
      "execution_count": null,
      "outputs": [
        {
          "output_type": "stream",
          "name": "stdout",
          "text": [
            "                            OLS Regression Results                            \n",
            "==============================================================================\n",
            "Dep. Variable:                ret_eth   R-squared:                       0.012\n",
            "Model:                            OLS   Adj. R-squared:                  0.008\n",
            "Method:                 Least Squares   F-statistic:                     3.241\n",
            "Date:                Tue, 18 Jan 2022   Prob (F-statistic):             0.0118\n",
            "Time:                        11:28:19   Log-Likelihood:                 1760.1\n",
            "No. Observations:                1110   AIC:                            -3510.\n",
            "Df Residuals:                    1105   BIC:                            -3485.\n",
            "Df Model:                           4                                         \n",
            "Covariance Type:            nonrobust                                         \n",
            "==============================================================================\n",
            "                 coef    std err          t      P>|t|      [0.025      0.975]\n",
            "------------------------------------------------------------------------------\n",
            "const          0.0049      0.002      3.229      0.001       0.002       0.008\n",
            "ret_cro_3      0.0019      0.020      0.093      0.926      -0.038       0.042\n",
            "ret_eth_1     -0.0864      0.030     -2.880      0.004      -0.145      -0.028\n",
            "ret_eth_2      0.0458      0.030      1.518      0.129      -0.013       0.105\n",
            "ret_eth_3     -0.0288      0.032     -0.888      0.375      -0.092       0.035\n",
            "==============================================================================\n",
            "Omnibus:                      213.825   Durbin-Watson:                   2.000\n",
            "Prob(Omnibus):                  0.000   Jarque-Bera (JB):             2824.404\n",
            "Skew:                          -0.470   Prob(JB):                         0.00\n",
            "Kurtosis:                      10.758   Cond. No.                         22.7\n",
            "==============================================================================\n",
            "\n",
            "Warnings:\n",
            "[1] Standard Errors assume that the covariance matrix of the errors is correctly specified.\n"
          ]
        }
      ]
    },
    {
      "cell_type": "code",
      "source": [
        "# 跑回歸 跨期關係\n",
        "# eth(t) = a + b*cro(t-1) +cro(t-2) +cro(t-3)\n",
        "y = data.ret_eth\n",
        "x = sm.add_constant(data[['ret_cro_1','ret_cro_2','ret_cro_3','ret_eth_1','ret_eth_2','ret_eth_3']])\n",
        "result = sm.OLS(y,x,missing='drop').fit()\n",
        "print(result.summary())"
      ],
      "metadata": {
        "colab": {
          "base_uri": "https://localhost:8080/"
        },
        "id": "MyMi1gp38FmW",
        "outputId": "86fa5f90-0a6c-45aa-e72a-93e098a3547e"
      },
      "execution_count": null,
      "outputs": [
        {
          "output_type": "stream",
          "name": "stdout",
          "text": [
            "                            OLS Regression Results                            \n",
            "==============================================================================\n",
            "Dep. Variable:                ret_eth   R-squared:                       0.016\n",
            "Model:                            OLS   Adj. R-squared:                  0.011\n",
            "Method:                 Least Squares   F-statistic:                     3.058\n",
            "Date:                Tue, 18 Jan 2022   Prob (F-statistic):            0.00569\n",
            "Time:                        11:27:16   Log-Likelihood:                 1762.7\n",
            "No. Observations:                1110   AIC:                            -3511.\n",
            "Df Residuals:                    1103   BIC:                            -3476.\n",
            "Df Model:                           6                                         \n",
            "Covariance Type:            nonrobust                                         \n",
            "==============================================================================\n",
            "                 coef    std err          t      P>|t|      [0.025      0.975]\n",
            "------------------------------------------------------------------------------\n",
            "const          0.0050      0.002      3.320      0.001       0.002       0.008\n",
            "ret_cro_1     -0.0469      0.020     -2.302      0.021      -0.087      -0.007\n",
            "ret_cro_2     -0.0016      0.020     -0.079      0.937      -0.042       0.038\n",
            "ret_cro_3      0.0034      0.020      0.169      0.866      -0.037       0.043\n",
            "ret_eth_1     -0.0578      0.033     -1.775      0.076      -0.122       0.006\n",
            "ret_eth_2      0.0467      0.033      1.431      0.153      -0.017       0.111\n",
            "ret_eth_3     -0.0291      0.032     -0.897      0.370      -0.093       0.035\n",
            "==============================================================================\n",
            "Omnibus:                      216.163   Durbin-Watson:                   1.999\n",
            "Prob(Omnibus):                  0.000   Jarque-Bera (JB):             2831.285\n",
            "Skew:                          -0.485   Prob(JB):                         0.00\n",
            "Kurtosis:                      10.764   Cond. No.                         23.2\n",
            "==============================================================================\n",
            "\n",
            "Warnings:\n",
            "[1] Standard Errors assume that the covariance matrix of the errors is correctly specified.\n"
          ]
        }
      ]
    },
    {
      "cell_type": "markdown",
      "source": [
        "#LUNA對ETH報酬的影響"
      ],
      "metadata": {
        "id": "i5W9RAQP8f4Z"
      }
    },
    {
      "cell_type": "code",
      "source": [
        "data_1 = yf.Ticker('ETH-USD').history(period='max')\n",
        "data_1.info()\n",
        "data_2 = yf.Ticker('LUNA-USD').history(period='max')\n",
        "data_2.info()"
      ],
      "metadata": {
        "colab": {
          "base_uri": "https://localhost:8080/"
        },
        "id": "pn4yPQK48ldL",
        "outputId": "a935c03f-b6dd-47c8-8dc4-07ed2ad43622"
      },
      "execution_count": null,
      "outputs": [
        {
          "output_type": "stream",
          "name": "stdout",
          "text": [
            "<class 'pandas.core.frame.DataFrame'>\n",
            "DatetimeIndex: 1532 entries, 2017-11-09 to 2022-01-18\n",
            "Data columns (total 7 columns):\n",
            " #   Column        Non-Null Count  Dtype  \n",
            "---  ------        --------------  -----  \n",
            " 0   Open          1532 non-null   float64\n",
            " 1   High          1532 non-null   float64\n",
            " 2   Low           1532 non-null   float64\n",
            " 3   Close         1532 non-null   float64\n",
            " 4   Volume        1532 non-null   int64  \n",
            " 5   Dividends     1532 non-null   int64  \n",
            " 6   Stock Splits  1532 non-null   int64  \n",
            "dtypes: float64(4), int64(3)\n",
            "memory usage: 95.8 KB\n",
            "<class 'pandas.core.frame.DataFrame'>\n",
            "DatetimeIndex: 1531 entries, 2017-11-09 to 2022-01-17\n",
            "Data columns (total 7 columns):\n",
            " #   Column        Non-Null Count  Dtype  \n",
            "---  ------        --------------  -----  \n",
            " 0   Open          1531 non-null   float64\n",
            " 1   High          1531 non-null   float64\n",
            " 2   Low           1531 non-null   float64\n",
            " 3   Close         1531 non-null   float64\n",
            " 4   Volume        1531 non-null   int64  \n",
            " 5   Dividends     1531 non-null   int64  \n",
            " 6   Stock Splits  1531 non-null   int64  \n",
            "dtypes: float64(4), int64(3)\n",
            "memory usage: 95.7 KB\n"
          ]
        }
      ]
    },
    {
      "cell_type": "code",
      "source": [
        "data_1 = data_1['2017':'2021']\n",
        "data_1.info()\n",
        "data_2 = data_2['2017':'2021']\n",
        "data_2.info()"
      ],
      "metadata": {
        "colab": {
          "base_uri": "https://localhost:8080/"
        },
        "id": "1MT0Ay_28wTa",
        "outputId": "5a031fac-ecec-4af6-b649-4a3477f8bb0d"
      },
      "execution_count": null,
      "outputs": [
        {
          "output_type": "stream",
          "name": "stdout",
          "text": [
            "<class 'pandas.core.frame.DataFrame'>\n",
            "DatetimeIndex: 1514 entries, 2017-11-09 to 2021-12-31\n",
            "Data columns (total 7 columns):\n",
            " #   Column        Non-Null Count  Dtype  \n",
            "---  ------        --------------  -----  \n",
            " 0   Open          1514 non-null   float64\n",
            " 1   High          1514 non-null   float64\n",
            " 2   Low           1514 non-null   float64\n",
            " 3   Close         1514 non-null   float64\n",
            " 4   Volume        1514 non-null   int64  \n",
            " 5   Dividends     1514 non-null   int64  \n",
            " 6   Stock Splits  1514 non-null   int64  \n",
            "dtypes: float64(4), int64(3)\n",
            "memory usage: 94.6 KB\n",
            "<class 'pandas.core.frame.DataFrame'>\n",
            "DatetimeIndex: 1514 entries, 2017-11-09 to 2021-12-31\n",
            "Data columns (total 7 columns):\n",
            " #   Column        Non-Null Count  Dtype  \n",
            "---  ------        --------------  -----  \n",
            " 0   Open          1514 non-null   float64\n",
            " 1   High          1514 non-null   float64\n",
            " 2   Low           1514 non-null   float64\n",
            " 3   Close         1514 non-null   float64\n",
            " 4   Volume        1514 non-null   int64  \n",
            " 5   Dividends     1514 non-null   int64  \n",
            " 6   Stock Splits  1514 non-null   int64  \n",
            "dtypes: float64(4), int64(3)\n",
            "memory usage: 94.6 KB\n"
          ]
        }
      ]
    },
    {
      "cell_type": "code",
      "source": [
        "data_1 = data_1[['Close','Volume']]\n",
        "data_1.columns = ['price_eth','volume_eth']\n",
        "data_1.info()\n",
        "data_2 = data_2[['Close','Volume']]\n",
        "data_2.columns = ['price_luna','volume_luna']\n",
        "data_2.info()"
      ],
      "metadata": {
        "colab": {
          "base_uri": "https://localhost:8080/"
        },
        "id": "chImokA181Bw",
        "outputId": "e4802d03-5c10-49a6-bc15-f580fc6e2648"
      },
      "execution_count": null,
      "outputs": [
        {
          "output_type": "stream",
          "name": "stdout",
          "text": [
            "<class 'pandas.core.frame.DataFrame'>\n",
            "DatetimeIndex: 1514 entries, 2017-11-09 to 2021-12-31\n",
            "Data columns (total 2 columns):\n",
            " #   Column      Non-Null Count  Dtype  \n",
            "---  ------      --------------  -----  \n",
            " 0   price_eth   1514 non-null   float64\n",
            " 1   volume_eth  1514 non-null   int64  \n",
            "dtypes: float64(1), int64(1)\n",
            "memory usage: 35.5 KB\n",
            "<class 'pandas.core.frame.DataFrame'>\n",
            "DatetimeIndex: 1514 entries, 2017-11-09 to 2021-12-31\n",
            "Data columns (total 2 columns):\n",
            " #   Column       Non-Null Count  Dtype  \n",
            "---  ------       --------------  -----  \n",
            " 0   price_luna   1514 non-null   float64\n",
            " 1   volume_luna  1514 non-null   int64  \n",
            "dtypes: float64(1), int64(1)\n",
            "memory usage: 35.5 KB\n"
          ]
        }
      ]
    },
    {
      "cell_type": "code",
      "source": [
        "data = pd.merge(data_1,data_2,left_index=True,right_index=True)\n",
        "data.info()"
      ],
      "metadata": {
        "colab": {
          "base_uri": "https://localhost:8080/"
        },
        "id": "BEylrkHU87_O",
        "outputId": "e09e2d18-74de-485f-abd4-eb753f1d0c2e"
      },
      "execution_count": null,
      "outputs": [
        {
          "output_type": "stream",
          "name": "stdout",
          "text": [
            "<class 'pandas.core.frame.DataFrame'>\n",
            "DatetimeIndex: 1514 entries, 2017-11-09 to 2021-12-31\n",
            "Data columns (total 4 columns):\n",
            " #   Column       Non-Null Count  Dtype  \n",
            "---  ------       --------------  -----  \n",
            " 0   price_eth    1514 non-null   float64\n",
            " 1   volume_eth   1514 non-null   int64  \n",
            " 2   price_luna   1514 non-null   float64\n",
            " 3   volume_luna  1514 non-null   int64  \n",
            "dtypes: float64(2), int64(2)\n",
            "memory usage: 99.1 KB\n"
          ]
        }
      ]
    },
    {
      "cell_type": "code",
      "source": [
        "data['ret_eth'] = data.price_eth.pct_change()\n",
        "data['ret_eth_1'] = data.price_eth.pct_change().shift()\n",
        "data['ret_eth_2'] = data.price_eth.pct_change().shift(2)\n",
        "data['ret_eth_3'] = data.price_eth.pct_change().shift(3)"
      ],
      "metadata": {
        "id": "0lVFk-459COv"
      },
      "execution_count": null,
      "outputs": []
    },
    {
      "cell_type": "code",
      "source": [
        "data['ret_luna'] = data.price_luna.pct_change()\n",
        "data['ret_luna_1'] = data.price_luna.pct_change().shift()\n",
        "data['ret_luna_2'] = data.price_luna.pct_change().shift(2)\n",
        "data['ret_luna_3'] = data.price_luna.pct_change().shift(3)"
      ],
      "metadata": {
        "id": "gMbjDPPB9C7t"
      },
      "execution_count": null,
      "outputs": []
    },
    {
      "cell_type": "code",
      "source": [
        "data.info()"
      ],
      "metadata": {
        "colab": {
          "base_uri": "https://localhost:8080/"
        },
        "id": "TIdpfJ3O9OEY",
        "outputId": "c794eefa-3a4a-47de-b448-9b9f21a43aea"
      },
      "execution_count": null,
      "outputs": [
        {
          "output_type": "stream",
          "name": "stdout",
          "text": [
            "<class 'pandas.core.frame.DataFrame'>\n",
            "DatetimeIndex: 1514 entries, 2017-11-09 to 2021-12-31\n",
            "Data columns (total 12 columns):\n",
            " #   Column       Non-Null Count  Dtype  \n",
            "---  ------       --------------  -----  \n",
            " 0   price_eth    1514 non-null   float64\n",
            " 1   volume_eth   1514 non-null   int64  \n",
            " 2   price_luna   1514 non-null   float64\n",
            " 3   volume_luna  1514 non-null   int64  \n",
            " 4   ret_eth      1513 non-null   float64\n",
            " 5   ret_eth_1    1512 non-null   float64\n",
            " 6   ret_eth_2    1511 non-null   float64\n",
            " 7   ret_eth_3    1510 non-null   float64\n",
            " 8   ret_luna     1513 non-null   float64\n",
            " 9   ret_luna_1   1512 non-null   float64\n",
            " 10  ret_luna_2   1511 non-null   float64\n",
            " 11  ret_luna_3   1510 non-null   float64\n",
            "dtypes: float64(10), int64(2)\n",
            "memory usage: 193.8 KB\n"
          ]
        }
      ]
    },
    {
      "cell_type": "code",
      "source": [
        "# 跑回歸 同期關係\n",
        "# eth = a + b*cro\n",
        "y = data.ret_eth\n",
        "x = sm.add_constant(data[['ret_luna','ret_eth_1','ret_eth_2','ret_eth_3']])\n",
        "result = sm.OLS(y,x,missing='drop').fit()\n",
        "print(result.summary())"
      ],
      "metadata": {
        "colab": {
          "base_uri": "https://localhost:8080/"
        },
        "id": "BlgG7xd79XdM",
        "outputId": "a34a39c7-3bd7-4f43-ec4d-aafb109015a6"
      },
      "execution_count": null,
      "outputs": [
        {
          "output_type": "stream",
          "name": "stdout",
          "text": [
            "                            OLS Regression Results                            \n",
            "==============================================================================\n",
            "Dep. Variable:                ret_eth   R-squared:                       0.010\n",
            "Model:                            OLS   Adj. R-squared:                  0.007\n",
            "Method:                 Least Squares   F-statistic:                     3.722\n",
            "Date:                Tue, 18 Jan 2022   Prob (F-statistic):            0.00508\n",
            "Time:                        11:32:24   Log-Likelihood:                 2334.8\n",
            "No. Observations:                1510   AIC:                            -4660.\n",
            "Df Residuals:                    1505   BIC:                            -4633.\n",
            "Df Model:                           4                                         \n",
            "Covariance Type:            nonrobust                                         \n",
            "==============================================================================\n",
            "                 coef    std err          t      P>|t|      [0.025      0.975]\n",
            "------------------------------------------------------------------------------\n",
            "const          0.0026      0.001      1.956      0.051   -8.08e-06       0.005\n",
            "ret_luna       0.0061      0.002      2.539      0.011       0.001       0.011\n",
            "ret_eth_1     -0.0453      0.026     -1.762      0.078      -0.096       0.005\n",
            "ret_eth_2      0.0579      0.026      2.251      0.025       0.007       0.108\n",
            "ret_eth_3      0.0016      0.026      0.063      0.950      -0.049       0.052\n",
            "==============================================================================\n",
            "Omnibus:                      204.780   Durbin-Watson:                   2.002\n",
            "Prob(Omnibus):                  0.000   Jarque-Bera (JB):             2012.193\n",
            "Skew:                          -0.248   Prob(JB):                         0.00\n",
            "Kurtosis:                       8.633   Cond. No.                         20.0\n",
            "==============================================================================\n",
            "\n",
            "Warnings:\n",
            "[1] Standard Errors assume that the covariance matrix of the errors is correctly specified.\n"
          ]
        }
      ]
    },
    {
      "cell_type": "code",
      "source": [
        "# 跑回歸 跨期關係\n",
        "# eth(t) = a + b*luna(t-1)\n",
        "y = data.ret_eth\n",
        "x = sm.add_constant(data[['ret_luna_1','ret_eth_1','ret_eth_2','ret_eth_3']])\n",
        "result = sm.OLS(y,x,missing='drop').fit()\n",
        "print(result.summary())"
      ],
      "metadata": {
        "colab": {
          "base_uri": "https://localhost:8080/"
        },
        "id": "Cs8S38N79oAx",
        "outputId": "2c664754-99b8-4496-d765-782999fa0937"
      },
      "execution_count": null,
      "outputs": [
        {
          "output_type": "stream",
          "name": "stdout",
          "text": [
            "                            OLS Regression Results                            \n",
            "==============================================================================\n",
            "Dep. Variable:                ret_eth   R-squared:                       0.006\n",
            "Model:                            OLS   Adj. R-squared:                  0.003\n",
            "Method:                 Least Squares   F-statistic:                     2.113\n",
            "Date:                Tue, 18 Jan 2022   Prob (F-statistic):             0.0770\n",
            "Time:                        11:33:50   Log-Likelihood:                 2331.6\n",
            "No. Observations:                1510   AIC:                            -4653.\n",
            "Df Residuals:                    1505   BIC:                            -4627.\n",
            "Df Model:                           4                                         \n",
            "Covariance Type:            nonrobust                                         \n",
            "==============================================================================\n",
            "                 coef    std err          t      P>|t|      [0.025      0.975]\n",
            "------------------------------------------------------------------------------\n",
            "const          0.0029      0.001      2.181      0.029       0.000       0.006\n",
            "ret_luna_1     0.0005      0.002      0.209      0.834      -0.004       0.005\n",
            "ret_eth_1     -0.0443      0.026     -1.717      0.086      -0.095       0.006\n",
            "ret_eth_2      0.0582      0.026      2.258      0.024       0.008       0.109\n",
            "ret_eth_3      0.0026      0.026      0.103      0.918      -0.048       0.053\n",
            "==============================================================================\n",
            "Omnibus:                      207.189   Durbin-Watson:                   2.000\n",
            "Prob(Omnibus):                  0.000   Jarque-Bera (JB):             2056.006\n",
            "Skew:                          -0.256   Prob(JB):                         0.00\n",
            "Kurtosis:                       8.693   Cond. No.                         20.0\n",
            "==============================================================================\n",
            "\n",
            "Warnings:\n",
            "[1] Standard Errors assume that the covariance matrix of the errors is correctly specified.\n"
          ]
        }
      ]
    },
    {
      "cell_type": "code",
      "source": [
        "# 跑回歸 跨期關係\n",
        "# eth(t) = a + b*luna(t-2)\n",
        "y = data.ret_eth\n",
        "x = sm.add_constant(data[['ret_luna_2','ret_eth_1','ret_eth_2','ret_eth_3']])\n",
        "result = sm.OLS(y,x,missing='drop').fit()\n",
        "print(result.summary())"
      ],
      "metadata": {
        "colab": {
          "base_uri": "https://localhost:8080/"
        },
        "id": "6m6GIaxS9wuK",
        "outputId": "d039cc22-ce83-4497-fd1c-72c33114a80d"
      },
      "execution_count": null,
      "outputs": [
        {
          "output_type": "stream",
          "name": "stdout",
          "text": [
            "                            OLS Regression Results                            \n",
            "==============================================================================\n",
            "Dep. Variable:                ret_eth   R-squared:                       0.006\n",
            "Model:                            OLS   Adj. R-squared:                  0.003\n",
            "Method:                 Least Squares   F-statistic:                     2.219\n",
            "Date:                Tue, 18 Jan 2022   Prob (F-statistic):             0.0648\n",
            "Time:                        11:34:05   Log-Likelihood:                 2331.8\n",
            "No. Observations:                1510   AIC:                            -4654.\n",
            "Df Residuals:                    1505   BIC:                            -4627.\n",
            "Df Model:                           4                                         \n",
            "Covariance Type:            nonrobust                                         \n",
            "==============================================================================\n",
            "                 coef    std err          t      P>|t|      [0.025      0.975]\n",
            "------------------------------------------------------------------------------\n",
            "const          0.0029      0.001      2.136      0.033       0.000       0.006\n",
            "ret_luna_2     0.0016      0.002      0.682      0.495      -0.003       0.006\n",
            "ret_eth_1     -0.0441      0.026     -1.711      0.087      -0.095       0.006\n",
            "ret_eth_2      0.0571      0.026      2.215      0.027       0.007       0.108\n",
            "ret_eth_3      0.0022      0.026      0.087      0.931      -0.048       0.053\n",
            "==============================================================================\n",
            "Omnibus:                      207.336   Durbin-Watson:                   1.998\n",
            "Prob(Omnibus):                  0.000   Jarque-Bera (JB):             2057.458\n",
            "Skew:                          -0.257   Prob(JB):                         0.00\n",
            "Kurtosis:                       8.695   Cond. No.                         20.0\n",
            "==============================================================================\n",
            "\n",
            "Warnings:\n",
            "[1] Standard Errors assume that the covariance matrix of the errors is correctly specified.\n"
          ]
        }
      ]
    },
    {
      "cell_type": "code",
      "source": [
        "# 跑回歸 跨期關係\n",
        "# eth(t) = a + b*luna(t-3)\n",
        "y = data.ret_eth\n",
        "x = sm.add_constant(data[['ret_luna_3','ret_eth_1','ret_eth_2','ret_eth_3']])\n",
        "result = sm.OLS(y,x,missing='drop').fit()\n",
        "print(result.summary())"
      ],
      "metadata": {
        "colab": {
          "base_uri": "https://localhost:8080/"
        },
        "id": "C3Kpk-YR9zx1",
        "outputId": "dab39149-e740-47b2-9658-ce1743b6a242"
      },
      "execution_count": null,
      "outputs": [
        {
          "output_type": "stream",
          "name": "stdout",
          "text": [
            "                            OLS Regression Results                            \n",
            "==============================================================================\n",
            "Dep. Variable:                ret_eth   R-squared:                       0.008\n",
            "Model:                            OLS   Adj. R-squared:                  0.005\n",
            "Method:                 Least Squares   F-statistic:                     2.897\n",
            "Date:                Tue, 18 Jan 2022   Prob (F-statistic):             0.0210\n",
            "Time:                        11:34:17   Log-Likelihood:                 2333.2\n",
            "No. Observations:                1510   AIC:                            -4656.\n",
            "Df Residuals:                    1505   BIC:                            -4630.\n",
            "Df Model:                           4                                         \n",
            "Covariance Type:            nonrobust                                         \n",
            "==============================================================================\n",
            "                 coef    std err          t      P>|t|      [0.025      0.975]\n",
            "------------------------------------------------------------------------------\n",
            "const          0.0032      0.001      2.374      0.018       0.001       0.006\n",
            "ret_luna_3    -0.0043      0.002     -1.778      0.076      -0.009       0.000\n",
            "ret_eth_1     -0.0432      0.026     -1.677      0.094      -0.094       0.007\n",
            "ret_eth_2      0.0586      0.026      2.280      0.023       0.008       0.109\n",
            "ret_eth_3      0.0056      0.026      0.216      0.829      -0.045       0.056\n",
            "==============================================================================\n",
            "Omnibus:                      197.594   Durbin-Watson:                   1.996\n",
            "Prob(Omnibus):                  0.000   Jarque-Bera (JB):             1848.076\n",
            "Skew:                          -0.237   Prob(JB):                         0.00\n",
            "Kurtosis:                       8.399   Cond. No.                         20.0\n",
            "==============================================================================\n",
            "\n",
            "Warnings:\n",
            "[1] Standard Errors assume that the covariance matrix of the errors is correctly specified.\n"
          ]
        }
      ]
    },
    {
      "cell_type": "code",
      "source": [
        "# 跑回歸 跨期關係\n",
        "# eth(t) = a + b*luna(t-1) +luna(t-2) +luna(t-3)\n",
        "y = data.ret_eth\n",
        "x = sm.add_constant(data[['ret_luna_1','ret_luna_2','ret_luna_3','ret_eth_1','ret_eth_2','ret_eth_3']])\n",
        "result = sm.OLS(y,x,missing='drop').fit()\n",
        "print(result.summary())"
      ],
      "metadata": {
        "colab": {
          "base_uri": "https://localhost:8080/"
        },
        "id": "K1ccMUvm9eVr",
        "outputId": "c289dd03-8673-4e71-9e70-dc3284615d94"
      },
      "execution_count": null,
      "outputs": [
        {
          "output_type": "stream",
          "name": "stdout",
          "text": [
            "                            OLS Regression Results                            \n",
            "==============================================================================\n",
            "Dep. Variable:                ret_eth   R-squared:                       0.008\n",
            "Model:                            OLS   Adj. R-squared:                  0.004\n",
            "Method:                 Least Squares   F-statistic:                     1.966\n",
            "Date:                Tue, 18 Jan 2022   Prob (F-statistic):             0.0674\n",
            "Time:                        11:33:16   Log-Likelihood:                 2333.3\n",
            "No. Observations:                1510   AIC:                            -4653.\n",
            "Df Residuals:                    1503   BIC:                            -4615.\n",
            "Df Model:                           6                                         \n",
            "Covariance Type:            nonrobust                                         \n",
            "==============================================================================\n",
            "                 coef    std err          t      P>|t|      [0.025      0.975]\n",
            "------------------------------------------------------------------------------\n",
            "const          0.0031      0.001      2.269      0.023       0.000       0.006\n",
            "ret_luna_1     0.0006      0.002      0.233      0.816      -0.004       0.005\n",
            "ret_luna_2     0.0011      0.002      0.442      0.658      -0.004       0.006\n",
            "ret_luna_3    -0.0041      0.002     -1.677      0.094      -0.009       0.001\n",
            "ret_eth_1     -0.0437      0.026     -1.691      0.091      -0.094       0.007\n",
            "ret_eth_2      0.0577      0.026      2.236      0.026       0.007       0.108\n",
            "ret_eth_3      0.0052      0.026      0.199      0.842      -0.045       0.056\n",
            "==============================================================================\n",
            "Omnibus:                      197.847   Durbin-Watson:                   1.996\n",
            "Prob(Omnibus):                  0.000   Jarque-Bera (JB):             1855.621\n",
            "Skew:                          -0.237   Prob(JB):                         0.00\n",
            "Kurtosis:                       8.410   Cond. No.                         20.1\n",
            "==============================================================================\n",
            "\n",
            "Warnings:\n",
            "[1] Standard Errors assume that the covariance matrix of the errors is correctly specified.\n"
          ]
        }
      ]
    },
    {
      "cell_type": "markdown",
      "source": [
        "#LINK對ETH報酬的影響"
      ],
      "metadata": {
        "id": "nW3RpXtK9289"
      }
    },
    {
      "cell_type": "code",
      "source": [
        "data_1 = yf.Ticker('ETH-USD').history(period='max')\n",
        "data_1.info()\n",
        "data_2 = yf.Ticker('LINK-USD').history(period='max')\n",
        "data_2.info()"
      ],
      "metadata": {
        "colab": {
          "base_uri": "https://localhost:8080/"
        },
        "id": "SurdCq7l-CeJ",
        "outputId": "edb3c25b-f05a-46e9-cdfa-601019f46684"
      },
      "execution_count": null,
      "outputs": [
        {
          "output_type": "stream",
          "name": "stdout",
          "text": [
            "<class 'pandas.core.frame.DataFrame'>\n",
            "DatetimeIndex: 1532 entries, 2017-11-09 to 2022-01-18\n",
            "Data columns (total 7 columns):\n",
            " #   Column        Non-Null Count  Dtype  \n",
            "---  ------        --------------  -----  \n",
            " 0   Open          1532 non-null   float64\n",
            " 1   High          1532 non-null   float64\n",
            " 2   Low           1532 non-null   float64\n",
            " 3   Close         1532 non-null   float64\n",
            " 4   Volume        1532 non-null   int64  \n",
            " 5   Dividends     1532 non-null   int64  \n",
            " 6   Stock Splits  1532 non-null   int64  \n",
            "dtypes: float64(4), int64(3)\n",
            "memory usage: 95.8 KB\n",
            "<class 'pandas.core.frame.DataFrame'>\n",
            "DatetimeIndex: 1532 entries, 2017-11-09 to 2022-01-18\n",
            "Data columns (total 7 columns):\n",
            " #   Column        Non-Null Count  Dtype  \n",
            "---  ------        --------------  -----  \n",
            " 0   Open          1532 non-null   float64\n",
            " 1   High          1532 non-null   float64\n",
            " 2   Low           1532 non-null   float64\n",
            " 3   Close         1532 non-null   float64\n",
            " 4   Volume        1532 non-null   int64  \n",
            " 5   Dividends     1532 non-null   int64  \n",
            " 6   Stock Splits  1532 non-null   int64  \n",
            "dtypes: float64(4), int64(3)\n",
            "memory usage: 95.8 KB\n"
          ]
        }
      ]
    },
    {
      "cell_type": "code",
      "source": [
        "data_1 = data_1['2017':'2021']\n",
        "data_1.info()\n",
        "data_2 = data_2['2017':'2021']\n",
        "data_2.info()"
      ],
      "metadata": {
        "colab": {
          "base_uri": "https://localhost:8080/"
        },
        "id": "g3ARBT1R-JnE",
        "outputId": "a226be3a-21dd-4859-cc51-c366242b9040"
      },
      "execution_count": null,
      "outputs": [
        {
          "output_type": "stream",
          "name": "stdout",
          "text": [
            "<class 'pandas.core.frame.DataFrame'>\n",
            "DatetimeIndex: 1514 entries, 2017-11-09 to 2021-12-31\n",
            "Data columns (total 7 columns):\n",
            " #   Column        Non-Null Count  Dtype  \n",
            "---  ------        --------------  -----  \n",
            " 0   Open          1514 non-null   float64\n",
            " 1   High          1514 non-null   float64\n",
            " 2   Low           1514 non-null   float64\n",
            " 3   Close         1514 non-null   float64\n",
            " 4   Volume        1514 non-null   int64  \n",
            " 5   Dividends     1514 non-null   int64  \n",
            " 6   Stock Splits  1514 non-null   int64  \n",
            "dtypes: float64(4), int64(3)\n",
            "memory usage: 94.6 KB\n",
            "<class 'pandas.core.frame.DataFrame'>\n",
            "DatetimeIndex: 1514 entries, 2017-11-09 to 2021-12-31\n",
            "Data columns (total 7 columns):\n",
            " #   Column        Non-Null Count  Dtype  \n",
            "---  ------        --------------  -----  \n",
            " 0   Open          1514 non-null   float64\n",
            " 1   High          1514 non-null   float64\n",
            " 2   Low           1514 non-null   float64\n",
            " 3   Close         1514 non-null   float64\n",
            " 4   Volume        1514 non-null   int64  \n",
            " 5   Dividends     1514 non-null   int64  \n",
            " 6   Stock Splits  1514 non-null   int64  \n",
            "dtypes: float64(4), int64(3)\n",
            "memory usage: 94.6 KB\n"
          ]
        }
      ]
    },
    {
      "cell_type": "code",
      "source": [
        "data_1 = data_1[['Close','Volume']]\n",
        "data_1.columns = ['price_eth','volume_eth']\n",
        "data_1.info()\n",
        "data_2 = data_2[['Close','Volume']]\n",
        "data_2.columns = ['price_link','volume_link']\n",
        "data_2.info()"
      ],
      "metadata": {
        "colab": {
          "base_uri": "https://localhost:8080/"
        },
        "id": "wmTcxBiT-TAG",
        "outputId": "dbc2e15d-8ca1-41b5-fe8b-9ec9a14e8779"
      },
      "execution_count": null,
      "outputs": [
        {
          "output_type": "stream",
          "name": "stdout",
          "text": [
            "<class 'pandas.core.frame.DataFrame'>\n",
            "DatetimeIndex: 1514 entries, 2017-11-09 to 2021-12-31\n",
            "Data columns (total 2 columns):\n",
            " #   Column      Non-Null Count  Dtype  \n",
            "---  ------      --------------  -----  \n",
            " 0   price_eth   1514 non-null   float64\n",
            " 1   volume_eth  1514 non-null   int64  \n",
            "dtypes: float64(1), int64(1)\n",
            "memory usage: 35.5 KB\n",
            "<class 'pandas.core.frame.DataFrame'>\n",
            "DatetimeIndex: 1514 entries, 2017-11-09 to 2021-12-31\n",
            "Data columns (total 2 columns):\n",
            " #   Column       Non-Null Count  Dtype  \n",
            "---  ------       --------------  -----  \n",
            " 0   price_link   1514 non-null   float64\n",
            " 1   volume_link  1514 non-null   int64  \n",
            "dtypes: float64(1), int64(1)\n",
            "memory usage: 35.5 KB\n"
          ]
        }
      ]
    },
    {
      "cell_type": "code",
      "source": [
        "data = pd.merge(data_1,data_2,left_index=True,right_index=True)\n",
        "data.info()"
      ],
      "metadata": {
        "colab": {
          "base_uri": "https://localhost:8080/"
        },
        "id": "0uSuQklM-baC",
        "outputId": "62d570a5-3d0a-4f37-ffb6-2a098c4b9c58"
      },
      "execution_count": null,
      "outputs": [
        {
          "output_type": "stream",
          "name": "stdout",
          "text": [
            "<class 'pandas.core.frame.DataFrame'>\n",
            "DatetimeIndex: 1514 entries, 2017-11-09 to 2021-12-31\n",
            "Data columns (total 4 columns):\n",
            " #   Column       Non-Null Count  Dtype  \n",
            "---  ------       --------------  -----  \n",
            " 0   price_eth    1514 non-null   float64\n",
            " 1   volume_eth   1514 non-null   int64  \n",
            " 2   price_link   1514 non-null   float64\n",
            " 3   volume_link  1514 non-null   int64  \n",
            "dtypes: float64(2), int64(2)\n",
            "memory usage: 99.1 KB\n"
          ]
        }
      ]
    },
    {
      "cell_type": "code",
      "source": [
        "data['ret_eth'] = data.price_eth.pct_change()\n",
        "data['ret_eth_1'] = data.price_eth.pct_change().shift()\n",
        "data['ret_eth_2'] = data.price_eth.pct_change().shift(2)\n",
        "data['ret_eth_3'] = data.price_eth.pct_change().shift(3)"
      ],
      "metadata": {
        "id": "gQR5CVGh-fuv"
      },
      "execution_count": null,
      "outputs": []
    },
    {
      "cell_type": "code",
      "source": [
        "data['ret_link'] = data.price_link.pct_change()\n",
        "data['ret_link_1'] = data.price_link.pct_change().shift()\n",
        "data['ret_link_2'] = data.price_link.pct_change().shift(2)\n",
        "data['ret_link_3'] = data.price_link.pct_change().shift(3)"
      ],
      "metadata": {
        "id": "uiO6XKfc-gVx"
      },
      "execution_count": null,
      "outputs": []
    },
    {
      "cell_type": "code",
      "source": [
        "data.info()"
      ],
      "metadata": {
        "colab": {
          "base_uri": "https://localhost:8080/"
        },
        "id": "aO9_g05f-rA9",
        "outputId": "a5c4a17a-7001-4970-f9d7-a6286d572a2c"
      },
      "execution_count": null,
      "outputs": [
        {
          "output_type": "stream",
          "name": "stdout",
          "text": [
            "<class 'pandas.core.frame.DataFrame'>\n",
            "DatetimeIndex: 1514 entries, 2017-11-09 to 2021-12-31\n",
            "Data columns (total 12 columns):\n",
            " #   Column       Non-Null Count  Dtype  \n",
            "---  ------       --------------  -----  \n",
            " 0   price_eth    1514 non-null   float64\n",
            " 1   volume_eth   1514 non-null   int64  \n",
            " 2   price_link   1514 non-null   float64\n",
            " 3   volume_link  1514 non-null   int64  \n",
            " 4   ret_eth      1513 non-null   float64\n",
            " 5   ret_eth_1    1512 non-null   float64\n",
            " 6   ret_eth_2    1511 non-null   float64\n",
            " 7   ret_eth_3    1510 non-null   float64\n",
            " 8   ret_link     1513 non-null   float64\n",
            " 9   ret_link_1   1512 non-null   float64\n",
            " 10  ret_link_2   1511 non-null   float64\n",
            " 11  ret_link_3   1510 non-null   float64\n",
            "dtypes: float64(10), int64(2)\n",
            "memory usage: 193.8 KB\n"
          ]
        }
      ]
    },
    {
      "cell_type": "code",
      "source": [
        "# 跑回歸 同期關係\n",
        "# eth = a + b*link\n",
        "y = data.ret_eth\n",
        "x = sm.add_constant(data[['ret_link','ret_eth_1','ret_eth_2','ret_eth_3']])\n",
        "result = sm.OLS(y,x,missing='drop').fit()\n",
        "print(result.summary())"
      ],
      "metadata": {
        "colab": {
          "base_uri": "https://localhost:8080/"
        },
        "id": "MlbJM3yn-05z",
        "outputId": "2c0cb983-3c37-4174-9a7c-9df34f979a1d"
      },
      "execution_count": null,
      "outputs": [
        {
          "output_type": "stream",
          "name": "stdout",
          "text": [
            "                            OLS Regression Results                            \n",
            "==============================================================================\n",
            "Dep. Variable:                ret_eth   R-squared:                       0.368\n",
            "Model:                            OLS   Adj. R-squared:                  0.366\n",
            "Method:                 Least Squares   F-statistic:                     218.8\n",
            "Date:                Tue, 18 Jan 2022   Prob (F-statistic):          4.11e-148\n",
            "Time:                        11:38:43   Log-Likelihood:                 2673.5\n",
            "No. Observations:                1510   AIC:                            -5337.\n",
            "Df Residuals:                    1505   BIC:                            -5310.\n",
            "Df Model:                           4                                         \n",
            "Covariance Type:            nonrobust                                         \n",
            "==============================================================================\n",
            "                 coef    std err          t      P>|t|      [0.025      0.975]\n",
            "------------------------------------------------------------------------------\n",
            "const          0.0005      0.001      0.496      0.620      -0.002       0.003\n",
            "ret_link       0.4140      0.014     29.362      0.000       0.386       0.442\n",
            "ret_eth_1     -0.0054      0.021     -0.260      0.795      -0.046       0.035\n",
            "ret_eth_2      0.0232      0.021      1.130      0.259      -0.017       0.064\n",
            "ret_eth_3     -0.0100      0.021     -0.485      0.628      -0.050       0.030\n",
            "==============================================================================\n",
            "Omnibus:                      207.047   Durbin-Watson:                   2.013\n",
            "Prob(Omnibus):                  0.000   Jarque-Bera (JB):             2405.072\n",
            "Skew:                           0.134   Prob(JB):                         0.00\n",
            "Kurtosis:                       9.177   Cond. No.                         20.0\n",
            "==============================================================================\n",
            "\n",
            "Warnings:\n",
            "[1] Standard Errors assume that the covariance matrix of the errors is correctly specified.\n"
          ]
        }
      ]
    },
    {
      "cell_type": "code",
      "source": [
        "# 跑回歸 跨期關係\n",
        "# eth(t) = a + b*link(t-1)\n",
        "y = data.ret_eth\n",
        "x = sm.add_constant(data[['ret_link_1','ret_eth_1','ret_eth_2','ret_eth_3']])\n",
        "result = sm.OLS(y,x,missing='drop').fit()\n",
        "print(result.summary())"
      ],
      "metadata": {
        "colab": {
          "base_uri": "https://localhost:8080/"
        },
        "id": "MJo6Udks-5yz",
        "outputId": "b876cd0f-1385-4e2f-afbb-f601919dcb98"
      },
      "execution_count": null,
      "outputs": [
        {
          "output_type": "stream",
          "name": "stdout",
          "text": [
            "                            OLS Regression Results                            \n",
            "==============================================================================\n",
            "Dep. Variable:                ret_eth   R-squared:                       0.006\n",
            "Model:                            OLS   Adj. R-squared:                  0.003\n",
            "Method:                 Least Squares   F-statistic:                     2.146\n",
            "Date:                Tue, 18 Jan 2022   Prob (F-statistic):             0.0729\n",
            "Time:                        11:39:19   Log-Likelihood:                 2331.7\n",
            "No. Observations:                1510   AIC:                            -4653.\n",
            "Df Residuals:                    1505   BIC:                            -4627.\n",
            "Df Model:                           4                                         \n",
            "Covariance Type:            nonrobust                                         \n",
            "==============================================================================\n",
            "                 coef    std err          t      P>|t|      [0.025      0.975]\n",
            "------------------------------------------------------------------------------\n",
            "const          0.0030      0.001      2.231      0.026       0.000       0.006\n",
            "ret_link_1    -0.0094      0.022     -0.422      0.673      -0.053       0.034\n",
            "ret_eth_1     -0.0358      0.032     -1.106      0.269      -0.099       0.028\n",
            "ret_eth_2      0.0578      0.026      2.242      0.025       0.007       0.108\n",
            "ret_eth_3      0.0030      0.026      0.115      0.909      -0.048       0.054\n",
            "==============================================================================\n",
            "Omnibus:                      207.358   Durbin-Watson:                   2.000\n",
            "Prob(Omnibus):                  0.000   Jarque-Bera (JB):             2054.544\n",
            "Skew:                          -0.258   Prob(JB):                         0.00\n",
            "Kurtosis:                       8.691   Cond. No.                         26.9\n",
            "==============================================================================\n",
            "\n",
            "Warnings:\n",
            "[1] Standard Errors assume that the covariance matrix of the errors is correctly specified.\n"
          ]
        }
      ]
    },
    {
      "cell_type": "code",
      "source": [
        "# 跑回歸 跨期關係\n",
        "# eth(t) = a + b*link(t-2)\n",
        "y = data.ret_eth\n",
        "x = sm.add_constant(data[['ret_link_2','ret_eth_1','ret_eth_2','ret_eth_3']])\n",
        "result = sm.OLS(y,x,missing='drop').fit()\n",
        "print(result.summary())"
      ],
      "metadata": {
        "colab": {
          "base_uri": "https://localhost:8080/"
        },
        "id": "bDJ5kC87_Avm",
        "outputId": "e7636c41-45a7-4132-a7e0-1db51e125354"
      },
      "execution_count": null,
      "outputs": [
        {
          "output_type": "stream",
          "name": "stdout",
          "text": [
            "                            OLS Regression Results                            \n",
            "==============================================================================\n",
            "Dep. Variable:                ret_eth   R-squared:                       0.006\n",
            "Model:                            OLS   Adj. R-squared:                  0.003\n",
            "Method:                 Least Squares   F-statistic:                     2.107\n",
            "Date:                Tue, 18 Jan 2022   Prob (F-statistic):             0.0776\n",
            "Time:                        11:39:40   Log-Likelihood:                 2331.6\n",
            "No. Observations:                1510   AIC:                            -4653.\n",
            "Df Residuals:                    1505   BIC:                            -4627.\n",
            "Df Model:                           4                                         \n",
            "Covariance Type:            nonrobust                                         \n",
            "==============================================================================\n",
            "                 coef    std err          t      P>|t|      [0.025      0.975]\n",
            "------------------------------------------------------------------------------\n",
            "const          0.0030      0.001      2.216      0.027       0.000       0.006\n",
            "ret_link_2    -0.0033      0.022     -0.151      0.880      -0.047       0.040\n",
            "ret_eth_1     -0.0440      0.026     -1.708      0.088      -0.095       0.007\n",
            "ret_eth_2      0.0612      0.032      1.896      0.058      -0.002       0.125\n",
            "ret_eth_3      0.0025      0.026      0.096      0.923      -0.048       0.053\n",
            "==============================================================================\n",
            "Omnibus:                      207.462   Durbin-Watson:                   2.000\n",
            "Prob(Omnibus):                  0.000   Jarque-Bera (JB):             2060.830\n",
            "Skew:                          -0.257   Prob(JB):                         0.00\n",
            "Kurtosis:                       8.700   Cond. No.                         26.9\n",
            "==============================================================================\n",
            "\n",
            "Warnings:\n",
            "[1] Standard Errors assume that the covariance matrix of the errors is correctly specified.\n"
          ]
        }
      ]
    },
    {
      "cell_type": "code",
      "source": [
        "# 跑回歸 跨期關係\n",
        "# eth(t) = a + b*link(t-3)\n",
        "y = data.ret_eth\n",
        "x = sm.add_constant(data[['ret_link_3','ret_eth_1','ret_eth_2','ret_eth_3']])\n",
        "result = sm.OLS(y,x,missing='drop').fit()\n",
        "print(result.summary())"
      ],
      "metadata": {
        "colab": {
          "base_uri": "https://localhost:8080/"
        },
        "id": "1wGATpHj_FV3",
        "outputId": "4a044bd9-4986-484f-9109-cde3d28dce47"
      },
      "execution_count": null,
      "outputs": [
        {
          "output_type": "stream",
          "name": "stdout",
          "text": [
            "                            OLS Regression Results                            \n",
            "==============================================================================\n",
            "Dep. Variable:                ret_eth   R-squared:                       0.006\n",
            "Model:                            OLS   Adj. R-squared:                  0.004\n",
            "Method:                 Least Squares   F-statistic:                     2.396\n",
            "Date:                Tue, 18 Jan 2022   Prob (F-statistic):             0.0486\n",
            "Time:                        11:40:01   Log-Likelihood:                 2332.2\n",
            "No. Observations:                1510   AIC:                            -4654.\n",
            "Df Residuals:                    1505   BIC:                            -4628.\n",
            "Df Model:                           4                                         \n",
            "Covariance Type:            nonrobust                                         \n",
            "==============================================================================\n",
            "                 coef    std err          t      P>|t|      [0.025      0.975]\n",
            "------------------------------------------------------------------------------\n",
            "const          0.0029      0.001      2.152      0.032       0.000       0.006\n",
            "ret_link_3     0.0239      0.022      1.081      0.280      -0.019       0.067\n",
            "ret_eth_1     -0.0439      0.026     -1.704      0.089      -0.094       0.007\n",
            "ret_eth_2      0.0587      0.026      2.280      0.023       0.008       0.109\n",
            "ret_eth_3     -0.0185      0.032     -0.572      0.568      -0.082       0.045\n",
            "==============================================================================\n",
            "Omnibus:                      206.206   Durbin-Watson:                   2.000\n",
            "Prob(Omnibus):                  0.000   Jarque-Bera (JB):             2049.286\n",
            "Skew:                          -0.250   Prob(JB):                         0.00\n",
            "Kurtosis:                       8.685   Cond. No.                         26.9\n",
            "==============================================================================\n",
            "\n",
            "Warnings:\n",
            "[1] Standard Errors assume that the covariance matrix of the errors is correctly specified.\n"
          ]
        }
      ]
    },
    {
      "cell_type": "code",
      "source": [
        "# 跑回歸 跨期關係\n",
        "# eth(t) = a + b*link(t-1)+ link(t-2)+ link(t-3)\n",
        "y = data.ret_eth\n",
        "x = sm.add_constant(data[['ret_link_1','ret_link_2','ret_link_3','ret_eth_1','ret_eth_2','ret_eth_3']])\n",
        "result = sm.OLS(y,x,missing='drop').fit()\n",
        "print(result.summary())"
      ],
      "metadata": {
        "colab": {
          "base_uri": "https://localhost:8080/"
        },
        "id": "Njj1KUyn_KtX",
        "outputId": "20da49f4-bebf-4e0d-ac6f-34e34de9edae"
      },
      "execution_count": null,
      "outputs": [
        {
          "output_type": "stream",
          "name": "stdout",
          "text": [
            "                            OLS Regression Results                            \n",
            "==============================================================================\n",
            "Dep. Variable:                ret_eth   R-squared:                       0.006\n",
            "Model:                            OLS   Adj. R-squared:                  0.002\n",
            "Method:                 Least Squares   F-statistic:                     1.626\n",
            "Date:                Tue, 18 Jan 2022   Prob (F-statistic):              0.136\n",
            "Time:                        11:41:20   Log-Likelihood:                 2332.3\n",
            "No. Observations:                1510   AIC:                            -4651.\n",
            "Df Residuals:                    1503   BIC:                            -4613.\n",
            "Df Model:                           6                                         \n",
            "Covariance Type:            nonrobust                                         \n",
            "==============================================================================\n",
            "                 coef    std err          t      P>|t|      [0.025      0.975]\n",
            "------------------------------------------------------------------------------\n",
            "const          0.0029      0.001      2.174      0.030       0.000       0.006\n",
            "ret_link_1    -0.0092      0.022     -0.416      0.678      -0.053       0.034\n",
            "ret_link_2    -0.0029      0.022     -0.130      0.896      -0.046       0.041\n",
            "ret_link_3     0.0237      0.022      1.072      0.284      -0.020       0.067\n",
            "ret_eth_1     -0.0358      0.032     -1.108      0.268      -0.099       0.028\n",
            "ret_eth_2      0.0607      0.032      1.880      0.060      -0.003       0.124\n",
            "ret_eth_3     -0.0182      0.032     -0.562      0.574      -0.082       0.045\n",
            "==============================================================================\n",
            "Omnibus:                      206.330   Durbin-Watson:                   2.000\n",
            "Prob(Omnibus):                  0.000   Jarque-Bera (JB):             2049.531\n",
            "Skew:                          -0.251   Prob(JB):                         0.00\n",
            "Kurtosis:                       8.685   Cond. No.                         27.0\n",
            "==============================================================================\n",
            "\n",
            "Warnings:\n",
            "[1] Standard Errors assume that the covariance matrix of the errors is correctly specified.\n"
          ]
        }
      ]
    },
    {
      "cell_type": "markdown",
      "source": [
        "#UNI對ETH報酬的影響"
      ],
      "metadata": {
        "id": "z630c5mZ_gGW"
      }
    },
    {
      "cell_type": "code",
      "source": [
        "data_1 = yf.Ticker('ETH-USD').history(period='max')\n",
        "data_1.info()\n",
        "data_2 = yf.Ticker('UNI-USD').history(period='max')\n",
        "data_2.info()"
      ],
      "metadata": {
        "colab": {
          "base_uri": "https://localhost:8080/"
        },
        "id": "i5uMzcYc_dtc",
        "outputId": "f945da5e-2048-4a41-c192-0e64e69e9223"
      },
      "execution_count": null,
      "outputs": [
        {
          "output_type": "stream",
          "name": "stdout",
          "text": [
            "<class 'pandas.core.frame.DataFrame'>\n",
            "DatetimeIndex: 1532 entries, 2017-11-09 to 2022-01-18\n",
            "Data columns (total 7 columns):\n",
            " #   Column        Non-Null Count  Dtype  \n",
            "---  ------        --------------  -----  \n",
            " 0   Open          1532 non-null   float64\n",
            " 1   High          1532 non-null   float64\n",
            " 2   Low           1532 non-null   float64\n",
            " 3   Close         1532 non-null   float64\n",
            " 4   Volume        1532 non-null   int64  \n",
            " 5   Dividends     1532 non-null   int64  \n",
            " 6   Stock Splits  1532 non-null   int64  \n",
            "dtypes: float64(4), int64(3)\n",
            "memory usage: 95.8 KB\n",
            "<class 'pandas.core.frame.DataFrame'>\n",
            "DatetimeIndex: 820 entries, 2019-10-21 to 2022-01-17\n",
            "Data columns (total 7 columns):\n",
            " #   Column        Non-Null Count  Dtype  \n",
            "---  ------        --------------  -----  \n",
            " 0   Open          820 non-null    float64\n",
            " 1   High          820 non-null    float64\n",
            " 2   Low           820 non-null    float64\n",
            " 3   Close         820 non-null    float64\n",
            " 4   Volume        820 non-null    int64  \n",
            " 5   Dividends     820 non-null    int64  \n",
            " 6   Stock Splits  820 non-null    int64  \n",
            "dtypes: float64(4), int64(3)\n",
            "memory usage: 51.2 KB\n"
          ]
        }
      ]
    },
    {
      "cell_type": "code",
      "source": [
        "data_1 = data_1['2017':'2021']\n",
        "data_1.info()\n",
        "data_2 = data_2['2017':'2021']\n",
        "data_2.info()"
      ],
      "metadata": {
        "colab": {
          "base_uri": "https://localhost:8080/"
        },
        "id": "bVk9A_TX_skV",
        "outputId": "9fe067a3-5cb1-4ff0-edd4-0e2269ad4bf0"
      },
      "execution_count": null,
      "outputs": [
        {
          "output_type": "stream",
          "name": "stdout",
          "text": [
            "<class 'pandas.core.frame.DataFrame'>\n",
            "DatetimeIndex: 1514 entries, 2017-11-09 to 2021-12-31\n",
            "Data columns (total 7 columns):\n",
            " #   Column        Non-Null Count  Dtype  \n",
            "---  ------        --------------  -----  \n",
            " 0   Open          1514 non-null   float64\n",
            " 1   High          1514 non-null   float64\n",
            " 2   Low           1514 non-null   float64\n",
            " 3   Close         1514 non-null   float64\n",
            " 4   Volume        1514 non-null   int64  \n",
            " 5   Dividends     1514 non-null   int64  \n",
            " 6   Stock Splits  1514 non-null   int64  \n",
            "dtypes: float64(4), int64(3)\n",
            "memory usage: 94.6 KB\n",
            "<class 'pandas.core.frame.DataFrame'>\n",
            "DatetimeIndex: 803 entries, 2019-10-21 to 2021-12-31\n",
            "Data columns (total 7 columns):\n",
            " #   Column        Non-Null Count  Dtype  \n",
            "---  ------        --------------  -----  \n",
            " 0   Open          803 non-null    float64\n",
            " 1   High          803 non-null    float64\n",
            " 2   Low           803 non-null    float64\n",
            " 3   Close         803 non-null    float64\n",
            " 4   Volume        803 non-null    int64  \n",
            " 5   Dividends     803 non-null    int64  \n",
            " 6   Stock Splits  803 non-null    int64  \n",
            "dtypes: float64(4), int64(3)\n",
            "memory usage: 50.2 KB\n"
          ]
        }
      ]
    },
    {
      "cell_type": "code",
      "source": [
        "data_1 = data_1[['Close','Volume']]\n",
        "data_1.columns = ['price_eth','volume_eth']\n",
        "data_1.info()\n",
        "data_2 = data_2[['Close','Volume']]\n",
        "data_2.columns = ['price_uni','volume_uni']\n",
        "data_2.info()"
      ],
      "metadata": {
        "colab": {
          "base_uri": "https://localhost:8080/"
        },
        "id": "3yqDPn82_5kw",
        "outputId": "8b122174-76aa-4005-c0b1-cd27ff0eb2ab"
      },
      "execution_count": null,
      "outputs": [
        {
          "output_type": "stream",
          "name": "stdout",
          "text": [
            "<class 'pandas.core.frame.DataFrame'>\n",
            "DatetimeIndex: 1514 entries, 2017-11-09 to 2021-12-31\n",
            "Data columns (total 2 columns):\n",
            " #   Column      Non-Null Count  Dtype  \n",
            "---  ------      --------------  -----  \n",
            " 0   price_eth   1514 non-null   float64\n",
            " 1   volume_eth  1514 non-null   int64  \n",
            "dtypes: float64(1), int64(1)\n",
            "memory usage: 35.5 KB\n",
            "<class 'pandas.core.frame.DataFrame'>\n",
            "DatetimeIndex: 803 entries, 2019-10-21 to 2021-12-31\n",
            "Data columns (total 2 columns):\n",
            " #   Column      Non-Null Count  Dtype  \n",
            "---  ------      --------------  -----  \n",
            " 0   price_uni   803 non-null    float64\n",
            " 1   volume_uni  803 non-null    int64  \n",
            "dtypes: float64(1), int64(1)\n",
            "memory usage: 18.8 KB\n"
          ]
        }
      ]
    },
    {
      "cell_type": "code",
      "source": [
        "data = pd.merge(data_1,data_2,left_index=True,right_index=True)\n",
        "data.info()"
      ],
      "metadata": {
        "colab": {
          "base_uri": "https://localhost:8080/"
        },
        "id": "VvQHY7fmAB1s",
        "outputId": "240220a3-1b76-41b9-9f18-9f4386a2e0b7"
      },
      "execution_count": null,
      "outputs": [
        {
          "output_type": "stream",
          "name": "stdout",
          "text": [
            "<class 'pandas.core.frame.DataFrame'>\n",
            "DatetimeIndex: 803 entries, 2019-10-21 to 2021-12-31\n",
            "Data columns (total 4 columns):\n",
            " #   Column      Non-Null Count  Dtype  \n",
            "---  ------      --------------  -----  \n",
            " 0   price_eth   803 non-null    float64\n",
            " 1   volume_eth  803 non-null    int64  \n",
            " 2   price_uni   803 non-null    float64\n",
            " 3   volume_uni  803 non-null    int64  \n",
            "dtypes: float64(2), int64(2)\n",
            "memory usage: 31.4 KB\n"
          ]
        }
      ]
    },
    {
      "cell_type": "code",
      "source": [
        "data['ret_eth'] = data.price_eth.pct_change()\n",
        "data['ret_eth_1'] = data.price_eth.pct_change().shift()\n",
        "data['ret_eth_2'] = data.price_eth.pct_change().shift(2)\n",
        "data['ret_eth_3'] = data.price_eth.pct_change().shift(3)"
      ],
      "metadata": {
        "id": "hAHyIfWwAFx_"
      },
      "execution_count": null,
      "outputs": []
    },
    {
      "cell_type": "code",
      "source": [
        "data['ret_uni'] = data.price_uni.pct_change()\n",
        "data['ret_uni_1'] = data.price_uni.pct_change().shift()\n",
        "data['ret_uni_2'] = data.price_uni.pct_change().shift(2)\n",
        "data['ret_uni_3'] = data.price_uni.pct_change().shift(3)"
      ],
      "metadata": {
        "id": "QDG7y45dAG6X"
      },
      "execution_count": null,
      "outputs": []
    },
    {
      "cell_type": "code",
      "source": [
        "data.info()"
      ],
      "metadata": {
        "colab": {
          "base_uri": "https://localhost:8080/"
        },
        "id": "dJ5279b4ARLR",
        "outputId": "5e4683e4-cad5-41a0-c35f-fdcb04fb0b1f"
      },
      "execution_count": null,
      "outputs": [
        {
          "output_type": "stream",
          "name": "stdout",
          "text": [
            "<class 'pandas.core.frame.DataFrame'>\n",
            "DatetimeIndex: 803 entries, 2019-10-21 to 2021-12-31\n",
            "Data columns (total 12 columns):\n",
            " #   Column      Non-Null Count  Dtype  \n",
            "---  ------      --------------  -----  \n",
            " 0   price_eth   803 non-null    float64\n",
            " 1   volume_eth  803 non-null    int64  \n",
            " 2   price_uni   803 non-null    float64\n",
            " 3   volume_uni  803 non-null    int64  \n",
            " 4   ret_eth     802 non-null    float64\n",
            " 5   ret_eth_1   801 non-null    float64\n",
            " 6   ret_eth_2   800 non-null    float64\n",
            " 7   ret_eth_3   799 non-null    float64\n",
            " 8   ret_uni     802 non-null    float64\n",
            " 9   ret_uni_1   801 non-null    float64\n",
            " 10  ret_uni_2   800 non-null    float64\n",
            " 11  ret_uni_3   799 non-null    float64\n",
            "dtypes: float64(10), int64(2)\n",
            "memory usage: 81.6 KB\n"
          ]
        }
      ]
    },
    {
      "cell_type": "code",
      "source": [
        "# 跑回歸 同期關係\n",
        "# eth = a + b*uni\n",
        "y = data.ret_eth\n",
        "x = sm.add_constant(data[['ret_uni','ret_eth_1','ret_eth_2','ret_eth_3']])\n",
        "result = sm.OLS(y,x,missing='drop').fit()\n",
        "print(result.summary())"
      ],
      "metadata": {
        "colab": {
          "base_uri": "https://localhost:8080/"
        },
        "id": "79EWawqkAWBv",
        "outputId": "c32cc3c6-18e2-4a23-d1a9-c0961ca83b51"
      },
      "execution_count": null,
      "outputs": [
        {
          "output_type": "stream",
          "name": "stdout",
          "text": [
            "                            OLS Regression Results                            \n",
            "==============================================================================\n",
            "Dep. Variable:                ret_eth   R-squared:                       0.015\n",
            "Model:                            OLS   Adj. R-squared:                  0.011\n",
            "Method:                 Least Squares   F-statistic:                     3.123\n",
            "Date:                Tue, 18 Jan 2022   Prob (F-statistic):             0.0146\n",
            "Time:                        11:45:27   Log-Likelihood:                 1245.1\n",
            "No. Observations:                 799   AIC:                            -2480.\n",
            "Df Residuals:                     794   BIC:                            -2457.\n",
            "Df Model:                           4                                         \n",
            "Covariance Type:            nonrobust                                         \n",
            "==============================================================================\n",
            "                 coef    std err          t      P>|t|      [0.025      0.975]\n",
            "------------------------------------------------------------------------------\n",
            "const          0.0056      0.002      3.010      0.003       0.002       0.009\n",
            "ret_uni        0.0049      0.004      1.113      0.266      -0.004       0.014\n",
            "ret_eth_1     -0.0916      0.035     -2.585      0.010      -0.161      -0.022\n",
            "ret_eth_2      0.0428      0.036      1.205      0.228      -0.027       0.112\n",
            "ret_eth_3     -0.0471      0.035     -1.330      0.184      -0.117       0.022\n",
            "==============================================================================\n",
            "Omnibus:                      187.717   Durbin-Watson:                   1.985\n",
            "Prob(Omnibus):                  0.000   Jarque-Bera (JB):             2638.674\n",
            "Skew:                          -0.640   Prob(JB):                         0.00\n",
            "Kurtosis:                      11.810   Cond. No.                         20.7\n",
            "==============================================================================\n",
            "\n",
            "Warnings:\n",
            "[1] Standard Errors assume that the covariance matrix of the errors is correctly specified.\n"
          ]
        }
      ]
    },
    {
      "cell_type": "code",
      "source": [
        "# 跑回歸 跨期關係\n",
        "# eth(t) = a + b*uni(t-1)\n",
        "y = data.ret_eth\n",
        "x = sm.add_constant(data[['ret_uni_1','ret_eth_1','ret_eth_2','ret_eth_3']])\n",
        "result = sm.OLS(y,x,missing='drop').fit()\n",
        "print(result.summary())"
      ],
      "metadata": {
        "colab": {
          "base_uri": "https://localhost:8080/"
        },
        "id": "Jknjl_7PArJe",
        "outputId": "3827f854-c866-4626-a9a4-41549ed6ef23"
      },
      "execution_count": null,
      "outputs": [
        {
          "output_type": "stream",
          "name": "stdout",
          "text": [
            "                            OLS Regression Results                            \n",
            "==============================================================================\n",
            "Dep. Variable:                ret_eth   R-squared:                       0.014\n",
            "Model:                            OLS   Adj. R-squared:                  0.009\n",
            "Method:                 Least Squares   F-statistic:                     2.838\n",
            "Date:                Tue, 18 Jan 2022   Prob (F-statistic):             0.0235\n",
            "Time:                        11:46:57   Log-Likelihood:                 1244.5\n",
            "No. Observations:                 799   AIC:                            -2479.\n",
            "Df Residuals:                     794   BIC:                            -2456.\n",
            "Df Model:                           4                                         \n",
            "Covariance Type:            nonrobust                                         \n",
            "==============================================================================\n",
            "                 coef    std err          t      P>|t|      [0.025      0.975]\n",
            "------------------------------------------------------------------------------\n",
            "const          0.0057      0.002      3.092      0.002       0.002       0.009\n",
            "ret_uni_1      0.0015      0.004      0.336      0.737      -0.007       0.010\n",
            "ret_eth_1     -0.0914      0.035     -2.576      0.010      -0.161      -0.022\n",
            "ret_eth_2      0.0427      0.036      1.203      0.229      -0.027       0.112\n",
            "ret_eth_3     -0.0470      0.035     -1.327      0.185      -0.117       0.023\n",
            "==============================================================================\n",
            "Omnibus:                      190.746   Durbin-Watson:                   1.984\n",
            "Prob(Omnibus):                  0.000   Jarque-Bera (JB):             2697.429\n",
            "Skew:                          -0.657   Prob(JB):                         0.00\n",
            "Kurtosis:                      11.905   Cond. No.                         20.7\n",
            "==============================================================================\n",
            "\n",
            "Warnings:\n",
            "[1] Standard Errors assume that the covariance matrix of the errors is correctly specified.\n"
          ]
        }
      ]
    },
    {
      "cell_type": "code",
      "source": [
        "# 跑回歸 跨期關係\n",
        "# eth(t) = a + b*uni(t-2)\n",
        "y = data.ret_eth\n",
        "x = sm.add_constant(data[['ret_uni_2','ret_eth_1','ret_eth_2','ret_eth_3']])\n",
        "result = sm.OLS(y,x,missing='drop').fit()\n",
        "print(result.summary())"
      ],
      "metadata": {
        "colab": {
          "base_uri": "https://localhost:8080/"
        },
        "id": "jARkFDymAxmz",
        "outputId": "c786237b-6875-4ff2-93f4-f2090b4bef48"
      },
      "execution_count": null,
      "outputs": [
        {
          "output_type": "stream",
          "name": "stdout",
          "text": [
            "                            OLS Regression Results                            \n",
            "==============================================================================\n",
            "Dep. Variable:                ret_eth   R-squared:                       0.014\n",
            "Model:                            OLS   Adj. R-squared:                  0.009\n",
            "Method:                 Least Squares   F-statistic:                     2.841\n",
            "Date:                Tue, 18 Jan 2022   Prob (F-statistic):             0.0234\n",
            "Time:                        11:47:15   Log-Likelihood:                 1244.5\n",
            "No. Observations:                 799   AIC:                            -2479.\n",
            "Df Residuals:                     794   BIC:                            -2456.\n",
            "Df Model:                           4                                         \n",
            "Covariance Type:            nonrobust                                         \n",
            "==============================================================================\n",
            "                 coef    std err          t      P>|t|      [0.025      0.975]\n",
            "------------------------------------------------------------------------------\n",
            "const          0.0058      0.002      3.162      0.002       0.002       0.009\n",
            "ret_uni_2     -0.0016      0.004     -0.357      0.721      -0.010       0.007\n",
            "ret_eth_1     -0.0908      0.035     -2.560      0.011      -0.160      -0.021\n",
            "ret_eth_2      0.0435      0.036      1.223      0.222      -0.026       0.113\n",
            "ret_eth_3     -0.0467      0.035     -1.319      0.188      -0.116       0.023\n",
            "==============================================================================\n",
            "Omnibus:                      188.476   Durbin-Watson:                   1.983\n",
            "Prob(Omnibus):                  0.000   Jarque-Bera (JB):             2672.928\n",
            "Skew:                          -0.642   Prob(JB):                         0.00\n",
            "Kurtosis:                      11.868   Cond. No.                         20.7\n",
            "==============================================================================\n",
            "\n",
            "Warnings:\n",
            "[1] Standard Errors assume that the covariance matrix of the errors is correctly specified.\n"
          ]
        }
      ]
    },
    {
      "cell_type": "code",
      "source": [
        "# 跑回歸 跨期關係\n",
        "# eth(t) = a + b*uni(t-3)\n",
        "y = data.ret_eth\n",
        "x = sm.add_constant(data[['ret_uni_3','ret_eth_1','ret_eth_2','ret_eth_3']])\n",
        "result = sm.OLS(y,x,missing='drop').fit()\n",
        "print(result.summary())"
      ],
      "metadata": {
        "colab": {
          "base_uri": "https://localhost:8080/"
        },
        "id": "xGsvQD4wA0kg",
        "outputId": "283d76ee-e098-4be2-d28b-9647eb59a467"
      },
      "execution_count": null,
      "outputs": [
        {
          "output_type": "stream",
          "name": "stdout",
          "text": [
            "                            OLS Regression Results                            \n",
            "==============================================================================\n",
            "Dep. Variable:                ret_eth   R-squared:                       0.015\n",
            "Model:                            OLS   Adj. R-squared:                  0.010\n",
            "Method:                 Least Squares   F-statistic:                     3.097\n",
            "Date:                Tue, 18 Jan 2022   Prob (F-statistic):             0.0152\n",
            "Time:                        11:47:29   Log-Likelihood:                 1245.0\n",
            "No. Observations:                 799   AIC:                            -2480.\n",
            "Df Residuals:                     794   BIC:                            -2457.\n",
            "Df Model:                           4                                         \n",
            "Covariance Type:            nonrobust                                         \n",
            "==============================================================================\n",
            "                 coef    std err          t      P>|t|      [0.025      0.975]\n",
            "------------------------------------------------------------------------------\n",
            "const          0.0056      0.002      3.011      0.003       0.002       0.009\n",
            "ret_uni_3      0.0047      0.004      1.066      0.287      -0.004       0.013\n",
            "ret_eth_1     -0.0904      0.035     -2.551      0.011      -0.160      -0.021\n",
            "ret_eth_2      0.0427      0.036      1.203      0.229      -0.027       0.112\n",
            "ret_eth_3     -0.0484      0.035     -1.365      0.173      -0.118       0.021\n",
            "==============================================================================\n",
            "Omnibus:                      189.978   Durbin-Watson:                   1.984\n",
            "Prob(Omnibus):                  0.000   Jarque-Bera (JB):             2665.645\n",
            "Skew:                          -0.655   Prob(JB):                         0.00\n",
            "Kurtosis:                      11.852   Cond. No.                         20.7\n",
            "==============================================================================\n",
            "\n",
            "Warnings:\n",
            "[1] Standard Errors assume that the covariance matrix of the errors is correctly specified.\n"
          ]
        }
      ]
    },
    {
      "cell_type": "code",
      "source": [
        "# 跑回歸 跨期關係\n",
        "# eth(t) = a + b*uni(t-1)+ uni(t-2)+ uni(t-3)\n",
        "y = data.ret_eth\n",
        "x = sm.add_constant(data[['ret_uni_1','ret_uni_2','ret_uni_3','ret_eth_1','ret_eth_2','ret_eth_3']])\n",
        "result = sm.OLS(y,x,missing='drop').fit()\n",
        "print(result.summary())"
      ],
      "metadata": {
        "colab": {
          "base_uri": "https://localhost:8080/"
        },
        "id": "Plran9BPAhcH",
        "outputId": "1e30b4b4-938e-452f-d3ff-be4a532a3788"
      },
      "execution_count": null,
      "outputs": [
        {
          "output_type": "stream",
          "name": "stdout",
          "text": [
            "                            OLS Regression Results                            \n",
            "==============================================================================\n",
            "Dep. Variable:                ret_eth   R-squared:                       0.016\n",
            "Model:                            OLS   Adj. R-squared:                  0.008\n",
            "Method:                 Least Squares   F-statistic:                     2.099\n",
            "Date:                Tue, 18 Jan 2022   Prob (F-statistic):             0.0512\n",
            "Time:                        11:47:22   Log-Likelihood:                 1245.1\n",
            "No. Observations:                 799   AIC:                            -2476.\n",
            "Df Residuals:                     792   BIC:                            -2443.\n",
            "Df Model:                           6                                         \n",
            "Covariance Type:            nonrobust                                         \n",
            "==============================================================================\n",
            "                 coef    std err          t      P>|t|      [0.025      0.975]\n",
            "------------------------------------------------------------------------------\n",
            "const          0.0055      0.002      2.944      0.003       0.002       0.009\n",
            "ret_uni_1      0.0018      0.004      0.410      0.682      -0.007       0.011\n",
            "ret_uni_2     -0.0009      0.004     -0.209      0.835      -0.010       0.008\n",
            "ret_uni_3      0.0047      0.004      1.072      0.284      -0.004       0.013\n",
            "ret_eth_1     -0.0909      0.035     -2.560      0.011      -0.161      -0.021\n",
            "ret_eth_2      0.0427      0.036      1.200      0.231      -0.027       0.113\n",
            "ret_eth_3     -0.0483      0.035     -1.361      0.174      -0.118       0.021\n",
            "==============================================================================\n",
            "Omnibus:                      191.127   Durbin-Watson:                   1.984\n",
            "Prob(Omnibus):                  0.000   Jarque-Bera (JB):             2671.129\n",
            "Skew:                          -0.663   Prob(JB):                         0.00\n",
            "Kurtosis:                      11.859   Cond. No.                         20.8\n",
            "==============================================================================\n",
            "\n",
            "Warnings:\n",
            "[1] Standard Errors assume that the covariance matrix of the errors is correctly specified.\n"
          ]
        }
      ]
    },
    {
      "cell_type": "markdown",
      "source": [
        "#AXS對ETH報酬的影響"
      ],
      "metadata": {
        "id": "34z96CUyA4PW"
      }
    },
    {
      "cell_type": "code",
      "source": [
        "data_1 = yf.Ticker('ETH-USD').history(period='max')\n",
        "data_1.info()\n",
        "data_2 = yf.Ticker('AXS-USD').history(period='max')\n",
        "data_2.info()"
      ],
      "metadata": {
        "colab": {
          "base_uri": "https://localhost:8080/"
        },
        "id": "dqSCx0kRA9f8",
        "outputId": "c305c5ca-bd5f-4939-d8bd-bda384c42cc2"
      },
      "execution_count": null,
      "outputs": [
        {
          "output_type": "stream",
          "name": "stdout",
          "text": [
            "<class 'pandas.core.frame.DataFrame'>\n",
            "DatetimeIndex: 1532 entries, 2017-11-09 to 2022-01-18\n",
            "Data columns (total 7 columns):\n",
            " #   Column        Non-Null Count  Dtype  \n",
            "---  ------        --------------  -----  \n",
            " 0   Open          1532 non-null   float64\n",
            " 1   High          1532 non-null   float64\n",
            " 2   Low           1532 non-null   float64\n",
            " 3   Close         1532 non-null   float64\n",
            " 4   Volume        1532 non-null   int64  \n",
            " 5   Dividends     1532 non-null   int64  \n",
            " 6   Stock Splits  1532 non-null   int64  \n",
            "dtypes: float64(4), int64(3)\n",
            "memory usage: 95.8 KB\n",
            "<class 'pandas.core.frame.DataFrame'>\n",
            "DatetimeIndex: 441 entries, 2020-11-04 to 2022-01-18\n",
            "Data columns (total 7 columns):\n",
            " #   Column        Non-Null Count  Dtype  \n",
            "---  ------        --------------  -----  \n",
            " 0   Open          441 non-null    float64\n",
            " 1   High          441 non-null    float64\n",
            " 2   Low           441 non-null    float64\n",
            " 3   Close         441 non-null    float64\n",
            " 4   Volume        441 non-null    int64  \n",
            " 5   Dividends     441 non-null    int64  \n",
            " 6   Stock Splits  441 non-null    int64  \n",
            "dtypes: float64(4), int64(3)\n",
            "memory usage: 27.6 KB\n"
          ]
        }
      ]
    },
    {
      "cell_type": "code",
      "source": [
        "data_1 = data_1['2017':'2021']\n",
        "data_1.info()\n",
        "data_2 = data_2['2017':'2021']\n",
        "data_2.info()"
      ],
      "metadata": {
        "colab": {
          "base_uri": "https://localhost:8080/"
        },
        "id": "jHiqpjHOBKPc",
        "outputId": "d6816fdf-59c9-4533-f89b-be938b5ae08d"
      },
      "execution_count": null,
      "outputs": [
        {
          "output_type": "stream",
          "name": "stdout",
          "text": [
            "<class 'pandas.core.frame.DataFrame'>\n",
            "DatetimeIndex: 1514 entries, 2017-11-09 to 2021-12-31\n",
            "Data columns (total 7 columns):\n",
            " #   Column        Non-Null Count  Dtype  \n",
            "---  ------        --------------  -----  \n",
            " 0   Open          1514 non-null   float64\n",
            " 1   High          1514 non-null   float64\n",
            " 2   Low           1514 non-null   float64\n",
            " 3   Close         1514 non-null   float64\n",
            " 4   Volume        1514 non-null   int64  \n",
            " 5   Dividends     1514 non-null   int64  \n",
            " 6   Stock Splits  1514 non-null   int64  \n",
            "dtypes: float64(4), int64(3)\n",
            "memory usage: 94.6 KB\n",
            "<class 'pandas.core.frame.DataFrame'>\n",
            "DatetimeIndex: 423 entries, 2020-11-04 to 2021-12-31\n",
            "Data columns (total 7 columns):\n",
            " #   Column        Non-Null Count  Dtype  \n",
            "---  ------        --------------  -----  \n",
            " 0   Open          423 non-null    float64\n",
            " 1   High          423 non-null    float64\n",
            " 2   Low           423 non-null    float64\n",
            " 3   Close         423 non-null    float64\n",
            " 4   Volume        423 non-null    int64  \n",
            " 5   Dividends     423 non-null    int64  \n",
            " 6   Stock Splits  423 non-null    int64  \n",
            "dtypes: float64(4), int64(3)\n",
            "memory usage: 26.4 KB\n"
          ]
        }
      ]
    },
    {
      "cell_type": "code",
      "source": [
        "data_1 = data_1[['Close','Volume']]\n",
        "data_1.columns = ['price_eth','volume_eth']\n",
        "data_1.info()\n",
        "data_2 = data_2[['Close','Volume']]\n",
        "data_2.columns = ['price_axs','volume_axs']\n",
        "data_2.info()"
      ],
      "metadata": {
        "colab": {
          "base_uri": "https://localhost:8080/"
        },
        "id": "AhNK6s2qBLu_",
        "outputId": "8024e69c-eb50-4308-92b7-e4561a3623fe"
      },
      "execution_count": null,
      "outputs": [
        {
          "output_type": "stream",
          "name": "stdout",
          "text": [
            "<class 'pandas.core.frame.DataFrame'>\n",
            "DatetimeIndex: 1514 entries, 2017-11-09 to 2021-12-31\n",
            "Data columns (total 2 columns):\n",
            " #   Column      Non-Null Count  Dtype  \n",
            "---  ------      --------------  -----  \n",
            " 0   price_eth   1514 non-null   float64\n",
            " 1   volume_eth  1514 non-null   int64  \n",
            "dtypes: float64(1), int64(1)\n",
            "memory usage: 35.5 KB\n",
            "<class 'pandas.core.frame.DataFrame'>\n",
            "DatetimeIndex: 423 entries, 2020-11-04 to 2021-12-31\n",
            "Data columns (total 2 columns):\n",
            " #   Column      Non-Null Count  Dtype  \n",
            "---  ------      --------------  -----  \n",
            " 0   price_axs   423 non-null    float64\n",
            " 1   volume_axs  423 non-null    int64  \n",
            "dtypes: float64(1), int64(1)\n",
            "memory usage: 9.9 KB\n"
          ]
        }
      ]
    },
    {
      "cell_type": "code",
      "source": [
        "data = pd.merge(data_1,data_2,left_index=True,right_index=True)\n",
        "data.info()"
      ],
      "metadata": {
        "colab": {
          "base_uri": "https://localhost:8080/"
        },
        "id": "1v6N2r5OBXCL",
        "outputId": "3ddc10e4-3b30-41e8-88ed-ca21b8e94cc1"
      },
      "execution_count": null,
      "outputs": [
        {
          "output_type": "stream",
          "name": "stdout",
          "text": [
            "<class 'pandas.core.frame.DataFrame'>\n",
            "DatetimeIndex: 423 entries, 2020-11-04 to 2021-12-31\n",
            "Data columns (total 4 columns):\n",
            " #   Column      Non-Null Count  Dtype  \n",
            "---  ------      --------------  -----  \n",
            " 0   price_eth   423 non-null    float64\n",
            " 1   volume_eth  423 non-null    int64  \n",
            " 2   price_axs   423 non-null    float64\n",
            " 3   volume_axs  423 non-null    int64  \n",
            "dtypes: float64(2), int64(2)\n",
            "memory usage: 16.5 KB\n"
          ]
        }
      ]
    },
    {
      "cell_type": "code",
      "source": [
        "data['ret_eth'] = data.price_eth.pct_change()\n",
        "data['ret_eth_1'] = data.price_eth.pct_change().shift()\n",
        "data['ret_eth_2'] = data.price_eth.pct_change().shift(2)\n",
        "data['ret_eth_3'] = data.price_eth.pct_change().shift(3)"
      ],
      "metadata": {
        "id": "n7st8B3nBahZ"
      },
      "execution_count": null,
      "outputs": []
    },
    {
      "cell_type": "code",
      "source": [
        "data['ret_axs'] = data.price_axs.pct_change()\n",
        "data['ret_axs_1'] = data.price_axs.pct_change().shift()\n",
        "data['ret_axs_2'] = data.price_axs.pct_change().shift(2)\n",
        "data['ret_axs_3'] = data.price_axs.pct_change().shift(3)"
      ],
      "metadata": {
        "id": "zvJxLBaxBbIO"
      },
      "execution_count": null,
      "outputs": []
    },
    {
      "cell_type": "code",
      "source": [
        "data.info()"
      ],
      "metadata": {
        "colab": {
          "base_uri": "https://localhost:8080/"
        },
        "id": "DYLS8zB0BfmW",
        "outputId": "33d88bdf-89d0-4b70-c7af-df3d03ba2ffe"
      },
      "execution_count": null,
      "outputs": [
        {
          "output_type": "stream",
          "name": "stdout",
          "text": [
            "<class 'pandas.core.frame.DataFrame'>\n",
            "DatetimeIndex: 423 entries, 2020-11-04 to 2021-12-31\n",
            "Data columns (total 8 columns):\n",
            " #   Column      Non-Null Count  Dtype  \n",
            "---  ------      --------------  -----  \n",
            " 0   price_eth   423 non-null    float64\n",
            " 1   volume_eth  423 non-null    int64  \n",
            " 2   price_axs   423 non-null    float64\n",
            " 3   volume_axs  423 non-null    int64  \n",
            " 4   ret_eth     422 non-null    float64\n",
            " 5   ret_eth_1   421 non-null    float64\n",
            " 6   ret_eth_2   420 non-null    float64\n",
            " 7   ret_eth_3   419 non-null    float64\n",
            "dtypes: float64(6), int64(2)\n",
            "memory usage: 29.7 KB\n"
          ]
        }
      ]
    },
    {
      "cell_type": "code",
      "source": [
        "# 跑回歸 同期關係\n",
        "# eth = a + b*axs\n",
        "y = data.ret_eth\n",
        "x = sm.add_constant(data[['ret_axs','ret_eth_1','ret_eth_2','ret_eth_3']])\n",
        "result = sm.OLS(y,x,missing='drop').fit()\n",
        "print(result.summary())"
      ],
      "metadata": {
        "colab": {
          "base_uri": "https://localhost:8080/"
        },
        "id": "i9CJytr2CJle",
        "outputId": "50ee5ee8-7187-4268-d8fd-efe232de4a54"
      },
      "execution_count": null,
      "outputs": [
        {
          "output_type": "stream",
          "name": "stdout",
          "text": [
            "                            OLS Regression Results                            \n",
            "==============================================================================\n",
            "Dep. Variable:                ret_eth   R-squared:                       1.000\n",
            "Model:                            OLS   Adj. R-squared:                  1.000\n",
            "Method:                 Least Squares   F-statistic:                 2.736e+32\n",
            "Date:                Tue, 18 Jan 2022   Prob (F-statistic):               0.00\n",
            "Time:                        11:55:39   Log-Likelihood:                 14977.\n",
            "No. Observations:                 419   AIC:                        -2.994e+04\n",
            "Df Residuals:                     414   BIC:                        -2.992e+04\n",
            "Df Model:                           4                                         \n",
            "Covariance Type:            nonrobust                                         \n",
            "==============================================================================\n",
            "                 coef    std err          t      P>|t|      [0.025      0.975]\n",
            "------------------------------------------------------------------------------\n",
            "const      -2.816e-17   3.78e-18     -7.452      0.000   -3.56e-17   -2.07e-17\n",
            "ret_axs        1.0000   3.04e-17   3.29e+16      0.000       1.000       1.000\n",
            "ret_eth_1   1.502e-16   3.04e-17      4.945      0.000    9.05e-17     2.1e-16\n",
            "ret_eth_2   3.156e-16   3.04e-17     10.393      0.000    2.56e-16    3.75e-16\n",
            "ret_eth_3  -1.942e-16   3.04e-17     -6.387      0.000   -2.54e-16   -1.34e-16\n",
            "==============================================================================\n",
            "Omnibus:                      130.684   Durbin-Watson:                   1.694\n",
            "Prob(Omnibus):                  0.000   Jarque-Bera (JB):              512.672\n",
            "Skew:                          -1.343   Prob(JB):                    4.73e-112\n",
            "Kurtosis:                       7.707   Cond. No.                         9.09\n",
            "==============================================================================\n",
            "\n",
            "Warnings:\n",
            "[1] Standard Errors assume that the covariance matrix of the errors is correctly specified.\n"
          ]
        }
      ]
    },
    {
      "cell_type": "code",
      "source": [
        "# 跑回歸 跨期關係\n",
        "# eth(t) = a + b*axs(t-1)\n",
        "y = data.ret_eth\n",
        "x = sm.add_constant(data[['ret_axs_1','ret_eth_1','ret_eth_2','ret_eth_3']])\n",
        "result = sm.OLS(y,x,missing='drop').fit()\n",
        "print(result.summary())"
      ],
      "metadata": {
        "colab": {
          "base_uri": "https://localhost:8080/"
        },
        "id": "lFVTRRCcC9aD",
        "outputId": "04ab26c8-202c-4f47-a067-0ba3645c11a3"
      },
      "execution_count": null,
      "outputs": [
        {
          "output_type": "stream",
          "name": "stdout",
          "text": [
            "                            OLS Regression Results                            \n",
            "==============================================================================\n",
            "Dep. Variable:                ret_eth   R-squared:                       0.012\n",
            "Model:                            OLS   Adj. R-squared:                  0.005\n",
            "Method:                 Least Squares   F-statistic:                     1.659\n",
            "Date:                Tue, 18 Jan 2022   Prob (F-statistic):              0.175\n",
            "Time:                        11:56:53   Log-Likelihood:                 303.73\n",
            "No. Observations:                 419   AIC:                            -599.5\n",
            "Df Residuals:                     415   BIC:                            -583.3\n",
            "Df Model:                           3                                         \n",
            "Covariance Type:            nonrobust                                         \n",
            "==============================================================================\n",
            "                 coef    std err          t      P>|t|      [0.025      0.975]\n",
            "------------------------------------------------------------------------------\n",
            "const          0.0188      0.006      3.116      0.002       0.007       0.031\n",
            "ret_axs_1     -0.0049      0.025     -0.201      0.841      -0.053       0.043\n",
            "ret_eth_1     -0.0049      0.025     -0.201      0.841      -0.053       0.043\n",
            "ret_eth_2      0.0941      0.049      1.929      0.054      -0.002       0.190\n",
            "ret_eth_3      0.0552      0.049      1.127      0.261      -0.041       0.152\n",
            "==============================================================================\n",
            "Omnibus:                      150.131   Durbin-Watson:                   1.973\n",
            "Prob(Omnibus):                  0.000   Jarque-Bera (JB):              617.750\n",
            "Skew:                           1.547   Prob(JB):                    7.20e-135\n",
            "Kurtosis:                       8.080   Cond. No.                     3.23e+17\n",
            "==============================================================================\n",
            "\n",
            "Warnings:\n",
            "[1] Standard Errors assume that the covariance matrix of the errors is correctly specified.\n",
            "[2] The smallest eigenvalue is 4.01e-33. This might indicate that there are\n",
            "strong multicollinearity problems or that the design matrix is singular.\n"
          ]
        }
      ]
    },
    {
      "cell_type": "code",
      "source": [
        "# 跑回歸 跨期關係\n",
        "# eth(t) = a + b*axs(t-2)\n",
        "y = data.ret_eth\n",
        "x = sm.add_constant(data[['ret_axs_2','ret_eth_1','ret_eth_2','ret_eth_3']])\n",
        "result = sm.OLS(y,x,missing='drop').fit()\n",
        "print(result.summary())"
      ],
      "metadata": {
        "colab": {
          "base_uri": "https://localhost:8080/"
        },
        "id": "cpTmVwVIDCLF",
        "outputId": "8eb87ab6-c35b-401d-8fab-e398d9556ed2"
      },
      "execution_count": null,
      "outputs": [
        {
          "output_type": "stream",
          "name": "stdout",
          "text": [
            "                            OLS Regression Results                            \n",
            "==============================================================================\n",
            "Dep. Variable:                ret_eth   R-squared:                       0.012\n",
            "Model:                            OLS   Adj. R-squared:                  0.005\n",
            "Method:                 Least Squares   F-statistic:                     1.659\n",
            "Date:                Tue, 18 Jan 2022   Prob (F-statistic):              0.175\n",
            "Time:                        11:57:08   Log-Likelihood:                 303.73\n",
            "No. Observations:                 419   AIC:                            -599.5\n",
            "Df Residuals:                     415   BIC:                            -583.3\n",
            "Df Model:                           3                                         \n",
            "Covariance Type:            nonrobust                                         \n",
            "==============================================================================\n",
            "                 coef    std err          t      P>|t|      [0.025      0.975]\n",
            "------------------------------------------------------------------------------\n",
            "const          0.0188      0.006      3.116      0.002       0.007       0.031\n",
            "ret_axs_2      0.0471      0.024      1.929      0.054      -0.001       0.095\n",
            "ret_eth_1     -0.0099      0.049     -0.201      0.841      -0.106       0.086\n",
            "ret_eth_2      0.0471      0.024      1.929      0.054      -0.001       0.095\n",
            "ret_eth_3      0.0552      0.049      1.127      0.261      -0.041       0.152\n",
            "==============================================================================\n",
            "Omnibus:                      150.131   Durbin-Watson:                   1.973\n",
            "Prob(Omnibus):                  0.000   Jarque-Bera (JB):              617.750\n",
            "Skew:                           1.547   Prob(JB):                    7.20e-135\n",
            "Kurtosis:                       8.080   Cond. No.                     2.95e+16\n",
            "==============================================================================\n",
            "\n",
            "Warnings:\n",
            "[1] Standard Errors assume that the covariance matrix of the errors is correctly specified.\n",
            "[2] The smallest eigenvalue is 4.81e-31. This might indicate that there are\n",
            "strong multicollinearity problems or that the design matrix is singular.\n"
          ]
        }
      ]
    },
    {
      "cell_type": "code",
      "source": [
        "# 跑回歸 跨期關係\n",
        "# eth(t) = a + b*axs(t-3)\n",
        "y = data.ret_eth\n",
        "x = sm.add_constant(data[['ret_axs_3','ret_eth_1','ret_eth_2','ret_eth_3']])\n",
        "result = sm.OLS(y,x,missing='drop').fit()\n",
        "print(result.summary())"
      ],
      "metadata": {
        "colab": {
          "base_uri": "https://localhost:8080/"
        },
        "id": "8XwAZoM3DFkm",
        "outputId": "970cffda-5de9-495d-bc5e-1887af02626a"
      },
      "execution_count": null,
      "outputs": [
        {
          "output_type": "stream",
          "name": "stdout",
          "text": [
            "                            OLS Regression Results                            \n",
            "==============================================================================\n",
            "Dep. Variable:                ret_eth   R-squared:                       0.012\n",
            "Model:                            OLS   Adj. R-squared:                  0.005\n",
            "Method:                 Least Squares   F-statistic:                     1.659\n",
            "Date:                Tue, 18 Jan 2022   Prob (F-statistic):              0.175\n",
            "Time:                        11:57:20   Log-Likelihood:                 303.73\n",
            "No. Observations:                 419   AIC:                            -599.5\n",
            "Df Residuals:                     415   BIC:                            -583.3\n",
            "Df Model:                           3                                         \n",
            "Covariance Type:            nonrobust                                         \n",
            "==============================================================================\n",
            "                 coef    std err          t      P>|t|      [0.025      0.975]\n",
            "------------------------------------------------------------------------------\n",
            "const          0.0188      0.006      3.116      0.002       0.007       0.031\n",
            "ret_axs_3      0.0276      0.025      1.127      0.261      -0.021       0.076\n",
            "ret_eth_1     -0.0099      0.049     -0.201      0.841      -0.106       0.086\n",
            "ret_eth_2      0.0941      0.049      1.929      0.054      -0.002       0.190\n",
            "ret_eth_3      0.0276      0.025      1.127      0.261      -0.021       0.076\n",
            "==============================================================================\n",
            "Omnibus:                      150.131   Durbin-Watson:                   1.973\n",
            "Prob(Omnibus):                  0.000   Jarque-Bera (JB):              617.750\n",
            "Skew:                           1.547   Prob(JB):                    7.20e-135\n",
            "Kurtosis:                       8.080   Cond. No.                     2.97e+16\n",
            "==============================================================================\n",
            "\n",
            "Warnings:\n",
            "[1] Standard Errors assume that the covariance matrix of the errors is correctly specified.\n",
            "[2] The smallest eigenvalue is 4.76e-31. This might indicate that there are\n",
            "strong multicollinearity problems or that the design matrix is singular.\n"
          ]
        }
      ]
    },
    {
      "cell_type": "code",
      "source": [
        "# 跑回歸 跨期關係\n",
        "# eth(t) = a + b*axs(t-1)+ axs(t-2)+ axs(t-3)\n",
        "y = data.ret_eth\n",
        "x = sm.add_constant(data[['ret_axs_1','ret_axs_2','ret_axs_3','ret_eth_1','ret_eth_2','ret_eth_3']])\n",
        "result = sm.OLS(y,x,missing='drop').fit()\n",
        "print(result.summary())"
      ],
      "metadata": {
        "colab": {
          "base_uri": "https://localhost:8080/"
        },
        "id": "h_EKFZ_cCzGf",
        "outputId": "b3aa79df-a82d-4df1-df30-16ed090318ca"
      },
      "execution_count": null,
      "outputs": [
        {
          "output_type": "stream",
          "name": "stdout",
          "text": [
            "                            OLS Regression Results                            \n",
            "==============================================================================\n",
            "Dep. Variable:                ret_eth   R-squared:                       0.012\n",
            "Model:                            OLS   Adj. R-squared:                  0.005\n",
            "Method:                 Least Squares   F-statistic:                     1.659\n",
            "Date:                Tue, 18 Jan 2022   Prob (F-statistic):              0.175\n",
            "Time:                        11:56:34   Log-Likelihood:                 303.73\n",
            "No. Observations:                 419   AIC:                            -599.5\n",
            "Df Residuals:                     415   BIC:                            -583.3\n",
            "Df Model:                           3                                         \n",
            "Covariance Type:            nonrobust                                         \n",
            "==============================================================================\n",
            "                 coef    std err          t      P>|t|      [0.025      0.975]\n",
            "------------------------------------------------------------------------------\n",
            "const          0.0188      0.006      3.116      0.002       0.007       0.031\n",
            "ret_axs_1     -0.0049      0.025     -0.201      0.841      -0.053       0.043\n",
            "ret_axs_2      0.0471      0.024      1.929      0.054      -0.001       0.095\n",
            "ret_axs_3      0.0276      0.025      1.127      0.261      -0.021       0.076\n",
            "ret_eth_1     -0.0049      0.025     -0.201      0.841      -0.053       0.043\n",
            "ret_eth_2      0.0471      0.024      1.929      0.054      -0.001       0.095\n",
            "ret_eth_3      0.0276      0.025      1.127      0.261      -0.021       0.076\n",
            "==============================================================================\n",
            "Omnibus:                      150.131   Durbin-Watson:                   1.973\n",
            "Prob(Omnibus):                  0.000   Jarque-Bera (JB):              617.750\n",
            "Skew:                           1.547   Prob(JB):                    7.20e-135\n",
            "Kurtosis:                       8.080   Cond. No.                     2.31e+17\n",
            "==============================================================================\n",
            "\n",
            "Warnings:\n",
            "[1] Standard Errors assume that the covariance matrix of the errors is correctly specified.\n",
            "[2] The smallest eigenvalue is 7.86e-33. This might indicate that there are\n",
            "strong multicollinearity problems or that the design matrix is singular.\n"
          ]
        }
      ]
    },
    {
      "cell_type": "markdown",
      "source": [
        "#SAND對ETH的報酬影響"
      ],
      "metadata": {
        "id": "KIX1o8PFDIjD"
      }
    },
    {
      "cell_type": "code",
      "source": [
        "data_1 = yf.Ticker('ETH-USD').history(period='max')\n",
        "data_1.info()\n",
        "data_2 = yf.Ticker('SAND-USD').history(period='max')\n",
        "data_2.info()"
      ],
      "metadata": {
        "colab": {
          "base_uri": "https://localhost:8080/"
        },
        "id": "aJm5x9v-DNT6",
        "outputId": "48d27ed5-723f-4286-c64d-031400f92fa7"
      },
      "execution_count": null,
      "outputs": [
        {
          "output_type": "stream",
          "name": "stdout",
          "text": [
            "<class 'pandas.core.frame.DataFrame'>\n",
            "DatetimeIndex: 1532 entries, 2017-11-09 to 2022-01-18\n",
            "Data columns (total 7 columns):\n",
            " #   Column        Non-Null Count  Dtype  \n",
            "---  ------        --------------  -----  \n",
            " 0   Open          1532 non-null   float64\n",
            " 1   High          1532 non-null   float64\n",
            " 2   Low           1532 non-null   float64\n",
            " 3   Close         1532 non-null   float64\n",
            " 4   Volume        1532 non-null   int64  \n",
            " 5   Dividends     1532 non-null   int64  \n",
            " 6   Stock Splits  1532 non-null   int64  \n",
            "dtypes: float64(4), int64(3)\n",
            "memory usage: 95.8 KB\n",
            "<class 'pandas.core.frame.DataFrame'>\n",
            "DatetimeIndex: 523 entries, 2020-08-14 to 2022-01-18\n",
            "Data columns (total 7 columns):\n",
            " #   Column        Non-Null Count  Dtype  \n",
            "---  ------        --------------  -----  \n",
            " 0   Open          523 non-null    float64\n",
            " 1   High          523 non-null    float64\n",
            " 2   Low           523 non-null    float64\n",
            " 3   Close         523 non-null    float64\n",
            " 4   Volume        523 non-null    int64  \n",
            " 5   Dividends     523 non-null    int64  \n",
            " 6   Stock Splits  523 non-null    int64  \n",
            "dtypes: float64(4), int64(3)\n",
            "memory usage: 32.7 KB\n"
          ]
        }
      ]
    },
    {
      "cell_type": "code",
      "source": [
        "data_1 = data_1['2017':'2021']\n",
        "data_1.info()\n",
        "data_2 = data_2['2017':'2021']\n",
        "data_2.info()"
      ],
      "metadata": {
        "colab": {
          "base_uri": "https://localhost:8080/"
        },
        "id": "fRh8ZOt9Dfc0",
        "outputId": "c1b9b836-cec8-482d-8a77-37886a0708cf"
      },
      "execution_count": null,
      "outputs": [
        {
          "output_type": "stream",
          "name": "stdout",
          "text": [
            "<class 'pandas.core.frame.DataFrame'>\n",
            "DatetimeIndex: 1514 entries, 2017-11-09 to 2021-12-31\n",
            "Data columns (total 7 columns):\n",
            " #   Column        Non-Null Count  Dtype  \n",
            "---  ------        --------------  -----  \n",
            " 0   Open          1514 non-null   float64\n",
            " 1   High          1514 non-null   float64\n",
            " 2   Low           1514 non-null   float64\n",
            " 3   Close         1514 non-null   float64\n",
            " 4   Volume        1514 non-null   int64  \n",
            " 5   Dividends     1514 non-null   int64  \n",
            " 6   Stock Splits  1514 non-null   int64  \n",
            "dtypes: float64(4), int64(3)\n",
            "memory usage: 94.6 KB\n",
            "<class 'pandas.core.frame.DataFrame'>\n",
            "DatetimeIndex: 505 entries, 2020-08-14 to 2021-12-31\n",
            "Data columns (total 7 columns):\n",
            " #   Column        Non-Null Count  Dtype  \n",
            "---  ------        --------------  -----  \n",
            " 0   Open          505 non-null    float64\n",
            " 1   High          505 non-null    float64\n",
            " 2   Low           505 non-null    float64\n",
            " 3   Close         505 non-null    float64\n",
            " 4   Volume        505 non-null    int64  \n",
            " 5   Dividends     505 non-null    int64  \n",
            " 6   Stock Splits  505 non-null    int64  \n",
            "dtypes: float64(4), int64(3)\n",
            "memory usage: 31.6 KB\n"
          ]
        }
      ]
    },
    {
      "cell_type": "code",
      "source": [
        "data_1 = data_1[['Close','Volume']]\n",
        "data_1.columns = ['price_eth','volume_eth']\n",
        "data_1.info()\n",
        "data_2 = data_2[['Close','Volume']]\n",
        "data_2.columns = ['price_sand','volume_sand']\n",
        "data_2.info()"
      ],
      "metadata": {
        "colab": {
          "base_uri": "https://localhost:8080/"
        },
        "id": "djsnxv2ODjOQ",
        "outputId": "f2630ea5-bccc-41db-ba57-97fdfb1add22"
      },
      "execution_count": null,
      "outputs": [
        {
          "output_type": "stream",
          "name": "stdout",
          "text": [
            "<class 'pandas.core.frame.DataFrame'>\n",
            "DatetimeIndex: 1514 entries, 2017-11-09 to 2021-12-31\n",
            "Data columns (total 2 columns):\n",
            " #   Column      Non-Null Count  Dtype  \n",
            "---  ------      --------------  -----  \n",
            " 0   price_eth   1514 non-null   float64\n",
            " 1   volume_eth  1514 non-null   int64  \n",
            "dtypes: float64(1), int64(1)\n",
            "memory usage: 35.5 KB\n",
            "<class 'pandas.core.frame.DataFrame'>\n",
            "DatetimeIndex: 505 entries, 2020-08-14 to 2021-12-31\n",
            "Data columns (total 2 columns):\n",
            " #   Column       Non-Null Count  Dtype  \n",
            "---  ------       --------------  -----  \n",
            " 0   price_sand   505 non-null    float64\n",
            " 1   volume_sand  505 non-null    int64  \n",
            "dtypes: float64(1), int64(1)\n",
            "memory usage: 11.8 KB\n"
          ]
        }
      ]
    },
    {
      "cell_type": "code",
      "source": [
        "data = pd.merge(data_1,data_2,left_index=True,right_index=True)\n",
        "data.info()"
      ],
      "metadata": {
        "colab": {
          "base_uri": "https://localhost:8080/"
        },
        "id": "V0r0QTt2Do7N",
        "outputId": "a52090d0-5ac5-4268-bbc0-4ddcb8e3e483"
      },
      "execution_count": null,
      "outputs": [
        {
          "output_type": "stream",
          "name": "stdout",
          "text": [
            "<class 'pandas.core.frame.DataFrame'>\n",
            "DatetimeIndex: 505 entries, 2020-08-14 to 2021-12-31\n",
            "Data columns (total 4 columns):\n",
            " #   Column       Non-Null Count  Dtype  \n",
            "---  ------       --------------  -----  \n",
            " 0   price_eth    505 non-null    float64\n",
            " 1   volume_eth   505 non-null    int64  \n",
            " 2   price_sand   505 non-null    float64\n",
            " 3   volume_sand  505 non-null    int64  \n",
            "dtypes: float64(2), int64(2)\n",
            "memory usage: 19.7 KB\n"
          ]
        }
      ]
    },
    {
      "cell_type": "code",
      "source": [
        "data['ret_eth'] = data.price_eth.pct_change()\n",
        "data['ret_eth_1'] = data.price_eth.pct_change().shift()\n",
        "data['ret_eth_2'] = data.price_eth.pct_change().shift(2)\n",
        "data['ret_eth_3'] = data.price_eth.pct_change().shift(3)"
      ],
      "metadata": {
        "id": "nAvXK6qaDtPn"
      },
      "execution_count": null,
      "outputs": []
    },
    {
      "cell_type": "code",
      "source": [
        "data['ret_sand'] = data.price_sand.pct_change()\n",
        "data['ret_sand_1'] = data.price_sand.pct_change().shift()\n",
        "data['ret_sand_2'] = data.price_sand.pct_change().shift(2)\n",
        "data['ret_sand_3'] = data.price_sand.pct_change().shift(3)"
      ],
      "metadata": {
        "id": "X5278Vp7DtxJ"
      },
      "execution_count": null,
      "outputs": []
    },
    {
      "cell_type": "code",
      "source": [
        "data.info()"
      ],
      "metadata": {
        "colab": {
          "base_uri": "https://localhost:8080/"
        },
        "id": "I5oS2iZuD4hO",
        "outputId": "0c6bed26-6350-4881-e8db-7f9020639877"
      },
      "execution_count": null,
      "outputs": [
        {
          "output_type": "stream",
          "name": "stdout",
          "text": [
            "<class 'pandas.core.frame.DataFrame'>\n",
            "DatetimeIndex: 505 entries, 2020-08-14 to 2021-12-31\n",
            "Data columns (total 12 columns):\n",
            " #   Column       Non-Null Count  Dtype  \n",
            "---  ------       --------------  -----  \n",
            " 0   price_eth    505 non-null    float64\n",
            " 1   volume_eth   505 non-null    int64  \n",
            " 2   price_sand   505 non-null    float64\n",
            " 3   volume_sand  505 non-null    int64  \n",
            " 4   ret_eth      504 non-null    float64\n",
            " 5   ret_eth_1    503 non-null    float64\n",
            " 6   ret_eth_2    502 non-null    float64\n",
            " 7   ret_eth_3    501 non-null    float64\n",
            " 8   ret_sand     504 non-null    float64\n",
            " 9   ret_sand_1   503 non-null    float64\n",
            " 10  ret_sand_2   502 non-null    float64\n",
            " 11  ret_sand_3   501 non-null    float64\n",
            "dtypes: float64(10), int64(2)\n",
            "memory usage: 51.3 KB\n"
          ]
        }
      ]
    },
    {
      "cell_type": "code",
      "source": [
        "# 跑回歸 同期關係\n",
        "# eth = a + b*sand\n",
        "y = data.ret_eth\n",
        "x = sm.add_constant(data[['ret_sand','ret_eth_1','ret_eth_2','ret_eth_3']])\n",
        "result = sm.OLS(y,x,missing='drop').fit()\n",
        "print(result.summary())"
      ],
      "metadata": {
        "colab": {
          "base_uri": "https://localhost:8080/"
        },
        "id": "lao0nR59EAFV",
        "outputId": "caface02-a569-48ef-9768-6e8d1b9ceccd"
      },
      "execution_count": null,
      "outputs": [
        {
          "output_type": "stream",
          "name": "stdout",
          "text": [
            "                            OLS Regression Results                            \n",
            "==============================================================================\n",
            "Dep. Variable:                ret_eth   R-squared:                       0.099\n",
            "Model:                            OLS   Adj. R-squared:                  0.092\n",
            "Method:                 Least Squares   F-statistic:                     13.69\n",
            "Date:                Tue, 18 Jan 2022   Prob (F-statistic):           1.35e-10\n",
            "Time:                        12:01:24   Log-Likelihood:                 790.50\n",
            "No. Observations:                 501   AIC:                            -1571.\n",
            "Df Residuals:                     496   BIC:                            -1550.\n",
            "Df Model:                           4                                         \n",
            "Covariance Type:            nonrobust                                         \n",
            "==============================================================================\n",
            "                 coef    std err          t      P>|t|      [0.025      0.975]\n",
            "------------------------------------------------------------------------------\n",
            "const          0.0038      0.002      1.631      0.104      -0.001       0.008\n",
            "ret_sand       0.1478      0.021      7.199      0.000       0.107       0.188\n",
            "ret_eth_1     -0.0413      0.043     -0.965      0.335      -0.125       0.043\n",
            "ret_eth_2     -0.0133      0.043     -0.308      0.758      -0.098       0.071\n",
            "ret_eth_3      0.0075      0.043      0.173      0.862      -0.077       0.092\n",
            "==============================================================================\n",
            "Omnibus:                       87.090   Durbin-Watson:                   1.959\n",
            "Prob(Omnibus):                  0.000   Jarque-Bera (JB):              867.917\n",
            "Skew:                          -0.383   Prob(JB):                    3.42e-189\n",
            "Kurtosis:                       9.402   Cond. No.                         19.8\n",
            "==============================================================================\n",
            "\n",
            "Warnings:\n",
            "[1] Standard Errors assume that the covariance matrix of the errors is correctly specified.\n"
          ]
        }
      ]
    },
    {
      "cell_type": "code",
      "source": [
        "# 跑回歸 跨期關係\n",
        "# eth(t) = a + b*sand(t-1)\n",
        "y = data.ret_eth\n",
        "x = sm.add_constant(data[['ret_sand_1','ret_eth_1','ret_eth_2','ret_eth_3']])\n",
        "result = sm.OLS(y,x,missing='drop').fit()\n",
        "print(result.summary())"
      ],
      "metadata": {
        "colab": {
          "base_uri": "https://localhost:8080/"
        },
        "id": "i9bRa8rLENeI",
        "outputId": "28562adc-b746-4f35-9513-0ec4c197810a"
      },
      "execution_count": null,
      "outputs": [
        {
          "output_type": "stream",
          "name": "stdout",
          "text": [
            "                            OLS Regression Results                            \n",
            "==============================================================================\n",
            "Dep. Variable:                ret_eth   R-squared:                       0.008\n",
            "Model:                            OLS   Adj. R-squared:                  0.000\n",
            "Method:                 Least Squares   F-statistic:                     1.056\n",
            "Date:                Tue, 18 Jan 2022   Prob (F-statistic):              0.378\n",
            "Time:                        12:02:37   Log-Likelihood:                 766.39\n",
            "No. Observations:                 501   AIC:                            -1523.\n",
            "Df Residuals:                     496   BIC:                            -1502.\n",
            "Df Model:                           4                                         \n",
            "Covariance Type:            nonrobust                                         \n",
            "==============================================================================\n",
            "                 coef    std err          t      P>|t|      [0.025      0.975]\n",
            "------------------------------------------------------------------------------\n",
            "const          0.0063      0.002      2.621      0.009       0.002       0.011\n",
            "ret_sand_1    -0.0281      0.023     -1.247      0.213      -0.072       0.016\n",
            "ret_eth_1     -0.0438      0.047     -0.930      0.353      -0.136       0.049\n",
            "ret_eth_2      0.0224      0.045      0.498      0.619      -0.066       0.111\n",
            "ret_eth_3     -0.0151      0.045     -0.335      0.738      -0.104       0.074\n",
            "==============================================================================\n",
            "Omnibus:                       44.107   Durbin-Watson:                   1.998\n",
            "Prob(Omnibus):                  0.000   Jarque-Bera (JB):              222.213\n",
            "Skew:                          -0.066   Prob(JB):                     5.59e-49\n",
            "Kurtosis:                       6.260   Cond. No.                         20.5\n",
            "==============================================================================\n",
            "\n",
            "Warnings:\n",
            "[1] Standard Errors assume that the covariance matrix of the errors is correctly specified.\n"
          ]
        }
      ]
    },
    {
      "cell_type": "code",
      "source": [
        "# 跑回歸 跨期關係\n",
        "# eth(t) = a + b*sand(t-2)\n",
        "y = data.ret_eth\n",
        "x = sm.add_constant(data[['ret_sand_2','ret_eth_1','ret_eth_2','ret_eth_3']])\n",
        "result = sm.OLS(y,x,missing='drop').fit()\n",
        "print(result.summary())"
      ],
      "metadata": {
        "colab": {
          "base_uri": "https://localhost:8080/"
        },
        "id": "9qXhIKmHEWI_",
        "outputId": "17f65e25-d765-4b75-a573-4347a916bff7"
      },
      "execution_count": null,
      "outputs": [
        {
          "output_type": "stream",
          "name": "stdout",
          "text": [
            "                            OLS Regression Results                            \n",
            "==============================================================================\n",
            "Dep. Variable:                ret_eth   R-squared:                       0.005\n",
            "Model:                            OLS   Adj. R-squared:                 -0.003\n",
            "Method:                 Least Squares   F-statistic:                    0.6829\n",
            "Date:                Tue, 18 Jan 2022   Prob (F-statistic):              0.604\n",
            "Time:                        12:03:01   Log-Likelihood:                 765.64\n",
            "No. Observations:                 501   AIC:                            -1521.\n",
            "Df Residuals:                     496   BIC:                            -1500.\n",
            "Df Model:                           4                                         \n",
            "Covariance Type:            nonrobust                                         \n",
            "==============================================================================\n",
            "                 coef    std err          t      P>|t|      [0.025      0.975]\n",
            "------------------------------------------------------------------------------\n",
            "const          0.0060      0.002      2.462      0.014       0.001       0.011\n",
            "ret_sand_2     0.0060      0.022      0.267      0.790      -0.038       0.050\n",
            "ret_eth_1     -0.0612      0.045     -1.362      0.174      -0.150       0.027\n",
            "ret_eth_2      0.0215      0.047      0.455      0.650      -0.071       0.114\n",
            "ret_eth_3     -0.0217      0.045     -0.481      0.631      -0.110       0.067\n",
            "==============================================================================\n",
            "Omnibus:                       44.117   Durbin-Watson:                   2.002\n",
            "Prob(Omnibus):                  0.000   Jarque-Bera (JB):              223.238\n",
            "Skew:                          -0.057   Prob(JB):                     3.35e-49\n",
            "Kurtosis:                       6.268   Cond. No.                         20.4\n",
            "==============================================================================\n",
            "\n",
            "Warnings:\n",
            "[1] Standard Errors assume that the covariance matrix of the errors is correctly specified.\n"
          ]
        }
      ]
    },
    {
      "cell_type": "code",
      "source": [
        "# 跑回歸 跨期關係\n",
        "# eth(t) = a + b*sand(t-3)\n",
        "y = data.ret_eth\n",
        "x = sm.add_constant(data[['ret_sand_3','ret_eth_1','ret_eth_2','ret_eth_3']])\n",
        "result = sm.OLS(y,x,missing='drop').fit()\n",
        "print(result.summary())"
      ],
      "metadata": {
        "colab": {
          "base_uri": "https://localhost:8080/"
        },
        "id": "8FDvlUQUEYSu",
        "outputId": "e43c6b0c-431b-4d9e-8251-cb786a235fa7"
      },
      "execution_count": null,
      "outputs": [
        {
          "output_type": "stream",
          "name": "stdout",
          "text": [
            "                            OLS Regression Results                            \n",
            "==============================================================================\n",
            "Dep. Variable:                ret_eth   R-squared:                       0.019\n",
            "Model:                            OLS   Adj. R-squared:                  0.011\n",
            "Method:                 Least Squares   F-statistic:                     2.450\n",
            "Date:                Tue, 18 Jan 2022   Prob (F-statistic):             0.0454\n",
            "Time:                        12:03:02   Log-Likelihood:                 769.17\n",
            "No. Observations:                 501   AIC:                            -1528.\n",
            "Df Residuals:                     496   BIC:                            -1507.\n",
            "Df Model:                           4                                         \n",
            "Covariance Type:            nonrobust                                         \n",
            "==============================================================================\n",
            "                 coef    std err          t      P>|t|      [0.025      0.975]\n",
            "------------------------------------------------------------------------------\n",
            "const          0.0054      0.002      2.236      0.026       0.001       0.010\n",
            "ret_sand_3     0.0587      0.022      2.665      0.008       0.015       0.102\n",
            "ret_eth_1     -0.0637      0.045     -1.429      0.154      -0.151       0.024\n",
            "ret_eth_2      0.0323      0.045      0.723      0.470      -0.056       0.120\n",
            "ret_eth_3     -0.0608      0.047     -1.296      0.196      -0.153       0.031\n",
            "==============================================================================\n",
            "Omnibus:                       44.857   Durbin-Watson:                   2.007\n",
            "Prob(Omnibus):                  0.000   Jarque-Bera (JB):              232.227\n",
            "Skew:                          -0.050   Prob(JB):                     3.74e-51\n",
            "Kurtosis:                       6.334   Cond. No.                         20.4\n",
            "==============================================================================\n",
            "\n",
            "Warnings:\n",
            "[1] Standard Errors assume that the covariance matrix of the errors is correctly specified.\n"
          ]
        }
      ]
    },
    {
      "cell_type": "code",
      "source": [
        "# 跑回歸 跨期關係\n",
        "# eth(t) = a + b*sand(t-1)+ sand(t-2)+ sand(t-3)\n",
        "y = data.ret_eth\n",
        "x = sm.add_constant(data[['ret_sand_1','ret_sand_2','ret_sand_3','ret_eth_1','ret_eth_2','ret_eth_3']])\n",
        "result = sm.OLS(y,x,missing='drop').fit()\n",
        "print(result.summary())"
      ],
      "metadata": {
        "colab": {
          "base_uri": "https://localhost:8080/"
        },
        "id": "V2cNVR8wEFtu",
        "outputId": "ef586fb6-d690-4e46-afcc-e106c4e2a4db"
      },
      "execution_count": null,
      "outputs": [
        {
          "output_type": "stream",
          "name": "stdout",
          "text": [
            "                            OLS Regression Results                            \n",
            "==============================================================================\n",
            "Dep. Variable:                ret_eth   R-squared:                       0.023\n",
            "Model:                            OLS   Adj. R-squared:                  0.011\n",
            "Method:                 Least Squares   F-statistic:                     1.949\n",
            "Date:                Tue, 18 Jan 2022   Prob (F-statistic):             0.0714\n",
            "Time:                        12:02:02   Log-Likelihood:                 770.13\n",
            "No. Observations:                 501   AIC:                            -1526.\n",
            "Df Residuals:                     494   BIC:                            -1497.\n",
            "Df Model:                           6                                         \n",
            "Covariance Type:            nonrobust                                         \n",
            "==============================================================================\n",
            "                 coef    std err          t      P>|t|      [0.025      0.975]\n",
            "------------------------------------------------------------------------------\n",
            "const          0.0056      0.002      2.303      0.022       0.001       0.010\n",
            "ret_sand_1    -0.0304      0.022     -1.356      0.176      -0.074       0.014\n",
            "ret_sand_2     0.0061      0.022      0.273      0.785      -0.038       0.050\n",
            "ret_sand_3     0.0597      0.022      2.708      0.007       0.016       0.103\n",
            "ret_eth_1     -0.0434      0.047     -0.923      0.356      -0.136       0.049\n",
            "ret_eth_2      0.0254      0.047      0.540      0.590      -0.067       0.118\n",
            "ret_eth_3     -0.0529      0.047     -1.118      0.264      -0.146       0.040\n",
            "==============================================================================\n",
            "Omnibus:                       43.565   Durbin-Watson:                   2.007\n",
            "Prob(Omnibus):                  0.000   Jarque-Bera (JB):              217.113\n",
            "Skew:                          -0.058   Prob(JB):                     7.15e-48\n",
            "Kurtosis:                       6.223   Cond. No.                         20.7\n",
            "==============================================================================\n",
            "\n",
            "Warnings:\n",
            "[1] Standard Errors assume that the covariance matrix of the errors is correctly specified.\n"
          ]
        }
      ]
    },
    {
      "cell_type": "markdown",
      "source": [
        "#FLOW對ETH報酬的影響"
      ],
      "metadata": {
        "id": "XoStDbDQEfGN"
      }
    },
    {
      "cell_type": "code",
      "source": [
        "data_1 = yf.Ticker('ETH-USD').history(period='max')\n",
        "data_1.info()\n",
        "data_2 = yf.Ticker('FLOW-USD').history(period='max')\n",
        "data_2.info()"
      ],
      "metadata": {
        "colab": {
          "base_uri": "https://localhost:8080/"
        },
        "id": "HP2XR3NGElK5",
        "outputId": "acfb23d1-50b2-48fb-f35b-4a14adbc6992"
      },
      "execution_count": null,
      "outputs": [
        {
          "output_type": "stream",
          "name": "stdout",
          "text": [
            "<class 'pandas.core.frame.DataFrame'>\n",
            "DatetimeIndex: 1532 entries, 2017-11-09 to 2022-01-18\n",
            "Data columns (total 7 columns):\n",
            " #   Column        Non-Null Count  Dtype  \n",
            "---  ------        --------------  -----  \n",
            " 0   Open          1532 non-null   float64\n",
            " 1   High          1532 non-null   float64\n",
            " 2   Low           1532 non-null   float64\n",
            " 3   Close         1532 non-null   float64\n",
            " 4   Volume        1532 non-null   int64  \n",
            " 5   Dividends     1532 non-null   int64  \n",
            " 6   Stock Splits  1532 non-null   int64  \n",
            "dtypes: float64(4), int64(3)\n",
            "memory usage: 95.8 KB\n",
            "<class 'pandas.core.frame.DataFrame'>\n",
            "DatetimeIndex: 357 entries, 2021-01-27 to 2022-01-18\n",
            "Data columns (total 7 columns):\n",
            " #   Column        Non-Null Count  Dtype  \n",
            "---  ------        --------------  -----  \n",
            " 0   Open          357 non-null    float64\n",
            " 1   High          357 non-null    float64\n",
            " 2   Low           357 non-null    float64\n",
            " 3   Close         357 non-null    float64\n",
            " 4   Volume        357 non-null    int64  \n",
            " 5   Dividends     357 non-null    int64  \n",
            " 6   Stock Splits  357 non-null    int64  \n",
            "dtypes: float64(4), int64(3)\n",
            "memory usage: 22.3 KB\n"
          ]
        }
      ]
    },
    {
      "cell_type": "code",
      "source": [
        "data_1 = data_1['2017':'2021']\n",
        "data_1.info()\n",
        "data_2 = data_2['2017':'2021']\n",
        "data_2.info()"
      ],
      "metadata": {
        "colab": {
          "base_uri": "https://localhost:8080/"
        },
        "id": "tzGadzHzEwN8",
        "outputId": "01af4cb3-75e7-4555-f242-fcea790ef9a7"
      },
      "execution_count": null,
      "outputs": [
        {
          "output_type": "stream",
          "name": "stdout",
          "text": [
            "<class 'pandas.core.frame.DataFrame'>\n",
            "DatetimeIndex: 1514 entries, 2017-11-09 to 2021-12-31\n",
            "Data columns (total 7 columns):\n",
            " #   Column        Non-Null Count  Dtype  \n",
            "---  ------        --------------  -----  \n",
            " 0   Open          1514 non-null   float64\n",
            " 1   High          1514 non-null   float64\n",
            " 2   Low           1514 non-null   float64\n",
            " 3   Close         1514 non-null   float64\n",
            " 4   Volume        1514 non-null   int64  \n",
            " 5   Dividends     1514 non-null   int64  \n",
            " 6   Stock Splits  1514 non-null   int64  \n",
            "dtypes: float64(4), int64(3)\n",
            "memory usage: 94.6 KB\n",
            "<class 'pandas.core.frame.DataFrame'>\n",
            "DatetimeIndex: 339 entries, 2021-01-27 to 2021-12-31\n",
            "Data columns (total 7 columns):\n",
            " #   Column        Non-Null Count  Dtype  \n",
            "---  ------        --------------  -----  \n",
            " 0   Open          339 non-null    float64\n",
            " 1   High          339 non-null    float64\n",
            " 2   Low           339 non-null    float64\n",
            " 3   Close         339 non-null    float64\n",
            " 4   Volume        339 non-null    int64  \n",
            " 5   Dividends     339 non-null    int64  \n",
            " 6   Stock Splits  339 non-null    int64  \n",
            "dtypes: float64(4), int64(3)\n",
            "memory usage: 21.2 KB\n"
          ]
        }
      ]
    },
    {
      "cell_type": "code",
      "source": [
        "data_1 = data_1[['Close','Volume']]\n",
        "data_1.columns = ['price_eth','volume_eth']\n",
        "data_1.info()\n",
        "data_2 = data_2[['Close','Volume']]\n",
        "data_2.columns = ['price_flow','volume_flow']\n",
        "data_2.info()"
      ],
      "metadata": {
        "colab": {
          "base_uri": "https://localhost:8080/"
        },
        "id": "DQp4sp2qEz8h",
        "outputId": "76b30a3b-51ff-4ccd-a289-4044ef6df8e4"
      },
      "execution_count": null,
      "outputs": [
        {
          "output_type": "stream",
          "name": "stdout",
          "text": [
            "<class 'pandas.core.frame.DataFrame'>\n",
            "DatetimeIndex: 1514 entries, 2017-11-09 to 2021-12-31\n",
            "Data columns (total 2 columns):\n",
            " #   Column      Non-Null Count  Dtype  \n",
            "---  ------      --------------  -----  \n",
            " 0   price_eth   1514 non-null   float64\n",
            " 1   volume_eth  1514 non-null   int64  \n",
            "dtypes: float64(1), int64(1)\n",
            "memory usage: 35.5 KB\n",
            "<class 'pandas.core.frame.DataFrame'>\n",
            "DatetimeIndex: 339 entries, 2021-01-27 to 2021-12-31\n",
            "Data columns (total 2 columns):\n",
            " #   Column       Non-Null Count  Dtype  \n",
            "---  ------       --------------  -----  \n",
            " 0   price_flow   339 non-null    float64\n",
            " 1   volume_flow  339 non-null    int64  \n",
            "dtypes: float64(1), int64(1)\n",
            "memory usage: 7.9 KB\n"
          ]
        }
      ]
    },
    {
      "cell_type": "code",
      "source": [
        "data = pd.merge(data_1,data_2,left_index=True,right_index=True)\n",
        "data.info()"
      ],
      "metadata": {
        "colab": {
          "base_uri": "https://localhost:8080/"
        },
        "id": "SEHQvYJOE7Dy",
        "outputId": "a444c4f5-355d-479e-c47a-6c0af849ce3d"
      },
      "execution_count": null,
      "outputs": [
        {
          "output_type": "stream",
          "name": "stdout",
          "text": [
            "<class 'pandas.core.frame.DataFrame'>\n",
            "DatetimeIndex: 339 entries, 2021-01-27 to 2021-12-31\n",
            "Data columns (total 4 columns):\n",
            " #   Column       Non-Null Count  Dtype  \n",
            "---  ------       --------------  -----  \n",
            " 0   price_eth    339 non-null    float64\n",
            " 1   volume_eth   339 non-null    int64  \n",
            " 2   price_flow   339 non-null    float64\n",
            " 3   volume_flow  339 non-null    int64  \n",
            "dtypes: float64(2), int64(2)\n",
            "memory usage: 13.2 KB\n"
          ]
        }
      ]
    },
    {
      "cell_type": "code",
      "source": [
        "data['ret_eth'] = data.price_eth.pct_change()\n",
        "data['ret_eth_1'] = data.price_eth.pct_change().shift()\n",
        "data['ret_eth_2'] = data.price_eth.pct_change().shift(2)\n",
        "data['ret_eth_3'] = data.price_eth.pct_change().shift(3)"
      ],
      "metadata": {
        "id": "10SRP6TtFAdG"
      },
      "execution_count": null,
      "outputs": []
    },
    {
      "cell_type": "code",
      "source": [
        "data['ret_flow'] = data.price_flow.pct_change()\n",
        "data['ret_flow_1'] = data.price_flow.pct_change().shift()\n",
        "data['ret_flow_2'] = data.price_flow.pct_change().shift(2)\n",
        "data['ret_flow_3'] = data.price_flow.pct_change().shift(3)"
      ],
      "metadata": {
        "id": "eB-I4kKgFA73"
      },
      "execution_count": null,
      "outputs": []
    },
    {
      "cell_type": "code",
      "source": [
        "data.info()"
      ],
      "metadata": {
        "colab": {
          "base_uri": "https://localhost:8080/"
        },
        "id": "2pu-bAzmFLOF",
        "outputId": "baaa5ced-fd36-43a5-f586-2074d7e2f1b6"
      },
      "execution_count": null,
      "outputs": [
        {
          "output_type": "stream",
          "name": "stdout",
          "text": [
            "<class 'pandas.core.frame.DataFrame'>\n",
            "DatetimeIndex: 339 entries, 2021-01-27 to 2021-12-31\n",
            "Data columns (total 12 columns):\n",
            " #   Column       Non-Null Count  Dtype  \n",
            "---  ------       --------------  -----  \n",
            " 0   price_eth    339 non-null    float64\n",
            " 1   volume_eth   339 non-null    int64  \n",
            " 2   price_flow   339 non-null    float64\n",
            " 3   volume_flow  339 non-null    int64  \n",
            " 4   ret_eth      338 non-null    float64\n",
            " 5   ret_eth_1    337 non-null    float64\n",
            " 6   ret_eth_2    336 non-null    float64\n",
            " 7   ret_eth_3    335 non-null    float64\n",
            " 8   ret_flow     338 non-null    float64\n",
            " 9   ret_flow_1   337 non-null    float64\n",
            " 10  ret_flow_2   336 non-null    float64\n",
            " 11  ret_flow_3   335 non-null    float64\n",
            "dtypes: float64(10), int64(2)\n",
            "memory usage: 34.4 KB\n"
          ]
        }
      ]
    },
    {
      "cell_type": "code",
      "source": [
        "# 跑回歸 同期關係\n",
        "# eth = a + b*flow\n",
        "y = data.ret_eth\n",
        "x = sm.add_constant(data[['ret_flow','ret_eth_1','ret_eth_2','ret_eth_3']])\n",
        "result = sm.OLS(y,x,missing='drop').fit()\n",
        "print(result.summary())"
      ],
      "metadata": {
        "colab": {
          "base_uri": "https://localhost:8080/"
        },
        "id": "ANEfWu53FRO6",
        "outputId": "b1ebbde2-f11a-4cd2-a49b-07a77ee1566d"
      },
      "execution_count": null,
      "outputs": [
        {
          "output_type": "stream",
          "name": "stdout",
          "text": [
            "                            OLS Regression Results                            \n",
            "==============================================================================\n",
            "Dep. Variable:                ret_eth   R-squared:                       0.278\n",
            "Model:                            OLS   Adj. R-squared:                  0.270\n",
            "Method:                 Least Squares   F-statistic:                     31.83\n",
            "Date:                Tue, 18 Jan 2022   Prob (F-statistic):           1.96e-22\n",
            "Time:                        12:08:44   Log-Likelihood:                 564.86\n",
            "No. Observations:                 335   AIC:                            -1120.\n",
            "Df Residuals:                     330   BIC:                            -1101.\n",
            "Df Model:                           4                                         \n",
            "Covariance Type:            nonrobust                                         \n",
            "==============================================================================\n",
            "                 coef    std err          t      P>|t|      [0.025      0.975]\n",
            "------------------------------------------------------------------------------\n",
            "const          0.0038      0.002      1.528      0.128      -0.001       0.009\n",
            "ret_flow       0.3470      0.031     11.086      0.000       0.285       0.409\n",
            "ret_eth_1     -0.0997      0.047     -2.122      0.035      -0.192      -0.007\n",
            "ret_eth_2      0.0135      0.047      0.285      0.776      -0.079       0.106\n",
            "ret_eth_3     -0.0220      0.047     -0.468      0.640      -0.114       0.070\n",
            "==============================================================================\n",
            "Omnibus:                       15.280   Durbin-Watson:                   1.868\n",
            "Prob(Omnibus):                  0.000   Jarque-Bera (JB):               31.722\n",
            "Skew:                           0.191   Prob(JB):                     1.29e-07\n",
            "Kurtosis:                       4.458   Cond. No.                         20.2\n",
            "==============================================================================\n",
            "\n",
            "Warnings:\n",
            "[1] Standard Errors assume that the covariance matrix of the errors is correctly specified.\n"
          ]
        }
      ]
    },
    {
      "cell_type": "code",
      "source": [
        "# 跑回歸 跨期關係\n",
        "# eth(t) = a + b*flow(t-1)\n",
        "y = data.ret_eth\n",
        "x = sm.add_constant(data[['ret_flow_1','ret_eth_1','ret_eth_2','ret_eth_3']])\n",
        "result = sm.OLS(y,x,missing='drop').fit()\n",
        "print(result.summary())"
      ],
      "metadata": {
        "colab": {
          "base_uri": "https://localhost:8080/"
        },
        "id": "AUR1I3FVFoYb",
        "outputId": "127fca95-f000-43de-c36d-71c81fcce552"
      },
      "execution_count": null,
      "outputs": [
        {
          "output_type": "stream",
          "name": "stdout",
          "text": [
            "                            OLS Regression Results                            \n",
            "==============================================================================\n",
            "Dep. Variable:                ret_eth   R-squared:                       0.019\n",
            "Model:                            OLS   Adj. R-squared:                  0.007\n",
            "Method:                 Least Squares   F-statistic:                     1.614\n",
            "Date:                Tue, 18 Jan 2022   Prob (F-statistic):              0.170\n",
            "Time:                        12:08:50   Log-Likelihood:                 513.45\n",
            "No. Observations:                 335   AIC:                            -1017.\n",
            "Df Residuals:                     330   BIC:                            -997.8\n",
            "Df Model:                           4                                         \n",
            "Covariance Type:            nonrobust                                         \n",
            "==============================================================================\n",
            "                 coef    std err          t      P>|t|      [0.025      0.975]\n",
            "------------------------------------------------------------------------------\n",
            "const          0.0048      0.003      1.654      0.099      -0.001       0.011\n",
            "ret_flow_1    -0.0727      0.041     -1.794      0.074      -0.152       0.007\n",
            "ret_eth_1     -0.0380      0.063     -0.601      0.548      -0.162       0.086\n",
            "ret_eth_2      0.0174      0.055      0.315      0.753      -0.091       0.126\n",
            "ret_eth_3     -0.0169      0.055     -0.310      0.757      -0.125       0.091\n",
            "==============================================================================\n",
            "Omnibus:                       30.107   Durbin-Watson:                   2.004\n",
            "Prob(Omnibus):                  0.000   Jarque-Bera (JB):              118.210\n",
            "Skew:                          -0.207   Prob(JB):                     2.14e-26\n",
            "Kurtosis:                       5.880   Cond. No.                         23.8\n",
            "==============================================================================\n",
            "\n",
            "Warnings:\n",
            "[1] Standard Errors assume that the covariance matrix of the errors is correctly specified.\n"
          ]
        }
      ]
    },
    {
      "cell_type": "code",
      "source": [
        "# 跑回歸 跨期關係\n",
        "# eth(t) = a + b*flow(t-2)\n",
        "y = data.ret_eth\n",
        "x = sm.add_constant(data[['ret_flow_2','ret_eth_1','ret_eth_2','ret_eth_3']])\n",
        "result = sm.OLS(y,x,missing='drop').fit()\n",
        "print(result.summary())"
      ],
      "metadata": {
        "colab": {
          "base_uri": "https://localhost:8080/"
        },
        "id": "CjUSy14qFwyS",
        "outputId": "2a99408d-bd06-4e2c-b0fb-276c28bc4f25"
      },
      "execution_count": null,
      "outputs": [
        {
          "output_type": "stream",
          "name": "stdout",
          "text": [
            "                            OLS Regression Results                            \n",
            "==============================================================================\n",
            "Dep. Variable:                ret_eth   R-squared:                       0.011\n",
            "Model:                            OLS   Adj. R-squared:                 -0.001\n",
            "Method:                 Least Squares   F-statistic:                    0.9034\n",
            "Date:                Tue, 18 Jan 2022   Prob (F-statistic):              0.462\n",
            "Time:                        12:09:09   Log-Likelihood:                 512.03\n",
            "No. Observations:                 335   AIC:                            -1014.\n",
            "Df Residuals:                     330   BIC:                            -995.0\n",
            "Df Model:                           4                                         \n",
            "Covariance Type:            nonrobust                                         \n",
            "==============================================================================\n",
            "                 coef    std err          t      P>|t|      [0.025      0.975]\n",
            "------------------------------------------------------------------------------\n",
            "const          0.0048      0.003      1.646      0.101      -0.001       0.011\n",
            "ret_flow_2    -0.0258      0.041     -0.635      0.526      -0.106       0.054\n",
            "ret_eth_1     -0.0980      0.055     -1.774      0.077      -0.207       0.011\n",
            "ret_eth_2      0.0294      0.063      0.464      0.643      -0.095       0.154\n",
            "ret_eth_3     -0.0149      0.055     -0.271      0.786      -0.123       0.093\n",
            "==============================================================================\n",
            "Omnibus:                       30.810   Durbin-Watson:                   1.991\n",
            "Prob(Omnibus):                  0.000   Jarque-Bera (JB):              129.763\n",
            "Skew:                          -0.177   Prob(JB):                     6.64e-29\n",
            "Kurtosis:                       6.028   Cond. No.                         23.6\n",
            "==============================================================================\n",
            "\n",
            "Warnings:\n",
            "[1] Standard Errors assume that the covariance matrix of the errors is correctly specified.\n"
          ]
        }
      ]
    },
    {
      "cell_type": "code",
      "source": [
        "# 跑回歸 跨期關係\n",
        "# eth(t) = a + b*flow(t-3)\n",
        "y = data.ret_eth\n",
        "x = sm.add_constant(data[['ret_flow_3','ret_eth_1','ret_eth_2','ret_eth_3']])\n",
        "result = sm.OLS(y,x,missing='drop').fit()\n",
        "print(result.summary())"
      ],
      "metadata": {
        "colab": {
          "base_uri": "https://localhost:8080/"
        },
        "id": "K2_BjaWaF1UB",
        "outputId": "350477b2-05ca-41f6-8c7a-b73b4e595e00"
      },
      "execution_count": null,
      "outputs": [
        {
          "output_type": "stream",
          "name": "stdout",
          "text": [
            "                            OLS Regression Results                            \n",
            "==============================================================================\n",
            "Dep. Variable:                ret_eth   R-squared:                       0.015\n",
            "Model:                            OLS   Adj. R-squared:                  0.003\n",
            "Method:                 Least Squares   F-statistic:                     1.266\n",
            "Date:                Tue, 18 Jan 2022   Prob (F-statistic):              0.283\n",
            "Time:                        12:09:23   Log-Likelihood:                 512.76\n",
            "No. Observations:                 335   AIC:                            -1016.\n",
            "Df Residuals:                     330   BIC:                            -996.4\n",
            "Df Model:                           4                                         \n",
            "Covariance Type:            nonrobust                                         \n",
            "==============================================================================\n",
            "                 coef    std err          t      P>|t|      [0.025      0.975]\n",
            "------------------------------------------------------------------------------\n",
            "const          0.0047      0.003      1.622      0.106      -0.001       0.010\n",
            "ret_flow_3     0.0549      0.041      1.356      0.176      -0.025       0.135\n",
            "ret_eth_1     -0.0919      0.055     -1.674      0.095      -0.200       0.016\n",
            "ret_eth_2      0.0172      0.055      0.310      0.756      -0.092       0.126\n",
            "ret_eth_3     -0.0588      0.063     -0.938      0.349      -0.182       0.065\n",
            "==============================================================================\n",
            "Omnibus:                       29.773   Durbin-Watson:                   2.005\n",
            "Prob(Omnibus):                  0.000   Jarque-Bera (JB):              121.646\n",
            "Skew:                          -0.169   Prob(JB):                     3.85e-27\n",
            "Kurtosis:                       5.933   Cond. No.                         23.2\n",
            "==============================================================================\n",
            "\n",
            "Warnings:\n",
            "[1] Standard Errors assume that the covariance matrix of the errors is correctly specified.\n"
          ]
        }
      ]
    },
    {
      "cell_type": "code",
      "source": [
        "# 跑回歸 跨期關係\n",
        "# eth(t) = a + b*flow(t-1)+ flow(t-2)+ flow(t-3)\n",
        "y = data.ret_eth\n",
        "x = sm.add_constant(data[['ret_flow_1','ret_flow_2','ret_flow_3','ret_eth_1','ret_eth_2','ret_eth_3']])\n",
        "result = sm.OLS(y,x,missing='drop').fit()\n",
        "print(result.summary())"
      ],
      "metadata": {
        "colab": {
          "base_uri": "https://localhost:8080/"
        },
        "id": "PQNGfg0OFezM",
        "outputId": "bd822e84-3fda-4ec8-e3f3-cb7c1a495615"
      },
      "execution_count": null,
      "outputs": [
        {
          "output_type": "stream",
          "name": "stdout",
          "text": [
            "                            OLS Regression Results                            \n",
            "==============================================================================\n",
            "Dep. Variable:                ret_eth   R-squared:                       0.025\n",
            "Model:                            OLS   Adj. R-squared:                  0.007\n",
            "Method:                 Least Squares   F-statistic:                     1.407\n",
            "Date:                Tue, 18 Jan 2022   Prob (F-statistic):              0.211\n",
            "Time:                        12:09:14   Log-Likelihood:                 514.46\n",
            "No. Observations:                 335   AIC:                            -1015.\n",
            "Df Residuals:                     328   BIC:                            -988.2\n",
            "Df Model:                           6                                         \n",
            "Covariance Type:            nonrobust                                         \n",
            "==============================================================================\n",
            "                 coef    std err          t      P>|t|      [0.025      0.975]\n",
            "------------------------------------------------------------------------------\n",
            "const          0.0048      0.003      1.636      0.103      -0.001       0.010\n",
            "ret_flow_1    -0.0683      0.041     -1.679      0.094      -0.148       0.012\n",
            "ret_flow_2    -0.0246      0.041     -0.605      0.546      -0.105       0.055\n",
            "ret_flow_3     0.0533      0.041      1.313      0.190      -0.027       0.133\n",
            "ret_eth_1     -0.0421      0.064     -0.660      0.509      -0.167       0.083\n",
            "ret_eth_2      0.0429      0.064      0.676      0.500      -0.082       0.168\n",
            "ret_eth_3     -0.0547      0.063     -0.873      0.384      -0.178       0.069\n",
            "==============================================================================\n",
            "Omnibus:                       29.979   Durbin-Watson:                   2.007\n",
            "Prob(Omnibus):                  0.000   Jarque-Bera (JB):              115.153\n",
            "Skew:                          -0.218   Prob(JB):                     9.88e-26\n",
            "Kurtosis:                       5.839   Cond. No.                         23.8\n",
            "==============================================================================\n",
            "\n",
            "Warnings:\n",
            "[1] Standard Errors assume that the covariance matrix of the errors is correctly specified.\n"
          ]
        }
      ]
    },
    {
      "cell_type": "markdown",
      "source": [
        "#DOGE對ETH報酬的影響"
      ],
      "metadata": {
        "id": "zG84PuQbF49l"
      }
    },
    {
      "cell_type": "code",
      "source": [
        "data_1 = yf.Ticker('ETH-USD').history(period='max')\n",
        "data_1.info()\n",
        "data_2 = yf.Ticker('DOGE-USD').history(period='max')\n",
        "data_2.info()"
      ],
      "metadata": {
        "colab": {
          "base_uri": "https://localhost:8080/"
        },
        "id": "8CRZxNIPF_qj",
        "outputId": "3bfee546-1d49-4f34-e052-b84866a7b93f"
      },
      "execution_count": null,
      "outputs": [
        {
          "output_type": "stream",
          "name": "stdout",
          "text": [
            "<class 'pandas.core.frame.DataFrame'>\n",
            "DatetimeIndex: 1532 entries, 2017-11-09 to 2022-01-18\n",
            "Data columns (total 7 columns):\n",
            " #   Column        Non-Null Count  Dtype  \n",
            "---  ------        --------------  -----  \n",
            " 0   Open          1532 non-null   float64\n",
            " 1   High          1532 non-null   float64\n",
            " 2   Low           1532 non-null   float64\n",
            " 3   Close         1532 non-null   float64\n",
            " 4   Volume        1532 non-null   int64  \n",
            " 5   Dividends     1532 non-null   int64  \n",
            " 6   Stock Splits  1532 non-null   int64  \n",
            "dtypes: float64(4), int64(3)\n",
            "memory usage: 95.8 KB\n",
            "<class 'pandas.core.frame.DataFrame'>\n",
            "DatetimeIndex: 1532 entries, 2017-11-09 to 2022-01-18\n",
            "Data columns (total 7 columns):\n",
            " #   Column        Non-Null Count  Dtype  \n",
            "---  ------        --------------  -----  \n",
            " 0   Open          1532 non-null   float64\n",
            " 1   High          1532 non-null   float64\n",
            " 2   Low           1532 non-null   float64\n",
            " 3   Close         1532 non-null   float64\n",
            " 4   Volume        1532 non-null   int64  \n",
            " 5   Dividends     1532 non-null   int64  \n",
            " 6   Stock Splits  1532 non-null   int64  \n",
            "dtypes: float64(4), int64(3)\n",
            "memory usage: 95.8 KB\n"
          ]
        }
      ]
    },
    {
      "cell_type": "code",
      "source": [
        "data_1 = data_1['2017':'2021']\n",
        "data_1.info()\n",
        "data_2 = data_2['2017':'2021']\n",
        "data_2.info()"
      ],
      "metadata": {
        "colab": {
          "base_uri": "https://localhost:8080/"
        },
        "id": "GG6bYo3JGgAX",
        "outputId": "28d547db-26ff-4924-e566-ff6a9dd13d73"
      },
      "execution_count": null,
      "outputs": [
        {
          "output_type": "stream",
          "name": "stdout",
          "text": [
            "<class 'pandas.core.frame.DataFrame'>\n",
            "DatetimeIndex: 1514 entries, 2017-11-09 to 2021-12-31\n",
            "Data columns (total 7 columns):\n",
            " #   Column        Non-Null Count  Dtype  \n",
            "---  ------        --------------  -----  \n",
            " 0   Open          1514 non-null   float64\n",
            " 1   High          1514 non-null   float64\n",
            " 2   Low           1514 non-null   float64\n",
            " 3   Close         1514 non-null   float64\n",
            " 4   Volume        1514 non-null   int64  \n",
            " 5   Dividends     1514 non-null   int64  \n",
            " 6   Stock Splits  1514 non-null   int64  \n",
            "dtypes: float64(4), int64(3)\n",
            "memory usage: 94.6 KB\n",
            "<class 'pandas.core.frame.DataFrame'>\n",
            "DatetimeIndex: 1514 entries, 2017-11-09 to 2021-12-31\n",
            "Data columns (total 7 columns):\n",
            " #   Column        Non-Null Count  Dtype  \n",
            "---  ------        --------------  -----  \n",
            " 0   Open          1514 non-null   float64\n",
            " 1   High          1514 non-null   float64\n",
            " 2   Low           1514 non-null   float64\n",
            " 3   Close         1514 non-null   float64\n",
            " 4   Volume        1514 non-null   int64  \n",
            " 5   Dividends     1514 non-null   int64  \n",
            " 6   Stock Splits  1514 non-null   int64  \n",
            "dtypes: float64(4), int64(3)\n",
            "memory usage: 94.6 KB\n"
          ]
        }
      ]
    },
    {
      "cell_type": "code",
      "source": [
        "data_1 = data_1[['Close','Volume']]\n",
        "data_1.columns = ['price_eth','volume_eth']\n",
        "data_1.info()\n",
        "data_2 = data_2[['Close','Volume']]\n",
        "data_2.columns = ['price_doge','volume_doge']\n",
        "data_2.info()"
      ],
      "metadata": {
        "colab": {
          "base_uri": "https://localhost:8080/"
        },
        "id": "kgOVmQJmGjp-",
        "outputId": "05a5d016-066f-4097-eea5-57b561b05154"
      },
      "execution_count": null,
      "outputs": [
        {
          "output_type": "stream",
          "name": "stdout",
          "text": [
            "<class 'pandas.core.frame.DataFrame'>\n",
            "DatetimeIndex: 1514 entries, 2017-11-09 to 2021-12-31\n",
            "Data columns (total 2 columns):\n",
            " #   Column      Non-Null Count  Dtype  \n",
            "---  ------      --------------  -----  \n",
            " 0   price_eth   1514 non-null   float64\n",
            " 1   volume_eth  1514 non-null   int64  \n",
            "dtypes: float64(1), int64(1)\n",
            "memory usage: 35.5 KB\n",
            "<class 'pandas.core.frame.DataFrame'>\n",
            "DatetimeIndex: 1514 entries, 2017-11-09 to 2021-12-31\n",
            "Data columns (total 2 columns):\n",
            " #   Column       Non-Null Count  Dtype  \n",
            "---  ------       --------------  -----  \n",
            " 0   price_doge   1514 non-null   float64\n",
            " 1   volume_doge  1514 non-null   int64  \n",
            "dtypes: float64(1), int64(1)\n",
            "memory usage: 35.5 KB\n"
          ]
        }
      ]
    },
    {
      "cell_type": "code",
      "source": [
        "data = pd.merge(data_1,data_2,left_index=True,right_index=True)\n",
        "data.info()"
      ],
      "metadata": {
        "colab": {
          "base_uri": "https://localhost:8080/"
        },
        "id": "9wB1gZfWGprk",
        "outputId": "35320e3c-0d73-4daa-edb3-236f296e29a5"
      },
      "execution_count": null,
      "outputs": [
        {
          "output_type": "stream",
          "name": "stdout",
          "text": [
            "<class 'pandas.core.frame.DataFrame'>\n",
            "DatetimeIndex: 1514 entries, 2017-11-09 to 2021-12-31\n",
            "Data columns (total 4 columns):\n",
            " #   Column       Non-Null Count  Dtype  \n",
            "---  ------       --------------  -----  \n",
            " 0   price_eth    1514 non-null   float64\n",
            " 1   volume_eth   1514 non-null   int64  \n",
            " 2   price_doge   1514 non-null   float64\n",
            " 3   volume_doge  1514 non-null   int64  \n",
            "dtypes: float64(2), int64(2)\n",
            "memory usage: 99.1 KB\n"
          ]
        }
      ]
    },
    {
      "cell_type": "code",
      "source": [
        "data['ret_eth'] = data.price_eth.pct_change()\n",
        "data['ret_eth_1'] = data.price_eth.pct_change().shift()\n",
        "data['ret_eth_2'] = data.price_eth.pct_change().shift(2)\n",
        "data['ret_eth_3'] = data.price_eth.pct_change().shift(3)"
      ],
      "metadata": {
        "id": "ex39UZ1GGxnU"
      },
      "execution_count": null,
      "outputs": []
    },
    {
      "cell_type": "code",
      "source": [
        "data['ret_doge'] = data.price_doge.pct_change()\n",
        "data['ret_doge_1'] = data.price_doge.pct_change().shift()\n",
        "data['ret_doge_2'] = data.price_doge.pct_change().shift(2)\n",
        "data['ret_doge_3'] = data.price_doge.pct_change().shift(3)"
      ],
      "metadata": {
        "id": "RV_nErb7Gyia"
      },
      "execution_count": null,
      "outputs": []
    },
    {
      "cell_type": "code",
      "source": [
        "data.info()"
      ],
      "metadata": {
        "colab": {
          "base_uri": "https://localhost:8080/"
        },
        "id": "0uTN3c2vHJc5",
        "outputId": "fb3e3edc-5335-4782-a5c2-9978b1b07709"
      },
      "execution_count": null,
      "outputs": [
        {
          "output_type": "stream",
          "name": "stdout",
          "text": [
            "<class 'pandas.core.frame.DataFrame'>\n",
            "DatetimeIndex: 1514 entries, 2017-11-09 to 2021-12-31\n",
            "Data columns (total 12 columns):\n",
            " #   Column       Non-Null Count  Dtype  \n",
            "---  ------       --------------  -----  \n",
            " 0   price_eth    1514 non-null   float64\n",
            " 1   volume_eth   1514 non-null   int64  \n",
            " 2   price_doge   1514 non-null   float64\n",
            " 3   volume_doge  1514 non-null   int64  \n",
            " 4   ret_eth      1513 non-null   float64\n",
            " 5   ret_eth_1    1512 non-null   float64\n",
            " 6   ret_eth_2    1511 non-null   float64\n",
            " 7   ret_eth_3    1510 non-null   float64\n",
            " 8   ret_doge     1513 non-null   float64\n",
            " 9   ret_doge_1   1512 non-null   float64\n",
            " 10  ret_doge_2   1511 non-null   float64\n",
            " 11  ret_doge_3   1510 non-null   float64\n",
            "dtypes: float64(10), int64(2)\n",
            "memory usage: 193.8 KB\n"
          ]
        }
      ]
    },
    {
      "cell_type": "code",
      "source": [
        "# 跑回歸 同期關係\n",
        "# eth = a + b*doge\n",
        "y = data.ret_eth\n",
        "x = sm.add_constant(data[['ret_doge','ret_eth_1','ret_eth_2','ret_eth_3']])\n",
        "result = sm.OLS(y,x,missing='drop').fit()\n",
        "print(result.summary())"
      ],
      "metadata": {
        "colab": {
          "base_uri": "https://localhost:8080/"
        },
        "id": "Rhe1rmJPHd6X",
        "outputId": "340fc206-77b9-4509-9a60-89988a1362ff"
      },
      "execution_count": null,
      "outputs": [
        {
          "output_type": "stream",
          "name": "stdout",
          "text": [
            "                            OLS Regression Results                            \n",
            "==============================================================================\n",
            "Dep. Variable:                ret_eth   R-squared:                       0.096\n",
            "Model:                            OLS   Adj. R-squared:                  0.094\n",
            "Method:                 Least Squares   F-statistic:                     40.10\n",
            "Date:                Tue, 18 Jan 2022   Prob (F-statistic):           5.88e-32\n",
            "Time:                        12:16:34   Log-Likelihood:                 2403.8\n",
            "No. Observations:                1510   AIC:                            -4798.\n",
            "Df Residuals:                    1505   BIC:                            -4771.\n",
            "Df Model:                           4                                         \n",
            "Covariance Type:            nonrobust                                         \n",
            "==============================================================================\n",
            "                 coef    std err          t      P>|t|      [0.025      0.975]\n",
            "------------------------------------------------------------------------------\n",
            "const          0.0020      0.001      1.546      0.122      -0.001       0.004\n",
            "ret_doge       0.1295      0.011     12.294      0.000       0.109       0.150\n",
            "ret_eth_1     -0.0245      0.025     -0.994      0.320      -0.073       0.024\n",
            "ret_eth_2      0.0486      0.025      1.977      0.048       0.000       0.097\n",
            "ret_eth_3     -0.0039      0.025     -0.158      0.875      -0.052       0.044\n",
            "==============================================================================\n",
            "Omnibus:                      284.419   Durbin-Watson:                   2.024\n",
            "Prob(Omnibus):                  0.000   Jarque-Bera (JB):             3662.945\n",
            "Skew:                          -0.476   Prob(JB):                         0.00\n",
            "Kurtosis:                      10.570   Cond. No.                         20.0\n",
            "==============================================================================\n",
            "\n",
            "Warnings:\n",
            "[1] Standard Errors assume that the covariance matrix of the errors is correctly specified.\n"
          ]
        }
      ]
    },
    {
      "cell_type": "code",
      "source": [
        "# 跑回歸 跨期關係\n",
        "# eth(t) = a + b*doge(t-1)\n",
        "y = data.ret_eth\n",
        "x = sm.add_constant(data[['ret_doge_1','ret_eth_1','ret_eth_2','ret_eth_3']])\n",
        "result = sm.OLS(y,x,missing='drop').fit()\n",
        "print(result.summary())"
      ],
      "metadata": {
        "colab": {
          "base_uri": "https://localhost:8080/"
        },
        "id": "wCIJPzykIThb",
        "outputId": "8475319c-a82a-48cf-de45-68a2ef016724"
      },
      "execution_count": null,
      "outputs": [
        {
          "output_type": "stream",
          "name": "stdout",
          "text": [
            "                            OLS Regression Results                            \n",
            "==============================================================================\n",
            "Dep. Variable:                ret_eth   R-squared:                       0.010\n",
            "Model:                            OLS   Adj. R-squared:                  0.007\n",
            "Method:                 Least Squares   F-statistic:                     3.733\n",
            "Date:                Tue, 18 Jan 2022   Prob (F-statistic):            0.00498\n",
            "Time:                        12:20:20   Log-Likelihood:                 2334.8\n",
            "No. Observations:                1510   AIC:                            -4660.\n",
            "Df Residuals:                    1505   BIC:                            -4633.\n",
            "Df Model:                           4                                         \n",
            "Covariance Type:            nonrobust                                         \n",
            "==============================================================================\n",
            "                 coef    std err          t      P>|t|      [0.025      0.975]\n",
            "------------------------------------------------------------------------------\n",
            "const          0.0028      0.001      2.091      0.037       0.000       0.005\n",
            "ret_doge_1     0.0294      0.012      2.548      0.011       0.007       0.052\n",
            "ret_eth_1     -0.0648      0.027     -2.400      0.016      -0.118      -0.012\n",
            "ret_eth_2      0.0618      0.026      2.401      0.016       0.011       0.112\n",
            "ret_eth_3      0.0017      0.026      0.064      0.949      -0.049       0.052\n",
            "==============================================================================\n",
            "Omnibus:                      208.026   Durbin-Watson:                   2.001\n",
            "Prob(Omnibus):                  0.000   Jarque-Bera (JB):             2011.454\n",
            "Skew:                          -0.276   Prob(JB):                         0.00\n",
            "Kurtosis:                       8.627   Cond. No.                         20.7\n",
            "==============================================================================\n",
            "\n",
            "Warnings:\n",
            "[1] Standard Errors assume that the covariance matrix of the errors is correctly specified.\n"
          ]
        }
      ]
    },
    {
      "cell_type": "code",
      "source": [
        "# 跑回歸 跨期關係\n",
        "# eth(t) = a + b*doge(t-2)\n",
        "y = data.ret_eth\n",
        "x = sm.add_constant(data[['ret_doge_2','ret_eth_1','ret_eth_2','ret_eth_3']])\n",
        "result = sm.OLS(y,x,missing='drop').fit()\n",
        "print(result.summary())"
      ],
      "metadata": {
        "colab": {
          "base_uri": "https://localhost:8080/"
        },
        "id": "pUpEmT_UIaMR",
        "outputId": "ffba48d0-b2bc-4637-ba66-273da4fbf467"
      },
      "execution_count": null,
      "outputs": [
        {
          "output_type": "stream",
          "name": "stdout",
          "text": [
            "                            OLS Regression Results                            \n",
            "==============================================================================\n",
            "Dep. Variable:                ret_eth   R-squared:                       0.006\n",
            "Model:                            OLS   Adj. R-squared:                  0.003\n",
            "Method:                 Least Squares   F-statistic:                     2.152\n",
            "Date:                Tue, 18 Jan 2022   Prob (F-statistic):             0.0723\n",
            "Time:                        12:20:36   Log-Likelihood:                 2331.7\n",
            "No. Observations:                1510   AIC:                            -4653.\n",
            "Df Residuals:                    1505   BIC:                            -4627.\n",
            "Df Model:                           4                                         \n",
            "Covariance Type:            nonrobust                                         \n",
            "==============================================================================\n",
            "                 coef    std err          t      P>|t|      [0.025      0.975]\n",
            "------------------------------------------------------------------------------\n",
            "const          0.0029      0.001      2.189      0.029       0.000       0.006\n",
            "ret_doge_2     0.0052      0.012      0.445      0.656      -0.018       0.028\n",
            "ret_eth_1     -0.0447      0.026     -1.732      0.083      -0.095       0.006\n",
            "ret_eth_2      0.0546      0.027      2.019      0.044       0.002       0.108\n",
            "ret_eth_3      0.0033      0.026      0.128      0.898      -0.047       0.054\n",
            "==============================================================================\n",
            "Omnibus:                      207.362   Durbin-Watson:                   2.000\n",
            "Prob(Omnibus):                  0.000   Jarque-Bera (JB):             2051.896\n",
            "Skew:                          -0.259   Prob(JB):                         0.00\n",
            "Kurtosis:                       8.687   Cond. No.                         20.8\n",
            "==============================================================================\n",
            "\n",
            "Warnings:\n",
            "[1] Standard Errors assume that the covariance matrix of the errors is correctly specified.\n"
          ]
        }
      ]
    },
    {
      "cell_type": "code",
      "source": [
        "# 跑回歸 跨期關係\n",
        "# eth(t) = a + b*doge(t-3)\n",
        "y = data.ret_eth\n",
        "x = sm.add_constant(data[['ret_doge_3','ret_eth_1','ret_eth_2','ret_eth_3']])\n",
        "result = sm.OLS(y,x,missing='drop').fit()\n",
        "print(result.summary())"
      ],
      "metadata": {
        "colab": {
          "base_uri": "https://localhost:8080/"
        },
        "id": "m7Ns5_EFIdJK",
        "outputId": "3d7f38dc-dfe9-4afa-f065-65a39492e21c"
      },
      "execution_count": null,
      "outputs": [
        {
          "output_type": "stream",
          "name": "stdout",
          "text": [
            "                            OLS Regression Results                            \n",
            "==============================================================================\n",
            "Dep. Variable:                ret_eth   R-squared:                       0.006\n",
            "Model:                            OLS   Adj. R-squared:                  0.003\n",
            "Method:                 Least Squares   F-statistic:                     2.145\n",
            "Date:                Tue, 18 Jan 2022   Prob (F-statistic):             0.0731\n",
            "Time:                        12:20:50   Log-Likelihood:                 2331.7\n",
            "No. Observations:                1510   AIC:                            -4653.\n",
            "Df Residuals:                    1505   BIC:                            -4627.\n",
            "Df Model:                           4                                         \n",
            "Covariance Type:            nonrobust                                         \n",
            "==============================================================================\n",
            "                 coef    std err          t      P>|t|      [0.025      0.975]\n",
            "------------------------------------------------------------------------------\n",
            "const          0.0030      0.001      2.226      0.026       0.000       0.006\n",
            "ret_doge_3    -0.0048      0.012     -0.414      0.679      -0.028       0.018\n",
            "ret_eth_1     -0.0439      0.026     -1.702      0.089      -0.094       0.007\n",
            "ret_eth_2      0.0590      0.026      2.285      0.022       0.008       0.110\n",
            "ret_eth_3      0.0061      0.027      0.226      0.822      -0.047       0.059\n",
            "==============================================================================\n",
            "Omnibus:                      207.684   Durbin-Watson:                   1.999\n",
            "Prob(Omnibus):                  0.000   Jarque-Bera (JB):             2061.491\n",
            "Skew:                          -0.259   Prob(JB):                         0.00\n",
            "Kurtosis:                       8.701   Cond. No.                         20.9\n",
            "==============================================================================\n",
            "\n",
            "Warnings:\n",
            "[1] Standard Errors assume that the covariance matrix of the errors is correctly specified.\n"
          ]
        }
      ]
    },
    {
      "cell_type": "code",
      "source": [
        "# 跑回歸 跨期關係\n",
        "# eth(t) = a + b*doge(t-1)+ doge(t-2)+ doge(t-3)\n",
        "y = data.ret_eth\n",
        "x = sm.add_constant(data[['ret_doge_1','ret_doge_2','ret_doge_3','ret_eth_1','ret_eth_2','ret_eth_3']])\n",
        "result = sm.OLS(y,x,missing='drop').fit()\n",
        "print(result.summary())"
      ],
      "metadata": {
        "colab": {
          "base_uri": "https://localhost:8080/"
        },
        "id": "k0PFvQCnIFmA",
        "outputId": "8d90345b-f791-43d5-def7-8e5981cc230e"
      },
      "execution_count": null,
      "outputs": [
        {
          "output_type": "stream",
          "name": "stdout",
          "text": [
            "                            OLS Regression Results                            \n",
            "==============================================================================\n",
            "Dep. Variable:                ret_eth   R-squared:                       0.010\n",
            "Model:                            OLS   Adj. R-squared:                  0.006\n",
            "Method:                 Least Squares   F-statistic:                     2.511\n",
            "Date:                Tue, 18 Jan 2022   Prob (F-statistic):             0.0202\n",
            "Time:                        12:20:56   Log-Likelihood:                 2334.9\n",
            "No. Observations:                1510   AIC:                            -4656.\n",
            "Df Residuals:                    1503   BIC:                            -4619.\n",
            "Df Model:                           6                                         \n",
            "Covariance Type:            nonrobust                                         \n",
            "==============================================================================\n",
            "                 coef    std err          t      P>|t|      [0.025      0.975]\n",
            "------------------------------------------------------------------------------\n",
            "const          0.0028      0.001      2.087      0.037       0.000       0.005\n",
            "ret_doge_1     0.0290      0.012      2.497      0.013       0.006       0.052\n",
            "ret_doge_2     0.0033      0.012      0.282      0.778      -0.020       0.026\n",
            "ret_doge_3    -0.0033      0.012     -0.286      0.775      -0.026       0.019\n",
            "ret_eth_1     -0.0649      0.027     -2.399      0.017      -0.118      -0.012\n",
            "ret_eth_2      0.0598      0.027      2.208      0.027       0.007       0.113\n",
            "ret_eth_3      0.0045      0.027      0.165      0.869      -0.049       0.058\n",
            "==============================================================================\n",
            "Omnibus:                      208.309   Durbin-Watson:                   1.999\n",
            "Prob(Omnibus):                  0.000   Jarque-Bera (JB):             2012.409\n",
            "Skew:                          -0.278   Prob(JB):                         0.00\n",
            "Kurtosis:                       8.628   Cond. No.                         21.0\n",
            "==============================================================================\n",
            "\n",
            "Warnings:\n",
            "[1] Standard Errors assume that the covariance matrix of the errors is correctly specified.\n"
          ]
        }
      ]
    },
    {
      "cell_type": "markdown",
      "source": [
        "#SHIB對ETH的影響"
      ],
      "metadata": {
        "id": "P3mR8ZqjIi0s"
      }
    },
    {
      "cell_type": "code",
      "source": [
        "data_1 = yf.Ticker('ETH-USD').history(period='max')\n",
        "data_1.info()\n",
        "data_2 = yf.Ticker('DOGE-USD').history(period='max')\n",
        "data_2.info()"
      ],
      "metadata": {
        "colab": {
          "base_uri": "https://localhost:8080/"
        },
        "id": "gU-4dNxcItAE",
        "outputId": "1b6dcc39-b013-47cf-d458-c13385e44cf3"
      },
      "execution_count": null,
      "outputs": [
        {
          "output_type": "stream",
          "name": "stdout",
          "text": [
            "<class 'pandas.core.frame.DataFrame'>\n",
            "DatetimeIndex: 1532 entries, 2017-11-09 to 2022-01-18\n",
            "Data columns (total 7 columns):\n",
            " #   Column        Non-Null Count  Dtype  \n",
            "---  ------        --------------  -----  \n",
            " 0   Open          1532 non-null   float64\n",
            " 1   High          1532 non-null   float64\n",
            " 2   Low           1532 non-null   float64\n",
            " 3   Close         1532 non-null   float64\n",
            " 4   Volume        1532 non-null   int64  \n",
            " 5   Dividends     1532 non-null   int64  \n",
            " 6   Stock Splits  1532 non-null   int64  \n",
            "dtypes: float64(4), int64(3)\n",
            "memory usage: 95.8 KB\n",
            "<class 'pandas.core.frame.DataFrame'>\n",
            "DatetimeIndex: 1532 entries, 2017-11-09 to 2022-01-18\n",
            "Data columns (total 7 columns):\n",
            " #   Column        Non-Null Count  Dtype  \n",
            "---  ------        --------------  -----  \n",
            " 0   Open          1532 non-null   float64\n",
            " 1   High          1532 non-null   float64\n",
            " 2   Low           1532 non-null   float64\n",
            " 3   Close         1532 non-null   float64\n",
            " 4   Volume        1532 non-null   int64  \n",
            " 5   Dividends     1532 non-null   int64  \n",
            " 6   Stock Splits  1532 non-null   int64  \n",
            "dtypes: float64(4), int64(3)\n",
            "memory usage: 95.8 KB\n"
          ]
        }
      ]
    },
    {
      "cell_type": "code",
      "source": [
        "data_1 = data_1['2017':'2021']\n",
        "data_1.info()\n",
        "data_2 = data_2['2017':'2021']\n",
        "data_2.info()"
      ],
      "metadata": {
        "colab": {
          "base_uri": "https://localhost:8080/"
        },
        "id": "hvFCNFqHJcg7",
        "outputId": "3f5df12b-eb19-4868-cc51-c15c367c51c4"
      },
      "execution_count": null,
      "outputs": [
        {
          "output_type": "stream",
          "name": "stdout",
          "text": [
            "<class 'pandas.core.frame.DataFrame'>\n",
            "DatetimeIndex: 1514 entries, 2017-11-09 to 2021-12-31\n",
            "Data columns (total 7 columns):\n",
            " #   Column        Non-Null Count  Dtype  \n",
            "---  ------        --------------  -----  \n",
            " 0   Open          1514 non-null   float64\n",
            " 1   High          1514 non-null   float64\n",
            " 2   Low           1514 non-null   float64\n",
            " 3   Close         1514 non-null   float64\n",
            " 4   Volume        1514 non-null   int64  \n",
            " 5   Dividends     1514 non-null   int64  \n",
            " 6   Stock Splits  1514 non-null   int64  \n",
            "dtypes: float64(4), int64(3)\n",
            "memory usage: 94.6 KB\n",
            "<class 'pandas.core.frame.DataFrame'>\n",
            "DatetimeIndex: 1514 entries, 2017-11-09 to 2021-12-31\n",
            "Data columns (total 7 columns):\n",
            " #   Column        Non-Null Count  Dtype  \n",
            "---  ------        --------------  -----  \n",
            " 0   Open          1514 non-null   float64\n",
            " 1   High          1514 non-null   float64\n",
            " 2   Low           1514 non-null   float64\n",
            " 3   Close         1514 non-null   float64\n",
            " 4   Volume        1514 non-null   int64  \n",
            " 5   Dividends     1514 non-null   int64  \n",
            " 6   Stock Splits  1514 non-null   int64  \n",
            "dtypes: float64(4), int64(3)\n",
            "memory usage: 94.6 KB\n"
          ]
        }
      ]
    },
    {
      "cell_type": "code",
      "source": [
        "data_1 = data_1[['Close','Volume']]\n",
        "data_1.columns = ['price_eth','volume_eth']\n",
        "data_1.info()\n",
        "data_2 = data_2[['Close','Volume']]\n",
        "data_2.columns = ['price_shib','volume_shib']\n",
        "data_2.info()"
      ],
      "metadata": {
        "colab": {
          "base_uri": "https://localhost:8080/"
        },
        "id": "X-TXW5bcJiuB",
        "outputId": "572a8a25-2a60-4ce0-9ad2-41f75a23c98c"
      },
      "execution_count": null,
      "outputs": [
        {
          "output_type": "stream",
          "name": "stdout",
          "text": [
            "<class 'pandas.core.frame.DataFrame'>\n",
            "DatetimeIndex: 1514 entries, 2017-11-09 to 2021-12-31\n",
            "Data columns (total 2 columns):\n",
            " #   Column      Non-Null Count  Dtype  \n",
            "---  ------      --------------  -----  \n",
            " 0   price_eth   1514 non-null   float64\n",
            " 1   volume_eth  1514 non-null   int64  \n",
            "dtypes: float64(1), int64(1)\n",
            "memory usage: 35.5 KB\n",
            "<class 'pandas.core.frame.DataFrame'>\n",
            "DatetimeIndex: 1514 entries, 2017-11-09 to 2021-12-31\n",
            "Data columns (total 2 columns):\n",
            " #   Column       Non-Null Count  Dtype  \n",
            "---  ------       --------------  -----  \n",
            " 0   price_shib   1514 non-null   float64\n",
            " 1   volume_shib  1514 non-null   int64  \n",
            "dtypes: float64(1), int64(1)\n",
            "memory usage: 35.5 KB\n"
          ]
        }
      ]
    },
    {
      "cell_type": "code",
      "source": [
        "data = pd.merge(data_1,data_2,left_index=True,right_index=True)\n",
        "data.info()"
      ],
      "metadata": {
        "colab": {
          "base_uri": "https://localhost:8080/"
        },
        "id": "2vLEjkb6JwYN",
        "outputId": "746dd668-0c13-4b52-a6ca-357bd84f48a8"
      },
      "execution_count": null,
      "outputs": [
        {
          "output_type": "stream",
          "name": "stdout",
          "text": [
            "<class 'pandas.core.frame.DataFrame'>\n",
            "DatetimeIndex: 1514 entries, 2017-11-09 to 2021-12-31\n",
            "Data columns (total 4 columns):\n",
            " #   Column       Non-Null Count  Dtype  \n",
            "---  ------       --------------  -----  \n",
            " 0   price_eth    1514 non-null   float64\n",
            " 1   volume_eth   1514 non-null   int64  \n",
            " 2   price_shib   1514 non-null   float64\n",
            " 3   volume_shib  1514 non-null   int64  \n",
            "dtypes: float64(2), int64(2)\n",
            "memory usage: 99.1 KB\n"
          ]
        }
      ]
    },
    {
      "cell_type": "code",
      "source": [
        "data['ret_eth'] = data.price_eth.pct_change()\n",
        "data['ret_eth_1'] = data.price_eth.pct_change().shift()\n",
        "data['ret_eth_2'] = data.price_eth.pct_change().shift(2)\n",
        "data['ret_eth_3'] = data.price_eth.pct_change().shift(3)"
      ],
      "metadata": {
        "id": "68M-iQtLJ8lu"
      },
      "execution_count": null,
      "outputs": []
    },
    {
      "cell_type": "code",
      "source": [
        "data['ret_shib'] = data.price_shib.pct_change()\n",
        "data['ret_shib_1'] = data.price_shib.pct_change().shift()\n",
        "data['ret_shib_2'] = data.price_shib.pct_change().shift(2)\n",
        "data['ret_shib_3'] = data.price_shib.pct_change().shift(3)"
      ],
      "metadata": {
        "id": "4RZasmBcJ9dF"
      },
      "execution_count": null,
      "outputs": []
    },
    {
      "cell_type": "code",
      "source": [
        "data.info()"
      ],
      "metadata": {
        "colab": {
          "base_uri": "https://localhost:8080/"
        },
        "id": "t_42mbkIKIsk",
        "outputId": "1ebb4965-f854-4ae0-aa6e-470e3601c11e"
      },
      "execution_count": null,
      "outputs": [
        {
          "output_type": "stream",
          "name": "stdout",
          "text": [
            "<class 'pandas.core.frame.DataFrame'>\n",
            "DatetimeIndex: 1514 entries, 2017-11-09 to 2021-12-31\n",
            "Data columns (total 12 columns):\n",
            " #   Column       Non-Null Count  Dtype  \n",
            "---  ------       --------------  -----  \n",
            " 0   price_eth    1514 non-null   float64\n",
            " 1   volume_eth   1514 non-null   int64  \n",
            " 2   price_shib   1514 non-null   float64\n",
            " 3   volume_shib  1514 non-null   int64  \n",
            " 4   ret_eth      1513 non-null   float64\n",
            " 5   ret_eth_1    1512 non-null   float64\n",
            " 6   ret_eth_2    1511 non-null   float64\n",
            " 7   ret_eth_3    1510 non-null   float64\n",
            " 8   ret_shib     1513 non-null   float64\n",
            " 9   ret_shib_1   1512 non-null   float64\n",
            " 10  ret_shib_2   1511 non-null   float64\n",
            " 11  ret_shib_3   1510 non-null   float64\n",
            "dtypes: float64(10), int64(2)\n",
            "memory usage: 193.8 KB\n"
          ]
        }
      ]
    },
    {
      "cell_type": "code",
      "source": [
        "# 跑回歸 同期關係\n",
        "# eth = a + b*shib\n",
        "y = data.ret_eth\n",
        "x = sm.add_constant(data[['ret_shib','ret_eth_1','ret_eth_2','ret_eth_3']])\n",
        "result = sm.OLS(y,x,missing='drop').fit()\n",
        "print(result.summary())"
      ],
      "metadata": {
        "colab": {
          "base_uri": "https://localhost:8080/"
        },
        "id": "tz6RT8uPKQEg",
        "outputId": "b3a179d1-5882-4035-b655-374bc16adc4b"
      },
      "execution_count": null,
      "outputs": [
        {
          "output_type": "stream",
          "name": "stdout",
          "text": [
            "                            OLS Regression Results                            \n",
            "==============================================================================\n",
            "Dep. Variable:                ret_eth   R-squared:                       0.096\n",
            "Model:                            OLS   Adj. R-squared:                  0.094\n",
            "Method:                 Least Squares   F-statistic:                     40.10\n",
            "Date:                Tue, 18 Jan 2022   Prob (F-statistic):           5.88e-32\n",
            "Time:                        12:28:48   Log-Likelihood:                 2403.8\n",
            "No. Observations:                1510   AIC:                            -4798.\n",
            "Df Residuals:                    1505   BIC:                            -4771.\n",
            "Df Model:                           4                                         \n",
            "Covariance Type:            nonrobust                                         \n",
            "==============================================================================\n",
            "                 coef    std err          t      P>|t|      [0.025      0.975]\n",
            "------------------------------------------------------------------------------\n",
            "const          0.0020      0.001      1.546      0.122      -0.001       0.004\n",
            "ret_shib       0.1295      0.011     12.294      0.000       0.109       0.150\n",
            "ret_eth_1     -0.0245      0.025     -0.994      0.320      -0.073       0.024\n",
            "ret_eth_2      0.0486      0.025      1.977      0.048       0.000       0.097\n",
            "ret_eth_3     -0.0039      0.025     -0.158      0.875      -0.052       0.044\n",
            "==============================================================================\n",
            "Omnibus:                      284.419   Durbin-Watson:                   2.024\n",
            "Prob(Omnibus):                  0.000   Jarque-Bera (JB):             3662.945\n",
            "Skew:                          -0.476   Prob(JB):                         0.00\n",
            "Kurtosis:                      10.570   Cond. No.                         20.0\n",
            "==============================================================================\n",
            "\n",
            "Warnings:\n",
            "[1] Standard Errors assume that the covariance matrix of the errors is correctly specified.\n"
          ]
        }
      ]
    },
    {
      "cell_type": "code",
      "source": [
        "# 跑回歸 跨期關係\n",
        "# eth(t) = a + b*shib(t-1)\n",
        "y = data.ret_eth\n",
        "x = sm.add_constant(data[['ret_shib_1','ret_eth_1','ret_eth_2','ret_eth_3']])\n",
        "result = sm.OLS(y,x,missing='drop').fit()\n",
        "print(result.summary())"
      ],
      "metadata": {
        "colab": {
          "base_uri": "https://localhost:8080/"
        },
        "id": "Drc85UIEKiTS",
        "outputId": "e010bfc8-cde1-4f31-a6ac-2c1c84a6418e"
      },
      "execution_count": null,
      "outputs": [
        {
          "output_type": "stream",
          "name": "stdout",
          "text": [
            "                            OLS Regression Results                            \n",
            "==============================================================================\n",
            "Dep. Variable:                ret_eth   R-squared:                       0.010\n",
            "Model:                            OLS   Adj. R-squared:                  0.007\n",
            "Method:                 Least Squares   F-statistic:                     3.733\n",
            "Date:                Tue, 18 Jan 2022   Prob (F-statistic):            0.00498\n",
            "Time:                        12:30:12   Log-Likelihood:                 2334.8\n",
            "No. Observations:                1510   AIC:                            -4660.\n",
            "Df Residuals:                    1505   BIC:                            -4633.\n",
            "Df Model:                           4                                         \n",
            "Covariance Type:            nonrobust                                         \n",
            "==============================================================================\n",
            "                 coef    std err          t      P>|t|      [0.025      0.975]\n",
            "------------------------------------------------------------------------------\n",
            "const          0.0028      0.001      2.091      0.037       0.000       0.005\n",
            "ret_shib_1     0.0294      0.012      2.548      0.011       0.007       0.052\n",
            "ret_eth_1     -0.0648      0.027     -2.400      0.016      -0.118      -0.012\n",
            "ret_eth_2      0.0618      0.026      2.401      0.016       0.011       0.112\n",
            "ret_eth_3      0.0017      0.026      0.064      0.949      -0.049       0.052\n",
            "==============================================================================\n",
            "Omnibus:                      208.026   Durbin-Watson:                   2.001\n",
            "Prob(Omnibus):                  0.000   Jarque-Bera (JB):             2011.454\n",
            "Skew:                          -0.276   Prob(JB):                         0.00\n",
            "Kurtosis:                       8.627   Cond. No.                         20.7\n",
            "==============================================================================\n",
            "\n",
            "Warnings:\n",
            "[1] Standard Errors assume that the covariance matrix of the errors is correctly specified.\n"
          ]
        }
      ]
    },
    {
      "cell_type": "code",
      "source": [
        "# 跑回歸 跨期關係\n",
        "# eth(t) = a + b*shib(t-2)\n",
        "y = data.ret_eth\n",
        "x = sm.add_constant(data[['ret_shib_2','ret_eth_1','ret_eth_2','ret_eth_3']])\n",
        "result = sm.OLS(y,x,missing='drop').fit()\n",
        "print(result.summary())"
      ],
      "metadata": {
        "colab": {
          "base_uri": "https://localhost:8080/"
        },
        "id": "nht-4eS8KrEc",
        "outputId": "edbd4952-60ee-4555-ebe6-ff23888831a4"
      },
      "execution_count": null,
      "outputs": [
        {
          "output_type": "stream",
          "name": "stdout",
          "text": [
            "                            OLS Regression Results                            \n",
            "==============================================================================\n",
            "Dep. Variable:                ret_eth   R-squared:                       0.006\n",
            "Model:                            OLS   Adj. R-squared:                  0.003\n",
            "Method:                 Least Squares   F-statistic:                     2.152\n",
            "Date:                Tue, 18 Jan 2022   Prob (F-statistic):             0.0723\n",
            "Time:                        12:30:29   Log-Likelihood:                 2331.7\n",
            "No. Observations:                1510   AIC:                            -4653.\n",
            "Df Residuals:                    1505   BIC:                            -4627.\n",
            "Df Model:                           4                                         \n",
            "Covariance Type:            nonrobust                                         \n",
            "==============================================================================\n",
            "                 coef    std err          t      P>|t|      [0.025      0.975]\n",
            "------------------------------------------------------------------------------\n",
            "const          0.0029      0.001      2.189      0.029       0.000       0.006\n",
            "ret_shib_2     0.0052      0.012      0.445      0.656      -0.018       0.028\n",
            "ret_eth_1     -0.0447      0.026     -1.732      0.083      -0.095       0.006\n",
            "ret_eth_2      0.0546      0.027      2.019      0.044       0.002       0.108\n",
            "ret_eth_3      0.0033      0.026      0.128      0.898      -0.047       0.054\n",
            "==============================================================================\n",
            "Omnibus:                      207.362   Durbin-Watson:                   2.000\n",
            "Prob(Omnibus):                  0.000   Jarque-Bera (JB):             2051.896\n",
            "Skew:                          -0.259   Prob(JB):                         0.00\n",
            "Kurtosis:                       8.687   Cond. No.                         20.8\n",
            "==============================================================================\n",
            "\n",
            "Warnings:\n",
            "[1] Standard Errors assume that the covariance matrix of the errors is correctly specified.\n"
          ]
        }
      ]
    },
    {
      "cell_type": "code",
      "source": [
        "# 跑回歸 跨期關係\n",
        "# eth(t) = a + b*shib(t-3)\n",
        "y = data.ret_eth\n",
        "x = sm.add_constant(data[['ret_shib_3','ret_eth_1','ret_eth_2','ret_eth_3']])\n",
        "result = sm.OLS(y,x,missing='drop').fit()\n",
        "print(result.summary())"
      ],
      "metadata": {
        "colab": {
          "base_uri": "https://localhost:8080/"
        },
        "id": "fezeppNuKuDJ",
        "outputId": "736044aa-59a2-41e4-f879-9c3cb0079cda"
      },
      "execution_count": null,
      "outputs": [
        {
          "output_type": "stream",
          "name": "stdout",
          "text": [
            "                            OLS Regression Results                            \n",
            "==============================================================================\n",
            "Dep. Variable:                ret_eth   R-squared:                       0.006\n",
            "Model:                            OLS   Adj. R-squared:                  0.003\n",
            "Method:                 Least Squares   F-statistic:                     2.145\n",
            "Date:                Tue, 18 Jan 2022   Prob (F-statistic):             0.0731\n",
            "Time:                        12:30:42   Log-Likelihood:                 2331.7\n",
            "No. Observations:                1510   AIC:                            -4653.\n",
            "Df Residuals:                    1505   BIC:                            -4627.\n",
            "Df Model:                           4                                         \n",
            "Covariance Type:            nonrobust                                         \n",
            "==============================================================================\n",
            "                 coef    std err          t      P>|t|      [0.025      0.975]\n",
            "------------------------------------------------------------------------------\n",
            "const          0.0030      0.001      2.226      0.026       0.000       0.006\n",
            "ret_shib_3    -0.0048      0.012     -0.414      0.679      -0.028       0.018\n",
            "ret_eth_1     -0.0439      0.026     -1.702      0.089      -0.094       0.007\n",
            "ret_eth_2      0.0590      0.026      2.285      0.022       0.008       0.110\n",
            "ret_eth_3      0.0061      0.027      0.226      0.822      -0.047       0.059\n",
            "==============================================================================\n",
            "Omnibus:                      207.684   Durbin-Watson:                   1.999\n",
            "Prob(Omnibus):                  0.000   Jarque-Bera (JB):             2061.491\n",
            "Skew:                          -0.259   Prob(JB):                         0.00\n",
            "Kurtosis:                       8.701   Cond. No.                         20.9\n",
            "==============================================================================\n",
            "\n",
            "Warnings:\n",
            "[1] Standard Errors assume that the covariance matrix of the errors is correctly specified.\n"
          ]
        }
      ]
    },
    {
      "cell_type": "code",
      "source": [
        "# 跑回歸 跨期關係\n",
        "# eth(t) = a + b*shib(t-1)+ shib(t-2)+ shib(t-3)\n",
        "y = data.ret_eth\n",
        "x = sm.add_constant(data[['ret_shib_1','ret_shib_2','ret_shib_3','ret_eth_1','ret_eth_2','ret_eth_3']])\n",
        "result = sm.OLS(y,x,missing='drop').fit()\n",
        "print(result.summary())"
      ],
      "metadata": {
        "colab": {
          "base_uri": "https://localhost:8080/"
        },
        "id": "aTRGcsElKZX2",
        "outputId": "888cb94d-674b-4125-fc6c-43f7f237fc22"
      },
      "execution_count": null,
      "outputs": [
        {
          "output_type": "stream",
          "name": "stdout",
          "text": [
            "                            OLS Regression Results                            \n",
            "==============================================================================\n",
            "Dep. Variable:                ret_eth   R-squared:                       0.010\n",
            "Model:                            OLS   Adj. R-squared:                  0.006\n",
            "Method:                 Least Squares   F-statistic:                     2.511\n",
            "Date:                Tue, 18 Jan 2022   Prob (F-statistic):             0.0202\n",
            "Time:                        12:31:15   Log-Likelihood:                 2334.9\n",
            "No. Observations:                1510   AIC:                            -4656.\n",
            "Df Residuals:                    1503   BIC:                            -4619.\n",
            "Df Model:                           6                                         \n",
            "Covariance Type:            nonrobust                                         \n",
            "==============================================================================\n",
            "                 coef    std err          t      P>|t|      [0.025      0.975]\n",
            "------------------------------------------------------------------------------\n",
            "const          0.0028      0.001      2.087      0.037       0.000       0.005\n",
            "ret_shib_1     0.0290      0.012      2.497      0.013       0.006       0.052\n",
            "ret_shib_2     0.0033      0.012      0.282      0.778      -0.020       0.026\n",
            "ret_shib_3    -0.0033      0.012     -0.286      0.775      -0.026       0.019\n",
            "ret_eth_1     -0.0649      0.027     -2.399      0.017      -0.118      -0.012\n",
            "ret_eth_2      0.0598      0.027      2.208      0.027       0.007       0.113\n",
            "ret_eth_3      0.0045      0.027      0.165      0.869      -0.049       0.058\n",
            "==============================================================================\n",
            "Omnibus:                      208.309   Durbin-Watson:                   1.999\n",
            "Prob(Omnibus):                  0.000   Jarque-Bera (JB):             2012.409\n",
            "Skew:                          -0.278   Prob(JB):                         0.00\n",
            "Kurtosis:                       8.628   Cond. No.                         21.0\n",
            "==============================================================================\n",
            "\n",
            "Warnings:\n",
            "[1] Standard Errors assume that the covariance matrix of the errors is correctly specified.\n"
          ]
        }
      ]
    },
    {
      "cell_type": "markdown",
      "source": [
        "#FTM對ETH報酬的影響"
      ],
      "metadata": {
        "id": "AZFTFeTVaC-Q"
      }
    },
    {
      "cell_type": "code",
      "source": [
        "data_1 = yf.Ticker('ETH-USD').history(period='max')\n",
        "data_1.info()\n",
        "data_2 = yf.Ticker('FTM-USD').history(period='max')\n",
        "data_2.info()"
      ],
      "metadata": {
        "colab": {
          "base_uri": "https://localhost:8080/"
        },
        "id": "rEqEaoQNaIrx",
        "outputId": "87719a7d-6044-4dc7-eb7f-dcc8d31bbab0"
      },
      "execution_count": null,
      "outputs": [
        {
          "output_type": "stream",
          "name": "stdout",
          "text": [
            "<class 'pandas.core.frame.DataFrame'>\n",
            "DatetimeIndex: 1532 entries, 2017-11-09 to 2022-01-18\n",
            "Data columns (total 7 columns):\n",
            " #   Column        Non-Null Count  Dtype  \n",
            "---  ------        --------------  -----  \n",
            " 0   Open          1532 non-null   float64\n",
            " 1   High          1532 non-null   float64\n",
            " 2   Low           1532 non-null   float64\n",
            " 3   Close         1532 non-null   float64\n",
            " 4   Volume        1532 non-null   int64  \n",
            " 5   Dividends     1532 non-null   int64  \n",
            " 6   Stock Splits  1532 non-null   int64  \n",
            "dtypes: float64(4), int64(3)\n",
            "memory usage: 95.8 KB\n",
            "<class 'pandas.core.frame.DataFrame'>\n",
            "DatetimeIndex: 1177 entries, 2018-10-30 to 2022-01-18\n",
            "Data columns (total 7 columns):\n",
            " #   Column        Non-Null Count  Dtype  \n",
            "---  ------        --------------  -----  \n",
            " 0   Open          1177 non-null   float64\n",
            " 1   High          1177 non-null   float64\n",
            " 2   Low           1177 non-null   float64\n",
            " 3   Close         1177 non-null   float64\n",
            " 4   Volume        1177 non-null   int64  \n",
            " 5   Dividends     1177 non-null   int64  \n",
            " 6   Stock Splits  1177 non-null   int64  \n",
            "dtypes: float64(4), int64(3)\n",
            "memory usage: 73.6 KB\n"
          ]
        }
      ]
    },
    {
      "cell_type": "code",
      "source": [
        "data_1 = data_1['2017':'2021']\n",
        "data_1.info()\n",
        "data_2 = data_2['2017':'2021']\n",
        "data_2.info()"
      ],
      "metadata": {
        "colab": {
          "base_uri": "https://localhost:8080/"
        },
        "id": "wvwzz6-IcdOx",
        "outputId": "1b82b250-4db9-4f93-cb4e-c58880d6adfe"
      },
      "execution_count": null,
      "outputs": [
        {
          "output_type": "stream",
          "name": "stdout",
          "text": [
            "<class 'pandas.core.frame.DataFrame'>\n",
            "DatetimeIndex: 1514 entries, 2017-11-09 to 2021-12-31\n",
            "Data columns (total 7 columns):\n",
            " #   Column        Non-Null Count  Dtype  \n",
            "---  ------        --------------  -----  \n",
            " 0   Open          1514 non-null   float64\n",
            " 1   High          1514 non-null   float64\n",
            " 2   Low           1514 non-null   float64\n",
            " 3   Close         1514 non-null   float64\n",
            " 4   Volume        1514 non-null   int64  \n",
            " 5   Dividends     1514 non-null   int64  \n",
            " 6   Stock Splits  1514 non-null   int64  \n",
            "dtypes: float64(4), int64(3)\n",
            "memory usage: 94.6 KB\n",
            "<class 'pandas.core.frame.DataFrame'>\n",
            "DatetimeIndex: 1159 entries, 2018-10-30 to 2021-12-31\n",
            "Data columns (total 7 columns):\n",
            " #   Column        Non-Null Count  Dtype  \n",
            "---  ------        --------------  -----  \n",
            " 0   Open          1159 non-null   float64\n",
            " 1   High          1159 non-null   float64\n",
            " 2   Low           1159 non-null   float64\n",
            " 3   Close         1159 non-null   float64\n",
            " 4   Volume        1159 non-null   int64  \n",
            " 5   Dividends     1159 non-null   int64  \n",
            " 6   Stock Splits  1159 non-null   int64  \n",
            "dtypes: float64(4), int64(3)\n",
            "memory usage: 72.4 KB\n"
          ]
        }
      ]
    },
    {
      "cell_type": "code",
      "source": [
        "data_1 = data_1[['Close','Volume']]\n",
        "data_1.columns = ['price_eth','volume_eth']\n",
        "data_1.info()\n",
        "data_2 = data_2[['Close','Volume']]\n",
        "data_2.columns = ['price_ftm','volume_ftm']\n",
        "data_2.info()"
      ],
      "metadata": {
        "colab": {
          "base_uri": "https://localhost:8080/"
        },
        "id": "GxeCLdfkevgz",
        "outputId": "7d68f5f5-dee8-43f9-e3b0-5560ddf43cb2"
      },
      "execution_count": null,
      "outputs": [
        {
          "output_type": "stream",
          "name": "stdout",
          "text": [
            "<class 'pandas.core.frame.DataFrame'>\n",
            "DatetimeIndex: 1514 entries, 2017-11-09 to 2021-12-31\n",
            "Data columns (total 2 columns):\n",
            " #   Column      Non-Null Count  Dtype  \n",
            "---  ------      --------------  -----  \n",
            " 0   price_eth   1514 non-null   float64\n",
            " 1   volume_eth  1514 non-null   int64  \n",
            "dtypes: float64(1), int64(1)\n",
            "memory usage: 35.5 KB\n",
            "<class 'pandas.core.frame.DataFrame'>\n",
            "DatetimeIndex: 1159 entries, 2018-10-30 to 2021-12-31\n",
            "Data columns (total 2 columns):\n",
            " #   Column      Non-Null Count  Dtype  \n",
            "---  ------      --------------  -----  \n",
            " 0   price_ftm   1159 non-null   float64\n",
            " 1   volume_ftm  1159 non-null   int64  \n",
            "dtypes: float64(1), int64(1)\n",
            "memory usage: 27.2 KB\n"
          ]
        }
      ]
    },
    {
      "cell_type": "code",
      "source": [
        "data = pd.merge(data_1,data_2,left_index=True,right_index=True)\n",
        "data.info()"
      ],
      "metadata": {
        "colab": {
          "base_uri": "https://localhost:8080/"
        },
        "id": "8dpK9EsufBkT",
        "outputId": "5dcf1e78-8928-4585-8a29-754ad8ffd2f3"
      },
      "execution_count": null,
      "outputs": [
        {
          "output_type": "stream",
          "name": "stdout",
          "text": [
            "<class 'pandas.core.frame.DataFrame'>\n",
            "DatetimeIndex: 1159 entries, 2018-10-30 to 2021-12-31\n",
            "Data columns (total 4 columns):\n",
            " #   Column      Non-Null Count  Dtype  \n",
            "---  ------      --------------  -----  \n",
            " 0   price_eth   1159 non-null   float64\n",
            " 1   volume_eth  1159 non-null   int64  \n",
            " 2   price_ftm   1159 non-null   float64\n",
            " 3   volume_ftm  1159 non-null   int64  \n",
            "dtypes: float64(2), int64(2)\n",
            "memory usage: 45.3 KB\n"
          ]
        }
      ]
    },
    {
      "cell_type": "code",
      "source": [
        "data['ret_eth'] = data.price_eth.pct_change()\n",
        "data['ret_eth_1'] = data.price_eth.pct_change().shift()\n",
        "data['ret_eth_2'] = data.price_eth.pct_change().shift(2)\n",
        "data['ret_eth_3'] = data.price_eth.pct_change().shift(3)"
      ],
      "metadata": {
        "id": "7ErnSQcxfGBo"
      },
      "execution_count": null,
      "outputs": []
    },
    {
      "cell_type": "code",
      "source": [
        "data['ret_ftm'] = data.price_ftm.pct_change()\n",
        "data['ret_ftm_1'] = data.price_ftm.pct_change().shift()\n",
        "data['ret_ftm_2'] = data.price_ftm.pct_change().shift(2)\n",
        "data['ret_ftm_3'] = data.price_ftm.pct_change().shift(3)"
      ],
      "metadata": {
        "id": "FBqme_bAfHG7"
      },
      "execution_count": null,
      "outputs": []
    },
    {
      "cell_type": "code",
      "source": [
        "data.info()"
      ],
      "metadata": {
        "colab": {
          "base_uri": "https://localhost:8080/"
        },
        "id": "GZ8xhXOAfPIm",
        "outputId": "2d3d1249-17c3-4fdd-dc78-1ac5067ed227"
      },
      "execution_count": null,
      "outputs": [
        {
          "output_type": "stream",
          "name": "stdout",
          "text": [
            "<class 'pandas.core.frame.DataFrame'>\n",
            "DatetimeIndex: 1159 entries, 2018-10-30 to 2021-12-31\n",
            "Data columns (total 12 columns):\n",
            " #   Column      Non-Null Count  Dtype  \n",
            "---  ------      --------------  -----  \n",
            " 0   price_eth   1159 non-null   float64\n",
            " 1   volume_eth  1159 non-null   int64  \n",
            " 2   price_ftm   1159 non-null   float64\n",
            " 3   volume_ftm  1159 non-null   int64  \n",
            " 4   ret_eth     1158 non-null   float64\n",
            " 5   ret_eth_1   1157 non-null   float64\n",
            " 6   ret_eth_2   1156 non-null   float64\n",
            " 7   ret_eth_3   1155 non-null   float64\n",
            " 8   ret_ftm     1158 non-null   float64\n",
            " 9   ret_ftm_1   1157 non-null   float64\n",
            " 10  ret_ftm_2   1156 non-null   float64\n",
            " 11  ret_ftm_3   1155 non-null   float64\n",
            "dtypes: float64(10), int64(2)\n",
            "memory usage: 117.7 KB\n"
          ]
        }
      ]
    },
    {
      "cell_type": "code",
      "source": [
        "# 跑回歸 同期關係\n",
        "# eth = a + b*ftm\n",
        "y = data.ret_eth\n",
        "x = sm.add_constant(data[['ret_ftm','ret_eth_1','ret_eth_2','ret_eth_3']])\n",
        "result = sm.OLS(y,x,missing='drop').fit()\n",
        "print(result.summary())"
      ],
      "metadata": {
        "colab": {
          "base_uri": "https://localhost:8080/"
        },
        "id": "2Com1taEfYYI",
        "outputId": "8af6f0d2-12bd-46fc-a75f-efc11c674161"
      },
      "execution_count": null,
      "outputs": [
        {
          "output_type": "stream",
          "name": "stdout",
          "text": [
            "                            OLS Regression Results                            \n",
            "==============================================================================\n",
            "Dep. Variable:                ret_eth   R-squared:                       0.279\n",
            "Model:                            OLS   Adj. R-squared:                  0.277\n",
            "Method:                 Least Squares   F-statistic:                     111.3\n",
            "Date:                Tue, 18 Jan 2022   Prob (F-statistic):           3.01e-80\n",
            "Time:                        14:36:39   Log-Likelihood:                 2006.6\n",
            "No. Observations:                1155   AIC:                            -4003.\n",
            "Df Residuals:                    1150   BIC:                            -3978.\n",
            "Df Model:                           4                                         \n",
            "Covariance Type:            nonrobust                                         \n",
            "==============================================================================\n",
            "                 coef    std err          t      P>|t|      [0.025      0.975]\n",
            "------------------------------------------------------------------------------\n",
            "const          0.0017      0.001      1.354      0.176      -0.001       0.004\n",
            "ret_ftm        0.2684      0.013     20.748      0.000       0.243       0.294\n",
            "ret_eth_1     -0.0557      0.025     -2.214      0.027      -0.105      -0.006\n",
            "ret_eth_2      0.0285      0.025      1.131      0.258      -0.021       0.078\n",
            "ret_eth_3     -0.0201      0.025     -0.798      0.425      -0.069       0.029\n",
            "==============================================================================\n",
            "Omnibus:                      123.002   Durbin-Watson:                   1.883\n",
            "Prob(Omnibus):                  0.000   Jarque-Bera (JB):              847.467\n",
            "Skew:                          -0.186   Prob(JB):                    9.44e-185\n",
            "Kurtosis:                       7.180   Cond. No.                         20.9\n",
            "==============================================================================\n",
            "\n",
            "Warnings:\n",
            "[1] Standard Errors assume that the covariance matrix of the errors is correctly specified.\n"
          ]
        }
      ]
    },
    {
      "cell_type": "code",
      "source": [
        "# 跑回歸 跨期關係\n",
        "# eth(t) = a + b*ftm(t-1)\n",
        "y = data.ret_eth\n",
        "x = sm.add_constant(data[['ret_ftm_1','ret_eth_1','ret_eth_2','ret_eth_3']])\n",
        "result = sm.OLS(y,x,missing='drop').fit()\n",
        "print(result.summary())"
      ],
      "metadata": {
        "colab": {
          "base_uri": "https://localhost:8080/"
        },
        "id": "Vb6tyomZnIhe",
        "outputId": "902b643c-b186-4cce-a125-ab6fcb4b2109"
      },
      "execution_count": null,
      "outputs": [
        {
          "output_type": "stream",
          "name": "stdout",
          "text": [
            "                            OLS Regression Results                            \n",
            "==============================================================================\n",
            "Dep. Variable:                ret_eth   R-squared:                       0.016\n",
            "Model:                            OLS   Adj. R-squared:                  0.012\n",
            "Method:                 Least Squares   F-statistic:                     4.623\n",
            "Date:                Tue, 18 Jan 2022   Prob (F-statistic):            0.00105\n",
            "Time:                        14:36:43   Log-Likelihood:                 1826.8\n",
            "No. Observations:                1155   AIC:                            -3644.\n",
            "Df Residuals:                    1150   BIC:                            -3618.\n",
            "Df Model:                           4                                         \n",
            "Covariance Type:            nonrobust                                         \n",
            "==============================================================================\n",
            "                 coef    std err          t      P>|t|      [0.025      0.975]\n",
            "------------------------------------------------------------------------------\n",
            "const          0.0042      0.001      2.821      0.005       0.001       0.007\n",
            "ret_ftm_1     -0.0491      0.018     -2.769      0.006      -0.084      -0.014\n",
            "ret_eth_1     -0.0273      0.034     -0.791      0.429      -0.095       0.040\n",
            "ret_eth_2      0.0490      0.029      1.664      0.096      -0.009       0.107\n",
            "ret_eth_3     -0.0103      0.029     -0.350      0.726      -0.068       0.047\n",
            "==============================================================================\n",
            "Omnibus:                      213.434   Durbin-Watson:                   2.008\n",
            "Prob(Omnibus):                  0.000   Jarque-Bera (JB):             2614.020\n",
            "Skew:                          -0.458   Prob(JB):                         0.00\n",
            "Kurtosis:                      10.313   Cond. No.                         24.6\n",
            "==============================================================================\n",
            "\n",
            "Warnings:\n",
            "[1] Standard Errors assume that the covariance matrix of the errors is correctly specified.\n"
          ]
        }
      ]
    },
    {
      "cell_type": "code",
      "source": [
        "# 跑回歸 跨期關係\n",
        "# eth(t) = a + b*ftm(t-2)\n",
        "y = data.ret_eth\n",
        "x = sm.add_constant(data[['ret_ftm_2','ret_eth_1','ret_eth_2','ret_eth_3']])\n",
        "result = sm.OLS(y,x,missing='drop').fit()\n",
        "print(result.summary())"
      ],
      "metadata": {
        "colab": {
          "base_uri": "https://localhost:8080/"
        },
        "id": "wLbZStF6nPbW",
        "outputId": "91b4148c-6ae7-48f4-b331-2a1c587e4b20"
      },
      "execution_count": null,
      "outputs": [
        {
          "output_type": "stream",
          "name": "stdout",
          "text": [
            "                            OLS Regression Results                            \n",
            "==============================================================================\n",
            "Dep. Variable:                ret_eth   R-squared:                       0.014\n",
            "Model:                            OLS   Adj. R-squared:                  0.010\n",
            "Method:                 Least Squares   F-statistic:                     3.959\n",
            "Date:                Tue, 18 Jan 2022   Prob (F-statistic):            0.00338\n",
            "Time:                        14:36:46   Log-Likelihood:                 1825.5\n",
            "No. Observations:                1155   AIC:                            -3641.\n",
            "Df Residuals:                    1150   BIC:                            -3616.\n",
            "Df Model:                           4                                         \n",
            "Covariance Type:            nonrobust                                         \n",
            "==============================================================================\n",
            "                 coef    std err          t      P>|t|      [0.025      0.975]\n",
            "------------------------------------------------------------------------------\n",
            "const          0.0042      0.001      2.805      0.005       0.001       0.007\n",
            "ret_ftm_2     -0.0399      0.018     -2.244      0.025      -0.075      -0.005\n",
            "ret_eth_1     -0.0824      0.030     -2.792      0.005      -0.140      -0.025\n",
            "ret_eth_2      0.0891      0.034      2.584      0.010       0.021       0.157\n",
            "ret_eth_3     -0.0113      0.029     -0.383      0.702      -0.069       0.046\n",
            "==============================================================================\n",
            "Omnibus:                      215.260   Durbin-Watson:                   2.003\n",
            "Prob(Omnibus):                  0.000   Jarque-Bera (JB):             2622.771\n",
            "Skew:                          -0.469   Prob(JB):                         0.00\n",
            "Kurtosis:                      10.323   Cond. No.                         24.6\n",
            "==============================================================================\n",
            "\n",
            "Warnings:\n",
            "[1] Standard Errors assume that the covariance matrix of the errors is correctly specified.\n"
          ]
        }
      ]
    },
    {
      "cell_type": "code",
      "source": [
        "#跑回歸 跨期關係\n",
        "# eth(t) = a + b*ftm(t-3)\n",
        "y = data.ret_eth\n",
        "x = sm.add_constant(data[['ret_ftm_3','ret_eth_1','ret_eth_2','ret_eth_3']])\n",
        "result = sm.OLS(y,x,missing='drop').fit()\n",
        "print(result.summary())"
      ],
      "metadata": {
        "colab": {
          "base_uri": "https://localhost:8080/"
        },
        "id": "Qt9iDvbenUWI",
        "outputId": "5bd8f1d0-6f6e-4797-ea22-64adcff064d0"
      },
      "execution_count": null,
      "outputs": [
        {
          "output_type": "stream",
          "name": "stdout",
          "text": [
            "                            OLS Regression Results                            \n",
            "==============================================================================\n",
            "Dep. Variable:                ret_eth   R-squared:                       0.011\n",
            "Model:                            OLS   Adj. R-squared:                  0.008\n",
            "Method:                 Least Squares   F-statistic:                     3.206\n",
            "Date:                Tue, 18 Jan 2022   Prob (F-statistic):             0.0125\n",
            "Time:                        14:36:57   Log-Likelihood:                 1824.0\n",
            "No. Observations:                1155   AIC:                            -3638.\n",
            "Df Residuals:                    1150   BIC:                            -3613.\n",
            "Df Model:                           4                                         \n",
            "Covariance Type:            nonrobust                                         \n",
            "==============================================================================\n",
            "                 coef    std err          t      P>|t|      [0.025      0.975]\n",
            "------------------------------------------------------------------------------\n",
            "const          0.0041      0.001      2.761      0.006       0.001       0.007\n",
            "ret_ftm_3     -0.0255      0.018     -1.432      0.152      -0.061       0.009\n",
            "ret_eth_1     -0.0798      0.030     -2.703      0.007      -0.138      -0.022\n",
            "ret_eth_2      0.0453      0.030      1.528      0.127      -0.013       0.103\n",
            "ret_eth_3      0.0143      0.035      0.415      0.679      -0.053       0.082\n",
            "==============================================================================\n",
            "Omnibus:                      213.532   Durbin-Watson:                   1.998\n",
            "Prob(Omnibus):                  0.000   Jarque-Bera (JB):             2650.205\n",
            "Skew:                          -0.453   Prob(JB):                         0.00\n",
            "Kurtosis:                      10.365   Cond. No.                         24.7\n",
            "==============================================================================\n",
            "\n",
            "Warnings:\n",
            "[1] Standard Errors assume that the covariance matrix of the errors is correctly specified.\n"
          ]
        }
      ]
    },
    {
      "cell_type": "code",
      "source": [
        "# 跑回歸 跨期關係\n",
        "# eth(t) = a + b*ftm(t-1)+ ftm(t-2)+ ftm(t-3)\n",
        "y = data.ret_eth\n",
        "x = sm.add_constant(data[['ret_ftm_1','ret_ftm_2','ret_ftm_3','ret_eth_1','ret_eth_2','ret_eth_3']])\n",
        "result = sm.OLS(y,x,missing='drop').fit()\n",
        "print(result.summary())"
      ],
      "metadata": {
        "colab": {
          "base_uri": "https://localhost:8080/"
        },
        "id": "A8CODf_bfvWV",
        "outputId": "37b145ef-5c30-4b47-83d6-866935759554"
      },
      "execution_count": null,
      "outputs": [
        {
          "output_type": "stream",
          "name": "stdout",
          "text": [
            "                            OLS Regression Results                            \n",
            "==============================================================================\n",
            "Dep. Variable:                ret_eth   R-squared:                       0.020\n",
            "Model:                            OLS   Adj. R-squared:                  0.015\n",
            "Method:                 Least Squares   F-statistic:                     3.973\n",
            "Date:                Tue, 18 Jan 2022   Prob (F-statistic):           0.000610\n",
            "Time:                        14:37:03   Log-Likelihood:                 1829.4\n",
            "No. Observations:                1155   AIC:                            -3645.\n",
            "Df Residuals:                    1148   BIC:                            -3609.\n",
            "Df Model:                           6                                         \n",
            "Covariance Type:            nonrobust                                         \n",
            "==============================================================================\n",
            "                 coef    std err          t      P>|t|      [0.025      0.975]\n",
            "------------------------------------------------------------------------------\n",
            "const          0.0044      0.001      2.994      0.003       0.002       0.007\n",
            "ret_ftm_1     -0.0446      0.018     -2.507      0.012      -0.080      -0.010\n",
            "ret_ftm_2     -0.0351      0.018     -1.966      0.050      -0.070   -6.78e-05\n",
            "ret_ftm_3     -0.0190      0.018     -1.065      0.287      -0.054       0.016\n",
            "ret_eth_1     -0.0386      0.035     -1.109      0.268      -0.107       0.030\n",
            "ret_eth_2      0.0815      0.035      2.354      0.019       0.014       0.149\n",
            "ret_eth_3      0.0090      0.034      0.261      0.794      -0.059       0.077\n",
            "==============================================================================\n",
            "Omnibus:                      216.345   Durbin-Watson:                   1.997\n",
            "Prob(Omnibus):                  0.000   Jarque-Bera (JB):             2657.334\n",
            "Skew:                          -0.471   Prob(JB):                         0.00\n",
            "Kurtosis:                      10.371   Cond. No.                         25.7\n",
            "==============================================================================\n",
            "\n",
            "Warnings:\n",
            "[1] Standard Errors assume that the covariance matrix of the errors is correctly specified.\n"
          ]
        }
      ]
    }
  ]
}